{
 "cells": [
  {
   "cell_type": "markdown",
   "metadata": {},
   "source": [
    "###### Given an array consisting of positive and negative integers, find the length of the longest continuous subset whose sum is zero."
   ]
  },
  {
   "cell_type": "code",
   "execution_count": 1,
   "metadata": {},
   "outputs": [
    {
     "name": "stdout",
     "output_type": "stream",
     "text": [
      "10\n",
      "95 -97 -387 -435 -5 -70 897 127 23 284\n",
      "5\n"
     ]
    }
   ],
   "source": [
    "\n",
    "def subsetSum(l):\n",
    "#Implement Your Code Here\n",
    "    d = dict()\n",
    "    max_s = 0\n",
    "    sum = 0\n",
    "    lenc = 0\n",
    "    for i in range(len(l)):\n",
    "        sum= sum + l[i]\n",
    "        if sum not in d:\n",
    "            d[sum] = i\n",
    "        else:\n",
    "            lenc = i-d[sum]\n",
    "            \n",
    "        if lenc > max_s:\n",
    "            max_s = lenc\n",
    "    return max_s\n",
    "        \n",
    "n=int(input())\n",
    "l=list(int(i) for i in input().strip().split(' '))\n",
    "finalLen= subsetSum(l)\n",
    "print(finalLen)"
   ]
  },
  {
   "cell_type": "code",
   "execution_count": null,
   "metadata": {},
   "outputs": [],
   "source": []
  }
 ],
 "metadata": {
  "kernelspec": {
   "display_name": "Python 3",
   "language": "python",
   "name": "python3"
  },
  "language_info": {
   "codemirror_mode": {
    "name": "ipython",
    "version": 3
   },
   "file_extension": ".py",
   "mimetype": "text/x-python",
   "name": "python",
   "nbconvert_exporter": "python",
   "pygments_lexer": "ipython3",
   "version": "3.7.1"
  }
 },
 "nbformat": 4,
 "nbformat_minor": 2
}

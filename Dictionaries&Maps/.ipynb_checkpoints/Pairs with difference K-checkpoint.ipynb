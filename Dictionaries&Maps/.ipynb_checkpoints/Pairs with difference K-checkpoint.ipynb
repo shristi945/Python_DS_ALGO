{
 "cells": [
  {
   "cell_type": "markdown",
   "metadata": {},
   "source": [
    "###### You are given with an array of integers and an integer K. Write a program to find and print all pairs which have difference K.\n",
    "###### Best solution takes O(n) time. And take difference as absolute."
   ]
  },
  {
   "cell_type": "code",
   "execution_count": 6,
   "metadata": {},
   "outputs": [
    {
     "name": "stdout",
     "output_type": "stream",
     "text": [
      "4\n",
      "4 4 4 4\n",
      "0\n",
      "4 4\n",
      "4 4\n",
      "4 4\n",
      "4 4\n",
      "4 4\n",
      "4 4\n"
     ]
    }
   ],
   "source": [
    "\n",
    "def printPairDiffK(l, k):\n",
    "#Implement Your Code Here\n",
    "    d = dict()\n",
    "    for ele in l:\n",
    "        d[ele] = d.get(ele, 0) + 1\n",
    "        \n",
    "    if k == 0:\n",
    "        for ele in d:\n",
    "            if d[ele]>1:\n",
    "                ways = 2*(d[ele]-1)\n",
    "                for i in range(ways):\n",
    "                    print(ele, ele)\n",
    "                    \n",
    "                \n",
    "    else:\n",
    "        \n",
    "        for ele in d:\n",
    "            if (ele+k) in d:\n",
    "                ways = d[(ele+k)]*d[ele]\n",
    "                for i in range(ways):\n",
    "                    print(min(ele+k, ele), max(ele+k, ele))\n",
    "            if (ele-k) in d:\n",
    "                ways = d[(ele-k)]*d[ele]\n",
    "                for i in range(ways):\n",
    "                    print(min(ele-k, ele), max(ele-k, ele))\n",
    "\n",
    "            d[ele] = 0\n",
    "        \n",
    "        \n",
    "        \n",
    "    \n",
    "        \n",
    "n=int(input())\n",
    "l=list(int(i) for i in input().strip().split(' '))\n",
    "k=int(input())\n",
    "printPairDiffK(l, k)"
   ]
  },
  {
   "cell_type": "code",
   "execution_count": null,
   "metadata": {},
   "outputs": [],
   "source": []
  }
 ],
 "metadata": {
  "kernelspec": {
   "display_name": "Python 3",
   "language": "python",
   "name": "python3"
  },
  "language_info": {
   "codemirror_mode": {
    "name": "ipython",
    "version": 3
   },
   "file_extension": ".py",
   "mimetype": "text/x-python",
   "name": "python",
   "nbconvert_exporter": "python",
   "pygments_lexer": "ipython3",
   "version": "3.7.1"
  }
 },
 "nbformat": 4,
 "nbformat_minor": 2
}

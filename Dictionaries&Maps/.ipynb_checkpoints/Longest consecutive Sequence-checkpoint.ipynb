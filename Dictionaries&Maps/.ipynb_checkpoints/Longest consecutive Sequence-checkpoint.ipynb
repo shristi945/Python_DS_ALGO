{
 "cells": [
  {
   "cell_type": "markdown",
   "metadata": {},
   "source": [
    "###### You are given with an array of integers that contain numbers in random order. Write a program to find the longest possible sequence of consecutive numbers using the numbers from given array.\n",
    "###### You need to return the output array which contains consecutive elements. Order of elements in the output is not important.\n",
    "###### Best solution takes O(n) time.\n",
    "###### If two sequences are of equal length then return the sequence starting with the number whose occurrence is earlier in the array"
   ]
  },
  {
   "cell_type": "code",
   "execution_count": 1,
   "metadata": {},
   "outputs": [
    {
     "name": "stdout",
     "output_type": "stream",
     "text": [
      "13\n",
      "2 12 9 16 10 5 3 20 25 11 1 8 6\n",
      "8\n",
      "9\n",
      "10\n",
      "11\n",
      "12\n"
     ]
    }
   ],
   "source": [
    "def longestConsecutiveIncreasingSequence(l):\n",
    "#Implement Your Code Here\n",
    "#You have To Return the list of longestConsecutiveSubsequence\n",
    "    d= dict()\n",
    "    max_len = 1\n",
    "    start = l[0]\n",
    "    for ele in l:\n",
    "        d[ele] = True\n",
    "    for ele in l:\n",
    "        if ele in d:\n",
    "            if d[ele] is True:\n",
    "                #check if right side element is present in the map or not\n",
    "                startc = ele\n",
    "                lenc = 1\n",
    "                d[ele] = False\n",
    "                right = ele +1\n",
    "                while right in d:\n",
    "                    lenc += 1\n",
    "                    d[right] = False\n",
    "                    right += 1\n",
    "                    \n",
    "                #check if left side element is present in the map or not\n",
    "                ele = startc\n",
    "                left = ele-1\n",
    "                while left in d:\n",
    "                    lenc += 1\n",
    "                    startc = left\n",
    "                    d[left] = False\n",
    "                    left = left-1\n",
    "                \n",
    "                if max_len == lenc:\n",
    "                    if l.index(start)>l.index(startc):\n",
    "                        start = startc\n",
    "                if max_len < lenc:\n",
    "                    max_len = lenc\n",
    "                    start = startc\n",
    "    \n",
    "    res = [e for e in range(start, (start+max_len))]\n",
    "    return res\n",
    "\n",
    "\n",
    "n=int(input())\n",
    "l=list(int(i) for i in input().strip().split(' '))\n",
    "final = longestConsecutiveIncreasingSequence(l)\n",
    "for num in final:\n",
    "    print(num)"
   ]
  },
  {
   "cell_type": "code",
   "execution_count": null,
   "metadata": {},
   "outputs": [],
   "source": []
  }
 ],
 "metadata": {
  "kernelspec": {
   "display_name": "Python 3",
   "language": "python",
   "name": "python3"
  },
  "language_info": {
   "codemirror_mode": {
    "name": "ipython",
    "version": 3
   },
   "file_extension": ".py",
   "mimetype": "text/x-python",
   "name": "python",
   "nbconvert_exporter": "python",
   "pygments_lexer": "ipython3",
   "version": "3.7.1"
  }
 },
 "nbformat": 4,
 "nbformat_minor": 2
}

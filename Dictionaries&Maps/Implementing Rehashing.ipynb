{
 "cells": [
  {
   "cell_type": "code",
   "execution_count": 5,
   "metadata": {},
   "outputs": [
    {
     "name": "stdout",
     "output_type": "stream",
     "text": [
      "0.2\n",
      "0.4\n",
      "0.6\n",
      "0.4\n",
      "0.5\n",
      "0.6\n",
      "0.35\n",
      "0.4\n",
      "0.45\n",
      "0.5\n"
     ]
    }
   ],
   "source": [
    "class MapNode:\n",
    "    def __init__(self, key, value):\n",
    "        self.key = key\n",
    "        self.value = value\n",
    "        self.next = None\n",
    "class Map:\n",
    "    def __init__(self):\n",
    "        self.bucketSize =5\n",
    "        self.bucketlist = [None for i in range(self.bucketSize)]\n",
    "        self.count = 0\n",
    "\n",
    "    def size(self):\n",
    "        return self.count\n",
    "        \n",
    "    def getBucketIndex(self, h):\n",
    "        return abs(h)%(self.bucketSize)\n",
    "    \n",
    "    def loadFactor(self):\n",
    "        return self.count/self.bucketSize\n",
    "   #function to rehash if the loadfactor is increased to 0.7, if increased then need to increase the bucketSize by two times so as to decrease the value of loadfactor. \n",
    "    def rehash(self):\n",
    "        temp = self.bucketlist\n",
    "        self.bucketlist = [None for i in range(2*self.bucketSize)]\n",
    "        self.bucketSize =  2*self.bucketSize\n",
    "        self.count = 0\n",
    "        for head in temp:\n",
    "            while head is not None:\n",
    "                self.insert(head.key, head.value)\n",
    "                head = head.next\n",
    "        \n",
    "    def insert(self, key, value):\n",
    "        hc = hash(key)\n",
    "        index = self.getBucketIndex(hc)\n",
    "        head = self.bucketlist[index]\n",
    "        while head is not None:\n",
    "            if head.key == key:\n",
    "                head.value = value\n",
    "                return \n",
    "            head = head.next\n",
    "        head = self.bucketlist[index]   \n",
    "        newNode = MapNode(key, value)\n",
    "        newNode.next = head\n",
    "        self.bucketlist[index] = newNode\n",
    "        self.count += 1\n",
    "        loadFactor = self.count/self.bucketSize\n",
    "        if loadFactor>=0.7:\n",
    "            self.rehash()\n",
    "\n",
    "\n",
    "    \n",
    "    \n",
    "    \n",
    "#Main\n",
    "m = Map()\n",
    "for i in range(10):\n",
    "    m.insert(\"abc\" + str(i), i)\n",
    "    print(m.loadFactor())\n",
    "\n",
    "\n",
    "        \n",
    "        \n",
    "        \n",
    "        "
   ]
  },
  {
   "cell_type": "code",
   "execution_count": null,
   "metadata": {},
   "outputs": [],
   "source": []
  },
  {
   "cell_type": "code",
   "execution_count": null,
   "metadata": {},
   "outputs": [],
   "source": []
  }
 ],
 "metadata": {
  "kernelspec": {
   "display_name": "Python 3",
   "language": "python",
   "name": "python3"
  },
  "language_info": {
   "codemirror_mode": {
    "name": "ipython",
    "version": 3
   },
   "file_extension": ".py",
   "mimetype": "text/x-python",
   "name": "python",
   "nbconvert_exporter": "python",
   "pygments_lexer": "ipython3",
   "version": "3.7.1"
  }
 },
 "nbformat": 4,
 "nbformat_minor": 2
}

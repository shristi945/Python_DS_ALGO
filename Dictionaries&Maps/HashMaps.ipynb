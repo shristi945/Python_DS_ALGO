{
 "cells": [
  {
   "cell_type": "code",
   "execution_count": 7,
   "metadata": {},
   "outputs": [
    {
     "name": "stdout",
     "output_type": "stream",
     "text": [
      "1\n",
      "2\n",
      "2\n",
      "3\n",
      "3\n",
      "-1\n"
     ]
    }
   ],
   "source": [
    "class MapNode:\n",
    "    def __init__(self, key, value):\n",
    "        self.key = key\n",
    "        self.value = value\n",
    "        self.next = None\n",
    "class Map:\n",
    "    def __init__(self):\n",
    "        \n",
    "        self.bucketSize = 10\n",
    "        self.buckets = [None for i in range(self.bucketSize)]\n",
    "        self.count = 0\n",
    "    \n",
    "    def size(self):\n",
    "        return self.count\n",
    "    \n",
    "    def insert(self, key, value):\n",
    "        \n",
    "        hc = hash(key)\n",
    "        index = (abs(hc)) % (self.bucketSize)\n",
    "        head = self.buckets[index]\n",
    "        \n",
    "        while head is not None:\n",
    "            if head.key == key:\n",
    "                head.value = value\n",
    "                return\n",
    "            head = head.next\n",
    "        newNode = MapNode(key, value)\n",
    "        newNode.next = head\n",
    "        self.buckets[index] = newNode\n",
    "        self.count += 1\n",
    "    \n",
    "    def searchMap(self, key):\n",
    "        hc = hash(key)\n",
    "        index = (abs(hc)) % (self.bucketSize)\n",
    "        head = self.buckets[index]\n",
    "        \n",
    "        while head is not None:\n",
    "            if head.key == key:\n",
    "                return head.value\n",
    "            else:\n",
    "                head = head.next\n",
    "        return -1\n",
    "    \n",
    "    def remove(self, key):\n",
    "        hc = hash(key)\n",
    "        index = (abs(hc)) % (self.bucketSize)\n",
    "        head = self.buckets[index]\n",
    "        prev = None\n",
    "        while head is not None:\n",
    "            if head.key == key:\n",
    "                if prev is None:\n",
    "                    self.buckets[index] = head.next\n",
    "                else:\n",
    "                    prev.next = head.next\n",
    "                return head.value\n",
    "            prev = head\n",
    "            head = head.next\n",
    "        return None\n",
    "            \n",
    "m = Map()\n",
    "m.insert('shristi', 2)\n",
    "print(m.size())\n",
    "m.insert('Ram', 3)\n",
    "print(m.size())\n",
    "m.insert('shristi', 8)\n",
    "print(m.size())\n",
    "print(m.searchMap('Ram'))\n",
    "print(m.remove('Ram'))\n",
    "print(m.searchMap('Ram'))"
   ]
  },
  {
   "cell_type": "code",
   "execution_count": null,
   "metadata": {},
   "outputs": [],
   "source": []
  }
 ],
 "metadata": {
  "kernelspec": {
   "display_name": "Python 3",
   "language": "python",
   "name": "python3"
  },
  "language_info": {
   "codemirror_mode": {
    "name": "ipython",
    "version": 3
   },
   "file_extension": ".py",
   "mimetype": "text/x-python",
   "name": "python",
   "nbconvert_exporter": "python",
   "pygments_lexer": "ipython3",
   "version": "3.7.4"
  }
 },
 "nbformat": 4,
 "nbformat_minor": 2
}

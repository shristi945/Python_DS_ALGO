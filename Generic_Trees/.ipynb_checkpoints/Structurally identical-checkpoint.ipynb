{
 "cells": [
  {
   "cell_type": "markdown",
   "metadata": {},
   "source": [
    "###### Given two Generic trees, return true if they are structurally identical i.e. they are made of nodes with the same values arranged in the same way.\n",
    "###### Input format :\n",
    "###### Line 1 : Tree 1 elements in level order form separated by space (as per done in class). Order is - \n",
    "###### Root_data, n (No_Of_Child_Of_Root), n children, and so on for every element \n",
    "###### Line 2 : Tree 2 elements in level order form separated by space (as per done in class). Order is - \n",
    "###### Root_data, n (No_Of_Child_Of_Root), n children, and so on for every element "
   ]
  },
  {
   "cell_type": "code",
   "execution_count": 1,
   "metadata": {},
   "outputs": [
    {
     "name": "stdout",
     "output_type": "stream",
     "text": [
      "10 3 20 30 40 2 40 50 0 0 0 0\n",
      "10 3 20 30 40 2 40 50 0 0 0 0\n",
      "true\n"
     ]
    }
   ],
   "source": [
    "class treeNode:\n",
    "    def __init__(self, data):\n",
    "        self.data = data\n",
    "        self.children = []\n",
    "\n",
    "def isIdentical(root1, root2):\n",
    "    flag = False\n",
    "    if root1 is None or root2 is None:\n",
    "        return flag\n",
    "    \n",
    "    if root1.data == root2.data:\n",
    "        l1 = len(root1.children)\n",
    "        l2 = len(root2.children)\n",
    "        \n",
    "        if l1 != l2:\n",
    "            return False\n",
    "        for i in range(l1):\n",
    "            if root1.children[i].data != root2.children[i].data:\n",
    "                flag = False\n",
    "                return flag\n",
    "        flag = True\n",
    "        r1 = root1.children[:]\n",
    "        r2 = root2.children[:]\n",
    "        j = 0\n",
    "        while  r1 and  r2:\n",
    "            c1 = root1.children[j]\n",
    "            c2 = root2.children[j]\n",
    "            flag = flag and isIdentical(c1, c2)\n",
    "            r1.pop(0)\n",
    "            r2.pop(0)\n",
    "        \n",
    "        return flag\n",
    "    else:\n",
    "        flag = False\n",
    "        return flag\n",
    "\n",
    "def createLevelWiseTree(arr):\n",
    "    root = treeNode(int(arr[0]))\n",
    "    q = [root]\n",
    "    size = len(arr)\n",
    "    i = 1\n",
    "    while i<size:\n",
    "        parent = q.pop(0)\n",
    "        childCount = int(arr[i])\n",
    "        i += 1\n",
    "        for j in range(0,childCount):\n",
    "            temp = treeNode(int(arr[i+j]))\n",
    "            parent.children.append(temp)\n",
    "            q.append(temp)\n",
    "        i += childCount\n",
    "    return root\n",
    "\n",
    "# Main\n",
    "arr1 = list(int(x) for x in input().strip().split(' '))\n",
    "tree1 = createLevelWiseTree(arr1)\n",
    "arr2 = list(int(x) for x in input().strip().split(' '))\n",
    "tree2 = createLevelWiseTree(arr2)\n",
    "if isIdentical(tree1, tree2):\n",
    "    print('true')\n",
    "else:\n",
    "    print('false')\n"
   ]
  },
  {
   "cell_type": "code",
   "execution_count": null,
   "metadata": {},
   "outputs": [],
   "source": []
  }
 ],
 "metadata": {
  "kernelspec": {
   "display_name": "Python 3",
   "language": "python",
   "name": "python3"
  },
  "language_info": {
   "codemirror_mode": {
    "name": "ipython",
    "version": 3
   },
   "file_extension": ".py",
   "mimetype": "text/x-python",
   "name": "python",
   "nbconvert_exporter": "python",
   "pygments_lexer": "ipython3",
   "version": "3.7.1"
  }
 },
 "nbformat": 4,
 "nbformat_minor": 2
}

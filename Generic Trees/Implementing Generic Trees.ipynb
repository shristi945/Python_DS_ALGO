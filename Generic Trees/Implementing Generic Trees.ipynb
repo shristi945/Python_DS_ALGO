{
 "cells": [
  {
   "cell_type": "markdown",
   "metadata": {},
   "source": [
    "#### In Generic Trees each node can have n number of child node, so it is difficult to keep child node with pointers as left right or 1, 2, 3 etc. \n",
    "#### For this problem we can keep a list of all the children for each node."
   ]
  },
  {
   "cell_type": "code",
   "execution_count": 18,
   "metadata": {},
   "outputs": [],
   "source": [
    "class TreeNode:\n",
    "    def __init__(self, data):\n",
    "        self.data = data\n",
    "        self.children = list()\n",
    "        "
   ]
  },
  {
   "cell_type": "code",
   "execution_count": 28,
   "metadata": {},
   "outputs": [],
   "source": [
    "#print Tree:\n",
    "def printTree(root):\n",
    "    #what if root is none\n",
    "    if root == None: #this is to handle an edge case: when root is none, this is not a base case.\n",
    "        return \n",
    "    print(root.data)\n",
    "    for child in root.children:\n",
    "        printTree(child)\n",
    "def printDetailed(root):\n",
    "    if root == None:\n",
    "        return \n",
    "    print(root.data, end = \":\")\n",
    "    for child in root.children:\n",
    "        print(child.data, end = \",\")\n",
    "    print(\"\")\n",
    "    \n",
    "    for child in root.children:\n",
    "        printDetailed(child)"
   ]
  },
  {
   "cell_type": "code",
   "execution_count": 29,
   "metadata": {},
   "outputs": [],
   "source": [
    "#nodes\n",
    "n1 = TreeNode(5)\n",
    "n2 = TreeNode(2)\n",
    "n3 = TreeNode(9)\n",
    "n4 = TreeNode(8)\n",
    "n5 = TreeNode(7)\n",
    "n6 = TreeNode(15)\n",
    "n7 = TreeNode(1)"
   ]
  },
  {
   "cell_type": "code",
   "execution_count": 30,
   "metadata": {},
   "outputs": [
    {
     "name": "stdout",
     "output_type": "stream",
     "text": [
      "5\n",
      "2\n",
      "9\n",
      "15\n",
      "1\n",
      "8\n",
      "7\n",
      "printing in detail\n",
      "5:2,9,8,7,\n",
      "2:\n",
      "9:15,1,\n",
      "15:\n",
      "1:\n",
      "8:\n",
      "7:\n"
     ]
    }
   ],
   "source": [
    "#connection\n",
    "n1.children.append(n2)\n",
    "n1.children.append(n3)\n",
    "n1.children.append(n4)\n",
    "n1.children.append(n5)\n",
    "n3.children.append(n6)\n",
    "n3.children.append(n7)\n",
    "printTree(n1)\n",
    "print(\"printing in detail\")\n",
    "printDetailed(n1)"
   ]
  },
  {
   "cell_type": "code",
   "execution_count": null,
   "metadata": {},
   "outputs": [],
   "source": []
  }
 ],
 "metadata": {
  "kernelspec": {
   "display_name": "Python 3",
   "language": "python",
   "name": "python3"
  },
  "language_info": {
   "codemirror_mode": {
    "name": "ipython",
    "version": 3
   },
   "file_extension": ".py",
   "mimetype": "text/x-python",
   "name": "python",
   "nbconvert_exporter": "python",
   "pygments_lexer": "ipython3",
   "version": "3.7.1"
  }
 },
 "nbformat": 4,
 "nbformat_minor": 2
}

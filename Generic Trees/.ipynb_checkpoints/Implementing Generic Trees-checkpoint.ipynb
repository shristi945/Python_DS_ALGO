{
 "cells": [
  {
   "cell_type": "markdown",
   "metadata": {},
   "source": [
    "#### In Generic Trees each node can have n number of child node, so it is difficult to keep child node with pointers as left right or 1, 2, 3 etc. \n",
    "#### For this problem we can keep a list of all the children for each node."
   ]
  },
  {
   "cell_type": "code",
   "execution_count": 36,
   "metadata": {},
   "outputs": [
    {
     "name": "stdout",
     "output_type": "stream",
     "text": [
      "Enter root:\n",
      "5\n",
      "Enter the number of children of 5\n",
      "4\n",
      "Enter root:\n",
      "2\n",
      "Enter the number of children of 2\n",
      "0\n",
      "Enter root:\n",
      "9\n",
      "Enter the number of children of 9\n",
      "2\n",
      "Enter root:\n",
      "15\n",
      "Enter the number of children of 15\n",
      "0\n",
      "Enter root:\n",
      "1\n",
      "Enter the number of children of 1\n",
      "0\n",
      "Enter root:\n",
      "8\n",
      "Enter the number of children of 8\n",
      "0\n",
      "Enter root:\n",
      "7\n",
      "Enter the number of children of 7\n",
      "0\n",
      "Your Tree is:\n",
      "5:2,9,8,7,\n",
      "2:\n",
      "9:15,1,\n",
      "15:\n",
      "1:\n",
      "8:\n",
      "7:\n"
     ]
    }
   ],
   "source": [
    "class TreeNode:\n",
    "    def __init__(self, data):\n",
    "        self.data = data\n",
    "        self.children = list()\n",
    "        \n",
    "\n",
    "#Take Input from user and make connections \n",
    "\n",
    "def TakeInput():\n",
    "    print(\"Enter root:\")\n",
    "    rootData = int(input())\n",
    "    if rootData == -1:\n",
    "        return \n",
    "    root = TreeNode(rootData)\n",
    "    print(\"Enter the number of children of\", rootData)\n",
    "    childCount = int(input())\n",
    "    for i in range(childCount):\n",
    "        child = TakeInput()\n",
    "        root.children.append(child)\n",
    "        \n",
    "    return root\n",
    "\n",
    "\n",
    "\n",
    "#print Tree:\n",
    "def printTree(root):\n",
    "    #what if root is none\n",
    "    if root == None: #this is to handle an edge case: when root is none, this is not a base case.\n",
    "        return \n",
    "    print(root.data)\n",
    "    for child in root.children:\n",
    "        printTree(child)\n",
    "def printDetailed(root):\n",
    "    if root == None:\n",
    "        return \n",
    "    print(root.data, end = \":\")\n",
    "    for child in root.children:\n",
    "        print(child.data, end = \",\")\n",
    "    print(\"\")\n",
    "    \n",
    "    for child in root.children:\n",
    "        printDetailed(child)\n",
    "        \n",
    "        \n",
    "\n",
    "\n",
    "#TakeInput from user\n",
    "root = TakeInput()\n",
    "print(\"Your Tree is:\")\n",
    "printDetailed(root)"
   ]
  },
  {
   "cell_type": "code",
   "execution_count": null,
   "metadata": {},
   "outputs": [],
   "source": []
  }
 ],
 "metadata": {
  "kernelspec": {
   "display_name": "Python 3",
   "language": "python",
   "name": "python3"
  },
  "language_info": {
   "codemirror_mode": {
    "name": "ipython",
    "version": 3
   },
   "file_extension": ".py",
   "mimetype": "text/x-python",
   "name": "python",
   "nbconvert_exporter": "python",
   "pygments_lexer": "ipython3",
   "version": "3.7.1"
  }
 },
 "nbformat": 4,
 "nbformat_minor": 2
}

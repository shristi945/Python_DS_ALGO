{
 "cells": [
  {
   "cell_type": "code",
   "execution_count": 61,
   "metadata": {},
   "outputs": [
    {
     "name": "stdout",
     "output_type": "stream",
     "text": [
      "6 11\n",
      "[6, 11]\n",
      "0 1 1\n",
      "0 2 2\n",
      "1 3 6\n",
      "0 3 13\n",
      "1 2 3\n",
      "2 3 7\n",
      "2 4 8\n",
      "2 5 15\n",
      "4 3 16\n",
      "4 5 4\n",
      "3 5 9\n"
     ]
    }
   ],
   "source": [
    "import sys\n",
    "\n",
    "class Edge():\n",
    "    def __init__(self, src, dest, weight):\n",
    "        self.src = src\n",
    "        self.dst = dst\n",
    "        self.weight = weight\n",
    "    \n",
    "def kruskal(edge, n):\n",
    "    edge = sorted(edge, key = lambda i:i.weight)\n",
    "    count = 0\n",
    "    output_array = []\n",
    "    parent_list = []\n",
    "    \n",
    "    #initiating parent_list\n",
    "    for i in range(n):\n",
    "        parent_list.append(i)\n",
    "    k = 0\n",
    "    while count < (n-1):\n",
    "        e = edge[k]\n",
    "        if parent_list[e.src] != parent_list[e.dst]:\n",
    "            \n",
    "            output_array.append(e)\n",
    "            count += 1\n",
    "            k += 1\n",
    "            parent_list[e.dst] = parent_list[e.src]\n",
    "            \n",
    "        else:\n",
    "            k += 1\n",
    "    \n",
    "    return output_array\n",
    "\n",
    "def \n",
    "\n",
    "\n",
    "li = [int(ele) for ele in input().split()]\n",
    "print(li)\n",
    "n = li[0]\n",
    "e = li[1]\n",
    "edge_array = []\n",
    "for i in range(e):\n",
    "    curr_input = [int(ele) for ele in input().split()]\n",
    "    src = curr_input[0]\n",
    "    dst = curr_input[1]\n",
    "    wt = curr_input[2]\n",
    "    edge_obj = Edge(src, dst, wt)\n",
    "    edge_array.append(edge_obj)\n",
    "output = kruskal(edge_array, n)"
   ]
  },
  {
   "cell_type": "code",
   "execution_count": 62,
   "metadata": {},
   "outputs": [
    {
     "name": "stdout",
     "output_type": "stream",
     "text": [
      "0 1 1\n",
      "0 2 2\n",
      "4 5 4\n",
      "1 3 6\n",
      "2 4 8\n"
     ]
    }
   ],
   "source": [
    "for i in range(len(output)):\n",
    "    print(output[i].src, output[i].dst, output[i].weight)"
   ]
  },
  {
   "cell_type": "code",
   "execution_count": 87,
   "metadata": {},
   "outputs": [],
   "source": [
    "from queue import Queue\n",
    "import sys\n",
    "\n",
    "class Graph:\n",
    "    def __init__(self, nVertices):\n",
    "        self.nVertices = nVertices\n",
    "        self.adjMatrix = [[0 for i in range(nVertices)] for j in range(nVertices)]\n",
    "        \n",
    "    def addEdge(self, v1, v2, wt):\n",
    "        \n",
    "        self.adjMatrix[v1][v2] = wt\n",
    "        self.adjMatrix[v2][v1] = wt\n",
    "        \n",
    "    def removeEdge(self, v1, v2):\n",
    "        \n",
    "        if self.containsEdge(v1, v2) is False:\n",
    "            return \n",
    "        self.adjMatrix[v1][v2] = 0\n",
    "        self.adjMatrix[v2][v1] = 0\n",
    "        \n",
    "    def __str__(self):\n",
    "        return str(self.adjMatrix)\n",
    "    \n",
    "\n",
    "    def getMinVertex(self, weight, visited):\n",
    "        min_vertex = -1\n",
    "        for i in range(self.nVertices):\n",
    "            if (visited[i] is False and (min_vertex == -1 or weight[min_vertex] > weight[i])):\n",
    "                min_vertex = i\n",
    "        return min_vertex\n",
    "            \n",
    "    def prim(self):\n",
    "        \n",
    "        visited = [False for i in range(self.nVertices)]\n",
    "        parent = [-1 for i in range(self.nVertices)]\n",
    "        weight = [sys.maxsize for i in range(self.nVertices)]\n",
    "        weight[0] = 0\n",
    "        for i in range(self.nVertices-1):\n",
    "            min_vertex = self.getMinVertex(weight, visited)\n",
    "            visited[min_vertex] = True\n",
    "            \n",
    "            for j in range(self.nVertices):\n",
    "                if self.adjMatrix[min_vertex][j] > 0 and visited[j] is False:\n",
    "                    if self.adjMatrix[min_vertex][j] < weight[j]:\n",
    "                        weight[j] = self.adjMatrix[min_vertex][j]\n",
    "                        parent[j] = min_vertex\n",
    "                        \n",
    "        for i in range(self.nVertices):\n",
    "            smallVertex = min(i, parent[i])\n",
    "            largeVertex = max(i, parent[i])\n",
    "            if smallVertex != -1:\n",
    "                print(smallVertex, largeVertex, weight[i])      "
   ]
  },
  {
   "cell_type": "code",
   "execution_count": 88,
   "metadata": {},
   "outputs": [
    {
     "name": "stdout",
     "output_type": "stream",
     "text": [
      "4 4\n",
      "0 1 3\n",
      "1 2 1\n",
      "0 3 5\n",
      "2 3 8\n",
      "0 1 3\n",
      "1 2 1\n",
      "0 3 5\n"
     ]
    }
   ],
   "source": [
    "li = [int(ele) for ele in input().split()]\n",
    "n = li[0]\n",
    "e = li[1]\n",
    "g = Graph(n)\n",
    "for i in range(e):\n",
    "    newEdgeData = [int(ele) for ele in input().split()]\n",
    "    src, dst, wt = newEdgeData[0], newEdgeData[1], newEdgeData[2]\n",
    "    newEdge = g.addEdge(src, dst, wt)\n",
    "g.prim()"
   ]
  },
  {
   "cell_type": "code",
   "execution_count": null,
   "metadata": {},
   "outputs": [],
   "source": []
  },
  {
   "cell_type": "code",
   "execution_count": null,
   "metadata": {},
   "outputs": [],
   "source": []
  },
  {
   "cell_type": "code",
   "execution_count": null,
   "metadata": {},
   "outputs": [],
   "source": []
  },
  {
   "cell_type": "code",
   "execution_count": null,
   "metadata": {},
   "outputs": [],
   "source": []
  },
  {
   "cell_type": "code",
   "execution_count": null,
   "metadata": {},
   "outputs": [],
   "source": []
  },
  {
   "cell_type": "code",
   "execution_count": null,
   "metadata": {},
   "outputs": [],
   "source": []
  }
 ],
 "metadata": {
  "kernelspec": {
   "display_name": "Python 3",
   "language": "python",
   "name": "python3"
  },
  "language_info": {
   "codemirror_mode": {
    "name": "ipython",
    "version": 3
   },
   "file_extension": ".py",
   "mimetype": "text/x-python",
   "name": "python",
   "nbconvert_exporter": "python",
   "pygments_lexer": "ipython3",
   "version": "3.7.4"
  }
 },
 "nbformat": 4,
 "nbformat_minor": 2
}

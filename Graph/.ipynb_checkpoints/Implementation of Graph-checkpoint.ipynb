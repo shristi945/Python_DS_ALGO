{
 "cells": [
  {
   "cell_type": "code",
   "execution_count": 6,
   "metadata": {},
   "outputs": [],
   "source": [
    "class Graph:\n",
    "    def __init__(self, nvertices):\n",
    "        self.nvertices = nvertices\n",
    "        self.adjmatrix = [[0 for i in range(nvertices)] for j in range(nvertices)]\n",
    "        \n",
    "    def addEdege(self, v1, v2):\n",
    "        self.adjmatrix[v1][v2] = 1\n",
    "        self.adjmatrix[v2][v1] = 1\n",
    "    def removeEdge(self, v1,v2):\n",
    "        if self.containsEdge(v1,v2) is False:\n",
    "            return\n",
    "        self.adjmatrix[v1][v2] = 0\n",
    "        self.adjmatrix[v2][v1] = 0\n",
    "        \n",
    "    def containsEdge(self, v1,v2):\n",
    "        return True if self.adjmatrix[v1][v2]>0 else False\n",
    "    \n",
    "    #printing adjacency matrix of the graph\n",
    "    def __str__(self):\n",
    "        return str(self.adjmatrix)"
   ]
  },
  {
   "cell_type": "code",
   "execution_count": 7,
   "metadata": {},
   "outputs": [
    {
     "name": "stdout",
     "output_type": "stream",
     "text": [
      "[[0, 1, 0, 0, 0], [1, 0, 0, 1, 0], [0, 0, 0, 0, 1], [0, 1, 0, 0, 0], [0, 0, 1, 0, 0]]\n"
     ]
    }
   ],
   "source": [
    "g = Graph(5)\n",
    "g.addEdege(0, 1)\n",
    "g.addEdege(1, 3)\n",
    "g.addEdege(2, 4)\n",
    "print(g)\n"
   ]
  },
  {
   "cell_type": "code",
   "execution_count": null,
   "metadata": {},
   "outputs": [],
   "source": []
  }
 ],
 "metadata": {
  "kernelspec": {
   "display_name": "Python 3",
   "language": "python",
   "name": "python3"
  },
  "language_info": {
   "codemirror_mode": {
    "name": "ipython",
    "version": 3
   },
   "file_extension": ".py",
   "mimetype": "text/x-python",
   "name": "python",
   "nbconvert_exporter": "python",
   "pygments_lexer": "ipython3",
   "version": "3.7.4"
  }
 },
 "nbformat": 4,
 "nbformat_minor": 2
}

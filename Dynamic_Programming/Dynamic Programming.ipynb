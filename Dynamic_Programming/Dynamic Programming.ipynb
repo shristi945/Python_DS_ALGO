{
 "cells": [
  {
   "cell_type": "code",
   "execution_count": 9,
   "metadata": {},
   "outputs": [
    {
     "name": "stdout",
     "output_type": "stream",
     "text": [
      "25\n",
      "75025\n",
      "--- 0.05183005332946777 seconds ---\n"
     ]
    }
   ],
   "source": [
    "# Fibonacci with Recursion\n",
    "\n",
    "def fib(n):\n",
    "    if n == 0 or n == 1:\n",
    "        return n\n",
    "    \n",
    "    ans1 = fib(n-1)\n",
    "    ans2 = fib(n-2)\n",
    "    \n",
    "    return ans1+ans2\n",
    "\n",
    "number = int(input())\n",
    "import time\n",
    "start_time = time.time()\n",
    "print(fib(number))\n",
    "print(\"--- %s seconds ---\" % (time.time() - start_time))\n",
    "\n",
    "# Time Complexity is 0(2^n)\n",
    "# Space Complexity is 0(n) -> recursion stack"
   ]
  },
  {
   "cell_type": "code",
   "execution_count": 10,
   "metadata": {},
   "outputs": [
    {
     "name": "stdout",
     "output_type": "stream",
     "text": [
      "25\n",
      "75025\n",
      "--- 0.0004899501800537109 seconds ---\n"
     ]
    }
   ],
   "source": [
    "# Fibonacci with DP\n",
    "\n",
    "def fib(n, dp):\n",
    "    if n == 0 or n == 1:\n",
    "        return n\n",
    "    \n",
    "    if dp[n-1] == -1:\n",
    "        ans1 = fib(n-1, dp)\n",
    "        dp[n-1] = ans1\n",
    "    else:\n",
    "        ans1 = dp[n-1]\n",
    "        \n",
    "    if dp[n-2] == -1:\n",
    "        ans2 = fib(n-2, dp)\n",
    "        dp[n-2] = ans2\n",
    "    else:\n",
    "        ans2 = dp[n-2]\n",
    "    \n",
    "    res = ans1+ans2\n",
    "    \n",
    "    return res\n",
    "    \n",
    "    \n",
    "n = int(input())\n",
    "dp = [-1 for ele in range(n)]\n",
    "\n",
    "import time\n",
    "start_time = time.time()\n",
    "print(fib(n, dp))\n",
    "print(\"--- %s seconds ---\" % (time.time() - start_time))"
   ]
  },
  {
   "cell_type": "code",
   "execution_count": 137,
   "metadata": {},
   "outputs": [
    {
     "name": "stdout",
     "output_type": "stream",
     "text": [
      "1\n",
      "1\n",
      "--- 0.0005259513854980469 seconds ---\n"
     ]
    }
   ],
   "source": [
    "# Fibonacci with DP Iteratively\n",
    "\n",
    "def fibI(n, dp):\n",
    "    \n",
    "    dp[0] = 1\n",
    "    dp[1] = 1\n",
    "    \n",
    "    i = 2\n",
    "    while i < n:\n",
    "        dp[i] = dp[i-1]+dp[i-2]\n",
    "        i += 1\n",
    "    return dp[n-1]\n",
    "\n",
    "    \n",
    "    \n",
    "n = int(input())\n",
    "dp = [-1 for ele in range(n+1)]\n",
    "\n",
    "import time\n",
    "start_time = time.time()\n",
    "print(fibI(n, dp))\n",
    "print(\"--- %s seconds ---\" % (time.time() - start_time))"
   ]
  },
  {
   "cell_type": "code",
   "execution_count": 106,
   "metadata": {},
   "outputs": [
    {
     "name": "stdout",
     "output_type": "stream",
     "text": [
      "100\n",
      "7\n",
      "--- 0.048367977142333984 seconds ---\n"
     ]
    }
   ],
   "source": [
    "# minimum steps problem\n",
    "# With Simple Rcursion\n",
    "from sys import maxsize as MAX_VALUE\n",
    "\n",
    "def minstep(n):\n",
    "    if n == 1:\n",
    "        return 0\n",
    "    ans1 = minstep(n-1)\n",
    "    if n % 2 == 0:\n",
    "        ans2 = minstep(n/2)\n",
    "    else:\n",
    "        ans2 = MAX_VALUE\n",
    "    if n % 3 == 0:\n",
    "        ans3 = minstep(n/3)\n",
    "    else:\n",
    "        ans3 = MAX_VALUE\n",
    "        \n",
    "    ans = 1 + min(ans1, ans2, ans3)\n",
    "    \n",
    "    return ans\n",
    "\n",
    "n = int(input())\n",
    "import time\n",
    "start_time = time.time()\n",
    "print(minstep(n))\n",
    "print(\"--- %s seconds ---\" % (time.time() - start_time))"
   ]
  },
  {
   "cell_type": "code",
   "execution_count": 107,
   "metadata": {},
   "outputs": [
    {
     "name": "stdout",
     "output_type": "stream",
     "text": [
      "100\n",
      "7\n",
      "--- 0.0008523464202880859 seconds ---\n"
     ]
    }
   ],
   "source": [
    "# minimum steps problem\n",
    "# with memoization\n",
    "from sys import maxsize as MAX_VALUE\n",
    "def minstepMemo(n, dp):\n",
    "    if n == 1 or n == 0:\n",
    "        return 0\n",
    "    \n",
    "    if dp[n-1] == -1:\n",
    "        ans1 = minstepMemo(n-1, dp)\n",
    "        dp[n-1] = ans1\n",
    "    else:\n",
    "        ans1 = dp[n-1]\n",
    "    \n",
    "    if n % 2 == 0:\n",
    "        if dp[n//2] == -1:\n",
    "            ans2 = minstepMemo(n//2, dp)\n",
    "            dp[n//2] = ans2\n",
    "        else:\n",
    "            ans2 = dp[n//2]\n",
    "    else:\n",
    "        ans2 = MAX_VALUE\n",
    "    \n",
    "    if n % 3 == 0:\n",
    "        if dp[n//3] == -1:\n",
    "            ans3 = minstepMemo(n//3, dp)\n",
    "            dp[n//3] = ans3\n",
    "        else:\n",
    "            ans3 = dp[n//3]\n",
    "    else:\n",
    "        ans3 = MAX_VALUE\n",
    "        \n",
    "    ans = 1 + min(ans1, ans2, ans3)\n",
    "    \n",
    "    return ans\n",
    "    \n",
    "n = int(input())\n",
    "dp = [-1 for ele in range(n)]\n",
    "import time\n",
    "start_time = time.time()\n",
    "print(minstepMemo(n, dp))\n",
    "print(\"--- %s seconds ---\" % (time.time() - start_time))"
   ]
  },
  {
   "cell_type": "code",
   "execution_count": null,
   "metadata": {},
   "outputs": [],
   "source": []
  },
  {
   "cell_type": "code",
   "execution_count": 108,
   "metadata": {},
   "outputs": [
    {
     "name": "stdout",
     "output_type": "stream",
     "text": [
      "100\n",
      "7\n",
      "--- 0.0007636547088623047 seconds ---\n"
     ]
    }
   ],
   "source": [
    "from sys import maxsize as MAX_VALUE\n",
    "def minstepI(n):\n",
    "    \n",
    "    dp = [-1 for ele in range(n+1)]\n",
    "    dp[0] = 0\n",
    "    dp[1] = 0\n",
    "    i = 2\n",
    "    while i <= n:\n",
    "        \n",
    "        ans1 = dp[i-1]\n",
    "        \n",
    "        if i % 2 == 0:\n",
    "            ans2 = dp[i//2]\n",
    "        else:\n",
    "            ans2 = MAX_VALUE\n",
    "        \n",
    "        if i % 3 == 0:\n",
    "            ans3 = dp[i//3]\n",
    "        else:\n",
    "            ans3 = MAX_VALUE\n",
    "        \n",
    "        dp[i] = 1 + min(ans1, ans2, ans3)\n",
    "        i = i + 1\n",
    "    return dp[n]\n",
    "        \n",
    "n = int(input())\n",
    "dp = [-1 for ele in range(n)]\n",
    "import time\n",
    "start_time = time.time()\n",
    "print(minstepI(n))\n",
    "print(\"--- %s seconds ---\" % (time.time() - start_time))        "
   ]
  },
  {
   "cell_type": "code",
   "execution_count": 110,
   "metadata": {},
   "outputs": [
    {
     "name": "stdout",
     "output_type": "stream",
     "text": [
      "41\n",
      "2\n",
      "--- 0.876474142074585 seconds ---\n"
     ]
    }
   ],
   "source": [
    "from sys import maxsize as MAX_VALUE\n",
    "def minsqstep(n):\n",
    "    if n == 0:\n",
    "        return 0\n",
    "    i = 1\n",
    "    minsubprob = MAX_VALUE\n",
    "    while i*i <= n:\n",
    "        subprob = 1 + minsqstep(n-(i*i))\n",
    "        minsubprob = min(minsubprob, subprob)\n",
    "        i += 1\n",
    "    return minsubprob\n",
    "    \n",
    "\n",
    "n = int(input())\n",
    "import time\n",
    "start_time = time.time()\n",
    "print(minsqstep(n))\n",
    "print(\"--- %s seconds ---\" % (time.time() - start_time))  "
   ]
  },
  {
   "cell_type": "code",
   "execution_count": 121,
   "metadata": {},
   "outputs": [
    {
     "name": "stdout",
     "output_type": "stream",
     "text": [
      "8\n",
      "2\n",
      "--- 0.0008938312530517578 seconds ---\n"
     ]
    }
   ],
   "source": [
    "from sys import maxsize as MAX_VALUE\n",
    "def minsqstep(n, dp):\n",
    "    if n == 0:\n",
    "        return 0\n",
    "    i = 1\n",
    "    minsubprob = MAX_VALUE\n",
    "    while i*i <= n:\n",
    "        if dp[n-(i**2)] == -1:\n",
    "            smallSubProb = minsqstep(n-(i*i), dp)\n",
    "            dp[n-(i**2)] = smallSubProb\n",
    "            subprob = 1 + smallSubProb\n",
    "        else:\n",
    "            subprob = 1 + dp[n-(i**2)]\n",
    "        minsubprob = min(minsubprob, subprob)\n",
    "        i += 1\n",
    "    return minsubprob\n",
    "    \n",
    "\n",
    "n = int(input())\n",
    "import time\n",
    "start_time = time.time()\n",
    "dp = [-1 for ele in range(n)]\n",
    "print(minsqstep(n, dp))\n",
    "print(\"--- %s seconds ---\" % (time.time() - start_time)) "
   ]
  },
  {
   "cell_type": "code",
   "execution_count": 146,
   "metadata": {},
   "outputs": [
    {
     "name": "stdout",
     "output_type": "stream",
     "text": [
      "1\n",
      "1\n",
      "--- 0.0009324550628662109 seconds ---\n"
     ]
    }
   ],
   "source": [
    "from sys import maxsize as MAX_VALUE\n",
    "def minsqstepI(n, dp):\n",
    "    dp[0] = 0\n",
    "    i = 1\n",
    "    while i <= n:\n",
    "        j = 1\n",
    "        minSubProb = MAX_VALUE\n",
    "        while j**2 <= i:\n",
    "            subProb = 1 + dp[i-(j**2)]\n",
    "            j += 1\n",
    "            minSubProb = min(minSubProb, subProb)\n",
    "        \n",
    "        dp[i] = minSubProb\n",
    "        i += 1\n",
    "    return dp[n]\n",
    "    \n",
    "\n",
    "n = int(input())\n",
    "import time\n",
    "start_time = time.time()\n",
    "dp = [-1 for ele in range(n+1)]\n",
    "print(minsqstepI(n, dp))\n",
    "print(\"--- %s seconds ---\" % (time.time() - start_time)) "
   ]
  },
  {
   "cell_type": "code",
   "execution_count": 176,
   "metadata": {},
   "outputs": [
    {
     "name": "stdout",
     "output_type": "stream",
     "text": [
      "4\n",
      "--- 0.0012676715850830078 seconds ---\n"
     ]
    }
   ],
   "source": [
    "# LIS Recusive:\n",
    "\n",
    "def LIS(a, i, n):\n",
    "    \n",
    "    if i == n:\n",
    "        return 0, 0\n",
    "    \n",
    "    including_max = 1\n",
    "    for j in range(i+1, n):\n",
    "        if a[j] > a[i]:\n",
    "            further_including_max = LIS(a,j,n)[0]\n",
    "            including_max = max(including_max, 1 + further_including_max)\n",
    "    \n",
    "    excluding_max = LIS(a, i+1, n)[1]\n",
    "    overAllMax = max(excluding_max, including_max)\n",
    "    \n",
    "    return including_max, overAllMax\n",
    "    \n",
    "    \n",
    "    \n",
    "import time\n",
    "start_time = time.time()\n",
    "l = [6, 3, 1, 2, 0, 7, 9]\n",
    "print(LIS(l, 0, 7)[1]) \n",
    "print(\"--- %s seconds ---\" % (time.time() - start_time)) "
   ]
  },
  {
   "cell_type": "code",
   "execution_count": 181,
   "metadata": {},
   "outputs": [
    {
     "name": "stdout",
     "output_type": "stream",
     "text": [
      "7\n",
      "6 3 1 2 0 7 9\n",
      "4\n",
      "--- 2.8658926486968994 seconds ---\n"
     ]
    }
   ],
   "source": [
    "def LISM(a, i, n, dp):\n",
    "    \n",
    "    if i == n:\n",
    "        return 0,0\n",
    "    \n",
    "    including_max = 1\n",
    "    \n",
    "    for j in range(i+1, n):\n",
    "        if a[j] >= a[i]:\n",
    "            if dp[j] == -1:\n",
    "                ans = LISM(a, j, n, dp)\n",
    "                dp[j] = ans\n",
    "                further_including_max = ans[0]\n",
    "            else:\n",
    "                further_including_max = dp[j][0]\n",
    "            \n",
    "            including_max = max(including_max, 1+further_including_max)\n",
    "    if dp[i+1] == -1:\n",
    "        ans = LISM(li, i+1, n, dp)\n",
    "        dp[i+1] = ans\n",
    "        excluding_max = ans[1]\n",
    "    else:\n",
    "        excluding_max = dp[i+1][1]\n",
    "    overAllMax = max(including_max, excluding_max)\n",
    "    \n",
    "    return including_max, overAllMax\n",
    "    \n",
    "    \n",
    "import time\n",
    "start_time = time.time()\n",
    "n = int(input())\n",
    "li = [int(ele) for ele in input().split()]\n",
    "dp = [-1 for ele in range(n+1)]\n",
    "print(LISM(li, 0, n, dp)[1])\n",
    "print(\"--- %s seconds ---\" % (time.time() - start_time)) "
   ]
  },
  {
   "cell_type": "code",
   "execution_count": 184,
   "metadata": {},
   "outputs": [],
   "source": [
    "def LISI(li, n):\n",
    "    dp = [[0, 0]for i in range(n+1)]\n",
    "    \n",
    "    for i in range(n-1, -1, -1):\n",
    "        including_max = 1\n",
    "        for j in range(i+1, n):\n",
    "            if li[j] > li[i]:\n",
    "                including_max = max(including_max, 1 + dp[j][0])\n",
    "        dp[i][0] = including_max\n",
    "        excluding_max = dp[i+1][1]\n",
    "        overAllMax = max(including_max, excluding_max)\n",
    "        dp[i][1] = overAllMax\n",
    "    return dp[0][1]\n",
    "\n"
   ]
  },
  {
   "cell_type": "code",
   "execution_count": 186,
   "metadata": {},
   "outputs": [
    {
     "name": "stdout",
     "output_type": "stream",
     "text": [
      "7\n",
      "6 3 1 2 0 7 9\n",
      "4\n",
      "--- 2.9080650806427 seconds ---\n"
     ]
    }
   ],
   "source": [
    "import time\n",
    "start_time = time.time()\n",
    "n = int(input())\n",
    "li = [int(ele) for ele in input().split()]\n",
    "print(LISI(li, n))\n",
    "print(\"--- %s seconds ---\" % (time.time() - start_time)) "
   ]
  },
  {
   "cell_type": "code",
   "execution_count": null,
   "metadata": {},
   "outputs": [],
   "source": []
  }
 ],
 "metadata": {
  "kernelspec": {
   "display_name": "Python 3",
   "language": "python",
   "name": "python3"
  },
  "language_info": {
   "codemirror_mode": {
    "name": "ipython",
    "version": 3
   },
   "file_extension": ".py",
   "mimetype": "text/x-python",
   "name": "python",
   "nbconvert_exporter": "python",
   "pygments_lexer": "ipython3",
   "version": "3.7.4"
  }
 },
 "nbformat": 4,
 "nbformat_minor": 2
}

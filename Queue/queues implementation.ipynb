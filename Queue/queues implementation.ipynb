{
 "cells": [
  {
   "cell_type": "code",
   "execution_count": 6,
   "metadata": {},
   "outputs": [],
   "source": [
    "class QueueArray:\n",
    "    def __init__(self):\n",
    "        self.__arr = []\n",
    "        self.__count = 0\n",
    "        self.__front = 0\n",
    "\n",
    "    def enqueue(self, data):\n",
    "        self.__arr.append(data)\n",
    "        self.__count += 1    \n",
    "    \n",
    "    def dequeue(self):\n",
    "        if self.__count == 0:\n",
    "            return -1\n",
    "        element = self.__arr[self.__front]\n",
    "        self.__front += 1\n",
    "        self.__count -=1\n",
    "        return element\n",
    "\n",
    "    def front(self):\n",
    "        if self.__count == 0:\n",
    "            return -1\n",
    "        return self.__arr[self.__front]\n",
    "\n",
    "\n",
    "    def size(self):\n",
    "        return self.__count\n",
    "\n",
    "    def isEmpty(self):\n",
    "        return self.size() == 0"
   ]
  },
  {
   "cell_type": "code",
   "execution_count": 8,
   "metadata": {},
   "outputs": [
    {
     "data": {
      "text/plain": [
       "3"
      ]
     },
     "execution_count": 8,
     "metadata": {},
     "output_type": "execute_result"
    }
   ],
   "source": [
    "q = QueueArray()\n",
    "q.enqueue(1)\n",
    "q.enqueue(2)\n",
    "q.enqueue(3)\n",
    "q.enqueue(4)\n",
    "q.dequeue()\n",
    "q.size()"
   ]
  },
  {
   "cell_type": "code",
   "execution_count": 11,
   "metadata": {},
   "outputs": [],
   "source": [
    "class Node:\n",
    "    def __init__(self, data):\n",
    "        self.data = data\n",
    "        self.next = None\n",
    "class QueueLL:\n",
    "    def __init__(self):\n",
    "        self.__head = None\n",
    "        self.__tail = None\n",
    "        self.__count = 0\n",
    "        \n",
    "    def enqueue(self, element):\n",
    "        newNode = Node(element)\n",
    "        if self.__head == None:\n",
    "            self.__head = newNode\n",
    "        else:\n",
    "            self.__tail.next = newNode\n",
    "        self.__tail = newNode\n",
    "        self.__count += 1\n",
    "        \n",
    "        \n",
    "    def dequeue(self):\n",
    "        if self.__head is None:\n",
    "            print(\"q is empty\")\n",
    "            return \n",
    "        element = self.__head.data\n",
    "        self.__count -= 1\n",
    "        self.__head = self.__head.next\n",
    "        \n",
    "        return element\n",
    "    \n",
    "    def isEmpty(self):\n",
    "        return self.size() == 0\n",
    "    def size(self):\n",
    "        return self.__count\n",
    "        \n",
    "    def front(self):\n",
    "        if self.__head is None:\n",
    "            print(\"q is empty\")\n",
    "            return \n",
    "        element = self.__head.data\n",
    "        \n",
    "        return element\n",
    "    "
   ]
  },
  {
   "cell_type": "code",
   "execution_count": 12,
   "metadata": {},
   "outputs": [
    {
     "name": "stdout",
     "output_type": "stream",
     "text": [
      "1\n",
      "2\n",
      "3\n",
      "4\n",
      "5\n"
     ]
    }
   ],
   "source": [
    "q = QueueLL()\n",
    "q.enqueue(1)\n",
    "q.enqueue(2)\n",
    "q.enqueue(3)\n",
    "q.enqueue(4)\n",
    "q.enqueue(5)\n",
    "\n",
    "while q.isEmpty() is False:\n",
    "    print(q.dequeue())\n"
   ]
  },
  {
   "cell_type": "code",
   "execution_count": 39,
   "metadata": {},
   "outputs": [],
   "source": [
    "# queue using two stacks\n",
    "\n",
    "class queueUsingStack:\n",
    "    \n",
    "    def __init__(self):\n",
    "        \n",
    "        self.__s1 = []\n",
    "        self.__s2 = []\n",
    "        \n",
    "    def enqueue(self, data):\n",
    "        self.__s1.append(data)\n",
    "\n",
    "        \n",
    "    def dequeue(self):\n",
    "        if len(self.__s1) == 0:\n",
    "            return -1\n",
    "        if len(self.__s1)>=1:\n",
    "            while len(self.__s1)!=1:\n",
    "                ele = self.__s1.pop()\n",
    "                self.__s2.append(ele)\n",
    "            \n",
    "            poped = self.__s1.pop()\n",
    "        \n",
    "            while len(self.__s2) != 0:\n",
    "                self.__s1.append(self.__s2.pop())\n",
    "        return poped\n",
    "        \n",
    "    def size(self):\n",
    "        return len(self.__s1)\n",
    "        \n",
    "    def front(self):\n",
    "        if len(self.__s1) == 0:\n",
    "            return -1\n",
    "        return self.__s1[0]\n",
    "        \n",
    "    def isEmpty():\n",
    "        return self.size() == 0\n",
    "        \n",
    "        \n",
    "        \n",
    "    "
   ]
  },
  {
   "cell_type": "code",
   "execution_count": 40,
   "metadata": {},
   "outputs": [],
   "source": [
    "q = queueUsingStack()\n",
    "q.enqueue(1)\n",
    "q.enqueue(2)\n",
    "q.enqueue(3)\n",
    "q.enqueue(4)\n",
    "q.enqueue(5)"
   ]
  },
  {
   "cell_type": "code",
   "execution_count": 41,
   "metadata": {},
   "outputs": [
    {
     "data": {
      "text/plain": [
       "5"
      ]
     },
     "execution_count": 41,
     "metadata": {},
     "output_type": "execute_result"
    }
   ],
   "source": [
    "q.size()"
   ]
  },
  {
   "cell_type": "code",
   "execution_count": 42,
   "metadata": {},
   "outputs": [
    {
     "data": {
      "text/plain": [
       "1"
      ]
     },
     "execution_count": 42,
     "metadata": {},
     "output_type": "execute_result"
    }
   ],
   "source": [
    "q.dequeue()"
   ]
  },
  {
   "cell_type": "code",
   "execution_count": 43,
   "metadata": {},
   "outputs": [
    {
     "data": {
      "text/plain": [
       "4"
      ]
     },
     "execution_count": 43,
     "metadata": {},
     "output_type": "execute_result"
    }
   ],
   "source": [
    "q.size()"
   ]
  },
  {
   "cell_type": "code",
   "execution_count": 44,
   "metadata": {},
   "outputs": [
    {
     "data": {
      "text/plain": [
       "2"
      ]
     },
     "execution_count": 44,
     "metadata": {},
     "output_type": "execute_result"
    }
   ],
   "source": [
    "q.dequeue()\n"
   ]
  },
  {
   "cell_type": "code",
   "execution_count": 45,
   "metadata": {},
   "outputs": [
    {
     "data": {
      "text/plain": [
       "3"
      ]
     },
     "execution_count": 45,
     "metadata": {},
     "output_type": "execute_result"
    }
   ],
   "source": [
    "q.size()"
   ]
  },
  {
   "cell_type": "code",
   "execution_count": 46,
   "metadata": {},
   "outputs": [
    {
     "data": {
      "text/plain": [
       "3"
      ]
     },
     "execution_count": 46,
     "metadata": {},
     "output_type": "execute_result"
    }
   ],
   "source": [
    "q.dequeue()"
   ]
  },
  {
   "cell_type": "code",
   "execution_count": 47,
   "metadata": {},
   "outputs": [
    {
     "data": {
      "text/plain": [
       "2"
      ]
     },
     "execution_count": 47,
     "metadata": {},
     "output_type": "execute_result"
    }
   ],
   "source": [
    "q.size()"
   ]
  },
  {
   "cell_type": "code",
   "execution_count": 48,
   "metadata": {},
   "outputs": [
    {
     "data": {
      "text/plain": [
       "4"
      ]
     },
     "execution_count": 48,
     "metadata": {},
     "output_type": "execute_result"
    }
   ],
   "source": [
    "q.front()"
   ]
  },
  {
   "cell_type": "code",
   "execution_count": null,
   "metadata": {},
   "outputs": [],
   "source": [
    "# reverse first k elements of queue \n",
    "import queue\n",
    "def reversek(q,k):\n",
    "    if (q.empty() == True or k>q.qsize()):\n",
    "        return \n",
    "    if k<=0:\n",
    "        return\n",
    "    stk = []\n",
    "    \n",
    "    for i in range(k):\n",
    "        stk.append(q.queue[0])\n",
    "        q.get()"
   ]
  },
  {
   "cell_type": "code",
   "execution_count": null,
   "metadata": {},
   "outputs": [],
   "source": []
  }
 ],
 "metadata": {
  "kernelspec": {
   "display_name": "Python 3",
   "language": "python",
   "name": "python3"
  },
  "language_info": {
   "codemirror_mode": {
    "name": "ipython",
    "version": 3
   },
   "file_extension": ".py",
   "mimetype": "text/x-python",
   "name": "python",
   "nbconvert_exporter": "python",
   "pygments_lexer": "ipython3",
   "version": "3.7.4"
  }
 },
 "nbformat": 4,
 "nbformat_minor": 2
}

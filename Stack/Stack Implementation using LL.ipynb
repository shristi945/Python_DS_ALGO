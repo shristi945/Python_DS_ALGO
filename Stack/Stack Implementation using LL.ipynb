{
 "cells": [
  {
   "cell_type": "code",
   "execution_count": 13,
   "metadata": {},
   "outputs": [
    {
     "name": "stdout",
     "output_type": "stream",
     "text": [
      "1 20 1 40 1 20 2 3 4 5 -1\n",
      "20\n",
      "40\n",
      "2\n",
      "false\n"
     ]
    }
   ],
   "source": [
    "\n",
    " ###Following Node class us already created internally. You can directly use that.\n",
    "class Node:\n",
    "    def __init__(self,data):\n",
    "        self.data = data\n",
    "        self.next = None\n",
    "        \n",
    "class StackUsingLL:\n",
    "    ### Implement all these functions here\n",
    "    \n",
    "    def __init__(self):\n",
    "        self.__head = None\n",
    "        self.__size = 0\n",
    "\n",
    "    def push(self,data):\n",
    "        if self.__head is None:\n",
    "            self.__head = Node(data)\n",
    "            self.__size += 1\n",
    "        else:\n",
    "            new_node = Node(data)\n",
    "            new_node.next = self.__head\n",
    "            self.__head = new_node\n",
    "            self.__size += 1\n",
    "        \n",
    "    def pop(self):\n",
    "        if self.isEmpty():\n",
    "            return 0\n",
    "        else:\n",
    "            ans = self.__head.data\n",
    "            self.__head = self.__head.next\n",
    "            self.__size -= 1\n",
    "            return ans\n",
    "            \n",
    "    # Return 0 if stack is empty. Don't display any other message\n",
    "    def top(self):\n",
    "        if self.isEmpty():\n",
    "            return 0\n",
    "        else:\n",
    "            return self.__head.data\n",
    "            \n",
    "    # Return 0 if stack is empty. Don't display any other message\n",
    "    def isEmpty(self):\n",
    "        return self.getSize() == 0\n",
    "    def getSize(self):\n",
    "        return self.__size\n",
    "    \n",
    "s = StackUsingLL()\n",
    "li = [int(ele) for ele in input().split()]\n",
    "i=0\n",
    "while i<len(li):\n",
    "    choice = li[i]\n",
    "    if choice == -1:\n",
    "        break\n",
    "    elif choice == 1:\n",
    "        s.push(li[i+1])\n",
    "        i+=1\n",
    "    elif choice == 2:\n",
    "        ans = s.pop()\n",
    "        if ans!=0:\n",
    "            print(ans)\n",
    "        else:\n",
    "            print(-1)\n",
    "    elif choice == 3:\n",
    "        ans = s.top()\n",
    "        if ans!=0:\n",
    "            print(ans)\n",
    "        else:\n",
    "            print(-1)\n",
    "    elif choice == 4:\n",
    "        print(s.getSize())\n",
    "    elif choice == 5:\n",
    "        if(s.isEmpty()):\n",
    "            print('true')\n",
    "        else:\n",
    "            print('false')\n",
    "    i+=1\n"
   ]
  },
  {
   "cell_type": "markdown",
   "metadata": {},
   "source": [
    "#### What I found from above implementation of stack using a linked list.\n",
    "\n",
    "###### Implimentation of stack using ll is much more easier and smarter way as we can perform all the operations in 0(1) complexity if we are keeping head as top."
   ]
  },
  {
   "cell_type": "code",
   "execution_count": null,
   "metadata": {},
   "outputs": [],
   "source": []
  }
 ],
 "metadata": {
  "kernelspec": {
   "display_name": "Python 3",
   "language": "python",
   "name": "python3"
  },
  "language_info": {
   "codemirror_mode": {
    "name": "ipython",
    "version": 3
   },
   "file_extension": ".py",
   "mimetype": "text/x-python",
   "name": "python",
   "nbconvert_exporter": "python",
   "pygments_lexer": "ipython3",
   "version": "3.7.1"
  }
 },
 "nbformat": 4,
 "nbformat_minor": 2
}

{
 "cells": [
  {
   "cell_type": "markdown",
   "metadata": {},
   "source": [
    "###### Given a string mathematical expression, return true if redundant brackets are present in the expression. Brackets are redundant if there is nothing inside the bracket or more than one pair of brackets are present.\n",
    "###### Assume the given string expression is balanced and contains only one type of bracket i.e. ().\n",
    "###### Note: You will not get partial score for this problem. You will get marks only if all test cases are passed."
   ]
  },
  {
   "cell_type": "code",
   "execution_count": 12,
   "metadata": {},
   "outputs": [
    {
     "name": "stdout",
     "output_type": "stream",
     "text": [
      "(a + (b*c)) * (d * ( f * j)) + (a + (b*c)) * (d * ( f * j)) + (a + (b*c)) * (d * ( f * j)) + (a + (b*c)) * (d * ( f * j())) + (a + (b*c)) * (d * ( f * j)) + (a + (b*c)) * (d * ( f * j)) + (a + (b*c)) * (d * ( (f * j))) + (a + (b*c)) * (d * ( f * j)) + (a + (b*c)) * (d * ( f * j)) + (a + (b*c)) * (d * ( f * j)) + (a + (b*c)) * (d * ( f * j)) + (a + (b*c)) * (d * ( f * j)) + (a + (b*c)) + (d * ( f * j)) + ();\n",
      "true\n"
     ]
    }
   ],
   "source": [
    "def checkRedundant(string):\n",
    "    s = [] \n",
    "    for char in string:\n",
    "        if char is not ')':\n",
    "            s.append(char)\n",
    "        elif char is ')':\n",
    "            c = 0\n",
    "            while s[-1] is not \"(\":\n",
    "                s.pop()\n",
    "                c += 1\n",
    "            s.pop()\n",
    "            if c == 0:\n",
    "                return True\n",
    "        \n",
    "    return False\n",
    "            \n",
    "        \n",
    "string = input()\n",
    "ans = checkRedundant(string)\n",
    "if ans:\n",
    "    print(\"true\")\n",
    "else:\n",
    "    print(\"false\")\n",
    "    \n",
    "\n",
    "\n",
    "\n"
   ]
  },
  {
   "cell_type": "code",
   "execution_count": null,
   "metadata": {},
   "outputs": [],
   "source": []
  }
 ],
 "metadata": {
  "kernelspec": {
   "display_name": "Python 3",
   "language": "python",
   "name": "python3"
  },
  "language_info": {
   "codemirror_mode": {
    "name": "ipython",
    "version": 3
   },
   "file_extension": ".py",
   "mimetype": "text/x-python",
   "name": "python",
   "nbconvert_exporter": "python",
   "pygments_lexer": "ipython3",
   "version": "3.7.1"
  }
 },
 "nbformat": 4,
 "nbformat_minor": 2
}

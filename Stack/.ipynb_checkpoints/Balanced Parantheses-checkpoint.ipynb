{
 "cells": [
  {
   "cell_type": "code",
   "execution_count": 11,
   "metadata": {},
   "outputs": [
    {
     "name": "stdout",
     "output_type": "stream",
     "text": [
      ")(\n",
      "false\n"
     ]
    }
   ],
   "source": [
    "\n",
    "def checkBalanced(exp):\n",
    "### Implement your code here\n",
    "    stk = []\n",
    "    flag = 0\n",
    "    d = {']':'[', '}':'{', ')':'('}\n",
    "    for ele in exp:\n",
    "        if ele in d.values():\n",
    "            stk.append(ele)\n",
    "        elif ele in d.keys():\n",
    "            if len(stk) == 0:\n",
    "                flag = 1\n",
    "                break\n",
    "            else:\n",
    "                \n",
    "                if d[ele] == stk.pop():\n",
    "                    continue\n",
    "                else:\n",
    "                    flag = 1\n",
    "                    break\n",
    "    if flag == 1:\n",
    "        return False\n",
    "    else:\n",
    "        if len(stk)==0 :\n",
    "            return True\n",
    "            \n",
    "\n",
    "exp=input()\n",
    "if checkBalanced(exp):\n",
    "    print('true')\n",
    "else:\n",
    "    print('false')\n",
    "\n"
   ]
  },
  {
   "cell_type": "code",
   "execution_count": null,
   "metadata": {},
   "outputs": [],
   "source": []
  },
  {
   "cell_type": "code",
   "execution_count": null,
   "metadata": {},
   "outputs": [],
   "source": []
  }
 ],
 "metadata": {
  "kernelspec": {
   "display_name": "Python 3",
   "language": "python",
   "name": "python3"
  },
  "language_info": {
   "codemirror_mode": {
    "name": "ipython",
    "version": 3
   },
   "file_extension": ".py",
   "mimetype": "text/x-python",
   "name": "python",
   "nbconvert_exporter": "python",
   "pygments_lexer": "ipython3",
   "version": "3.7.1"
  }
 },
 "nbformat": 4,
 "nbformat_minor": 2
}

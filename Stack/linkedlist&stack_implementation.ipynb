{
 "cells": [
  {
   "cell_type": "code",
   "execution_count": 1,
   "metadata": {},
   "outputs": [],
   "source": [
    "class Node:\n",
    "    def __init__(self, data):\n",
    "        self.data = data\n",
    "        self.next = None\n"
   ]
  },
  {
   "cell_type": "code",
   "execution_count": 2,
   "metadata": {},
   "outputs": [],
   "source": [
    "def takeInput():\n",
    "    \n",
    "    inputlist = [int(ele) for ele in input().split()]\n",
    "    head = None\n",
    "    for currdata in inputlist:\n",
    "        if currdata == -1:\n",
    "            break\n",
    "        newNode = Node(currdata)\n",
    "        \n",
    "        if head is None:\n",
    "            head = newNode\n",
    "        else:\n",
    "            curr = head\n",
    "            \n",
    "            while curr.next is not None:\n",
    "                curr = curr.next\n",
    "            curr.next = newNode\n",
    "    return head"
   ]
  },
  {
   "cell_type": "code",
   "execution_count": 5,
   "metadata": {},
   "outputs": [],
   "source": [
    "def printLL(head):\n",
    "    \n",
    "    if head is None:\n",
    "        print(None)\n",
    "    else:\n",
    "        \n",
    "        curr = head\n",
    "        \n",
    "        while curr is not None:\n",
    "            \n",
    "            print(str(curr.data)+ '->', end='')\n",
    "            curr = curr.next\n",
    "        print(None)"
   ]
  },
  {
   "cell_type": "code",
   "execution_count": 8,
   "metadata": {},
   "outputs": [
    {
     "name": "stdout",
     "output_type": "stream",
     "text": [
      "1 2 3 4 -1\n",
      "1->2->3->4->None\n"
     ]
    }
   ],
   "source": [
    "head = takeInput2()\n",
    "printLL(head)"
   ]
  },
  {
   "cell_type": "code",
   "execution_count": 7,
   "metadata": {},
   "outputs": [],
   "source": [
    "def takeInput2():\n",
    "    \n",
    "    inputlist = [int(ele) for ele in input().split()]\n",
    "    head = None\n",
    "    for currdata in inputlist:\n",
    "        if currdata == -1:\n",
    "            break\n",
    "        newNode = Node(currdata)\n",
    "        \n",
    "        if head is None:\n",
    "            head = newNode\n",
    "            curr = head\n",
    "        else:\n",
    "            curr.next = newNode\n",
    "            curr = curr.next\n",
    "            \n",
    "    return head"
   ]
  },
  {
   "cell_type": "code",
   "execution_count": 18,
   "metadata": {},
   "outputs": [],
   "source": [
    "\n",
    "def ithNode(head, i):\n",
    "    curr = head\n",
    "    \n",
    "    count = -1\n",
    "    \n",
    "    while curr is not None:\n",
    "        count += 1\n",
    "        \n",
    "        if i == count:\n",
    "            return curr.data\n",
    "        else:\n",
    "            curr = curr.next\n",
    "            \n",
    "    if i>count:\n",
    "        return -1"
   ]
  },
  {
   "cell_type": "code",
   "execution_count": 19,
   "metadata": {},
   "outputs": [
    {
     "name": "stdout",
     "output_type": "stream",
     "text": [
      "1 -1\n"
     ]
    },
    {
     "data": {
      "text/plain": [
       "-1"
      ]
     },
     "execution_count": 19,
     "metadata": {},
     "output_type": "execute_result"
    }
   ],
   "source": [
    "head = takeInput2()\n",
    "ithNode(head, 2)"
   ]
  },
  {
   "cell_type": "code",
   "execution_count": 25,
   "metadata": {},
   "outputs": [],
   "source": [
    "# 0(n2)\n",
    "\n",
    "def reverse(head):\n",
    "    if head is None:\n",
    "        return None\n",
    "    if head.next is None:\n",
    "        return head\n",
    "    \n",
    "    newhead = reverse(head.next)\n",
    "    curr = newhead\n",
    "    while curr.next is not None:\n",
    "        curr = curr.next\n",
    "    curr.next = head\n",
    "    head.next = None\n",
    "    \n",
    "    return newhead"
   ]
  },
  {
   "cell_type": "code",
   "execution_count": 26,
   "metadata": {},
   "outputs": [
    {
     "name": "stdout",
     "output_type": "stream",
     "text": [
      "1 2 3 4 -1\n",
      "4->3->2->1->None\n"
     ]
    }
   ],
   "source": [
    "head = takeInput2()\n",
    "newhead = reverse(head)\n",
    "printLL(newhead)"
   ]
  },
  {
   "cell_type": "code",
   "execution_count": 32,
   "metadata": {},
   "outputs": [],
   "source": [
    "# 0(n)\n",
    "\n",
    "def reverse2(head):\n",
    "    if head is None or head.next is None:\n",
    "        return head, head\n",
    "    \n",
    "    newhead, newtail = reverse2(head.next)\n",
    "    \n",
    "    newtail.next = head\n",
    "    head.next = None\n",
    "    \n",
    "    return newhead, head"
   ]
  },
  {
   "cell_type": "code",
   "execution_count": 33,
   "metadata": {},
   "outputs": [
    {
     "name": "stdout",
     "output_type": "stream",
     "text": [
      "1 2 3 4 -1\n",
      "4->3->2->1->None\n"
     ]
    }
   ],
   "source": [
    "head = takeInput2()\n",
    "newhead, tail = reverse2(head)\n",
    "printLL(newhead)"
   ]
  },
  {
   "cell_type": "code",
   "execution_count": 35,
   "metadata": {},
   "outputs": [],
   "source": [
    "\n",
    "def reverse3(head):\n",
    "    if head is None or head.next is None:\n",
    "        return head\n",
    "    \n",
    "    newhead = reverse3(head.next)\n",
    "    \n",
    "    head.next.next = head\n",
    "    head.next = None\n",
    "    \n",
    "    return newhead"
   ]
  },
  {
   "cell_type": "code",
   "execution_count": 37,
   "metadata": {},
   "outputs": [
    {
     "name": "stdout",
     "output_type": "stream",
     "text": [
      "1 2 3 4 -1\n",
      "4->3->2->1->None\n"
     ]
    }
   ],
   "source": [
    "head = takeInput2()\n",
    "newhead = reverse3(head)\n",
    "printLL(newhead)"
   ]
  },
  {
   "cell_type": "code",
   "execution_count": 41,
   "metadata": {},
   "outputs": [],
   "source": [
    "def itireverse(head):\n",
    "    if head is None:\n",
    "        return\n",
    "    if head.next is None:\n",
    "        return head\n",
    "    \n",
    "    p = head\n",
    "    q = p.next \n",
    "    r = q.next\n",
    "    while r is not None:\n",
    "        q.next = p\n",
    "        p = q\n",
    "        q = r\n",
    "        r = r.next\n",
    "    q.next = p\n",
    "    head.next = None\n",
    "    head = q\n",
    "    \n",
    "    return head"
   ]
  },
  {
   "cell_type": "code",
   "execution_count": 42,
   "metadata": {},
   "outputs": [
    {
     "name": "stdout",
     "output_type": "stream",
     "text": [
      "1 2 3 4 -1\n",
      "4->3->2->1->None\n"
     ]
    }
   ],
   "source": [
    "head = takeInput2()\n",
    "newhead = itireverse(head)\n",
    "printLL(newhead)"
   ]
  },
  {
   "cell_type": "code",
   "execution_count": 51,
   "metadata": {},
   "outputs": [],
   "source": [
    "def midpoint(head):\n",
    "    if head is None or head.next is None:\n",
    "        return head\n",
    "    \n",
    "    slow, fast = head, head\n",
    "    \n",
    "    while fast.next is not None and fast.next.next is not None:\n",
    "        slow = slow.next\n",
    "        fast = fast.next.next\n",
    "    return slow.data\n",
    "        "
   ]
  },
  {
   "cell_type": "code",
   "execution_count": 53,
   "metadata": {},
   "outputs": [
    {
     "name": "stdout",
     "output_type": "stream",
     "text": [
      "1 2 3 4 5 -1\n",
      "3\n"
     ]
    }
   ],
   "source": [
    "head = takeInput2()\n",
    "data = midpoint(head)\n",
    "print(data)"
   ]
  },
  {
   "cell_type": "code",
   "execution_count": 64,
   "metadata": {},
   "outputs": [],
   "source": [
    "#implementing stack using linked list\n",
    "\n",
    "class Node:\n",
    "    def __init__(self, data):\n",
    "        \n",
    "        self.data = data\n",
    "        self.next = None\n",
    "\n",
    "def push(head, data):\n",
    "    \n",
    "    newNode = Node(data)\n",
    "    if head is None:\n",
    "        head = newNode\n",
    "        return head\n",
    "    \n",
    "    newNode.next = head\n",
    "    head = newNode\n",
    "    \n",
    "    return head\n",
    "def pop(head):\n",
    "    if head is None or head.next is None:\n",
    "        return head\n",
    "\n",
    "    newhead = head.next\n",
    "    \n",
    "    return newhead\n",
    "\n",
    "def top(head):\n",
    "    if head is None:\n",
    "        return \n",
    "    return head.data\n",
    "\n",
    "\n",
    "    \n",
    "    \n",
    "        \n",
    "    "
   ]
  },
  {
   "cell_type": "code",
   "execution_count": 65,
   "metadata": {},
   "outputs": [
    {
     "name": "stdout",
     "output_type": "stream",
     "text": [
      "1 2 3 4 -1\n",
      "13->10->1->2->3->4->None\n",
      "13\n",
      "10->1->2->3->4->None\n",
      "10\n"
     ]
    }
   ],
   "source": [
    "head = takeInput2()\n",
    "newhead = push(head, 10)\n",
    "newhead = push(newhead, 13)\n",
    "printLL(newhead)\n",
    "nnewhead = pop(newhead)\n",
    "print(poped)\n",
    "printLL(nnewhead)\n",
    "print(top(nnewhead))"
   ]
  },
  {
   "cell_type": "code",
   "execution_count": 72,
   "metadata": {},
   "outputs": [],
   "source": [
    "def paranthesis_checker(exp):\n",
    "        stk= []\n",
    "        flag = 0\n",
    "        exp_dictionary = {']': '[', ')':'(', '}': '{'}\n",
    "        for ele in exp:\n",
    "            if ele in exp_dictionary.values():\n",
    "                stk.append(ele)\n",
    "            if ele in exp_dictionary.keys():\n",
    "                if len(stk) == 0:\n",
    "                    flag = 1\n",
    "                    break\n",
    "                else:\n",
    "                    if exp_dictionary[ele] != stk.pop():\n",
    "                        flag = 1\n",
    "                        break\n",
    "        if len(stk) == 0 and flag == 0:\n",
    "            print(True)\n",
    "        else:\n",
    "            print(False)"
   ]
  },
  {
   "cell_type": "code",
   "execution_count": 76,
   "metadata": {},
   "outputs": [
    {
     "name": "stdout",
     "output_type": "stream",
     "text": [
      "False\n"
     ]
    }
   ],
   "source": [
    "paranthesis_checker('[{()}](())]')"
   ]
  },
  {
   "cell_type": "code",
   "execution_count": null,
   "metadata": {},
   "outputs": [],
   "source": []
  },
  {
   "cell_type": "code",
   "execution_count": 104,
   "metadata": {},
   "outputs": [],
   "source": [
    "def stockSpan(a,n):\n",
    "    \n",
    "    stk = [0]*n\n",
    "    for i in range(len(a[1:])):\n",
    "        j = i-1\n",
    "        while j >= 0:\n",
    "            if a[i]>a[j]:\n",
    "                stk[i] = stk[i] + stk[j]\n",
    "                j = j-stk[j]\n",
    "            else:\n",
    "                break\n",
    "            \n",
    "    return stk"
   ]
  },
  {
   "cell_type": "code",
   "execution_count": 105,
   "metadata": {},
   "outputs": [
    {
     "name": "stdout",
     "output_type": "stream",
     "text": [
      "2 1\n",
      "3 1\n",
      "4 1\n",
      "2 1\n"
     ]
    },
    {
     "data": {
      "text/plain": [
       "[1, 2, 3, 4, 1, 1, 2, 1]"
      ]
     },
     "execution_count": 105,
     "metadata": {},
     "output_type": "execute_result"
    }
   ],
   "source": [
    "l = [60, 70, 80, 100, 90, 75, 80, 120]\n",
    "stockSpan(l, 8)"
   ]
  },
  {
   "cell_type": "code",
   "execution_count": 108,
   "metadata": {},
   "outputs": [
    {
     "data": {
      "text/plain": [
       "8"
      ]
     },
     "execution_count": 108,
     "metadata": {},
     "output_type": "execute_result"
    }
   ],
   "source": [
    "len(l)"
   ]
  },
  {
   "cell_type": "code",
   "execution_count": null,
   "metadata": {},
   "outputs": [],
   "source": []
  }
 ],
 "metadata": {
  "kernelspec": {
   "display_name": "Python 3",
   "language": "python",
   "name": "python3"
  },
  "language_info": {
   "codemirror_mode": {
    "name": "ipython",
    "version": 3
   },
   "file_extension": ".py",
   "mimetype": "text/x-python",
   "name": "python",
   "nbconvert_exporter": "python",
   "pygments_lexer": "ipython3",
   "version": "3.7.4"
  }
 },
 "nbformat": 4,
 "nbformat_minor": 2
}

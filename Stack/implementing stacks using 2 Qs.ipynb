{
 "cells": [
  {
   "cell_type": "code",
   "execution_count": 10,
   "metadata": {},
   "outputs": [
    {
     "name": "stdout",
     "output_type": "stream",
     "text": [
      "1 3 1 4 1 63 1 21 1 9 2 3 1 7 2 2 2 3 5\n",
      "9\n",
      "21\n",
      "7\n",
      "21\n",
      "63\n",
      "4\n",
      "3 4 "
     ]
    }
   ],
   "source": [
    "\n",
    "import queue\n",
    "class StackUsingQueues:\n",
    "    \n",
    "    def __init__(self):\n",
    "        self.q1 = queue.Queue()\n",
    "        self.q2 = queue.Queue()\n",
    "        self.count = 0\n",
    "        \n",
    "    def push(self,data):\n",
    "        self.q1.put(data)\n",
    "#         self.count += 1\n",
    "\n",
    "    def pop(self):\n",
    "        if self.q1.qsize() ==0:\n",
    "            return 0\n",
    "\n",
    "        while self.q1.qsize() != 1:\n",
    "            self.q2.put(self.q1.get())\n",
    "            \n",
    "        ele = self.q1.get()\n",
    "        while self.q2.qsize()!=0:\n",
    "            self.q1.put(self.q2.get())\n",
    "        return ele\n",
    "    \n",
    "    def top(self):\n",
    "        while self.q1.qsize() != 1:\n",
    "            self.q2.put(self.q1.get())\n",
    "        ele = self.q1.get()\n",
    "        while self.q2.qsize() != 0:\n",
    "            self.q1.put(self.q2.get())\n",
    "        self.q1.put(ele)\n",
    "        return ele\n",
    "        \n",
    "    def getSize(self):\n",
    "        return self.q1.qsize()\n",
    "    \n",
    "s = StackUsingQueues()\n",
    "li = [int(ele) for ele in input().split()]\n",
    "i=0\n",
    "while i<len(li):\n",
    "    choice = li[i]\n",
    "    if choice == -1:\n",
    "        break\n",
    "    elif choice == 1:\n",
    "        s.push(li[i+1])\n",
    "        i+=1\n",
    "    elif choice == 2:\n",
    "        ans = s.pop()\n",
    "        if ans!=0:\n",
    "            print(ans)\n",
    "        else:\n",
    "            print(-1)\n",
    "    elif choice == 3:\n",
    "        ans = s.top()\n",
    "        if ans!=0:\n",
    "            print(ans)\n",
    "        else:\n",
    "            print(-1)\n",
    "    elif choice == 4:\n",
    "        print(s.getSize())\n",
    "    elif choice == 5:\n",
    "        while s.q1.qsize() !=0:\n",
    "            print(s.q1.get(),end=' ')\n",
    "            \n",
    "    i+=1\n",
    "\n",
    "\n",
    "\n",
    "\n",
    "\n",
    "\n"
   ]
  },
  {
   "cell_type": "code",
   "execution_count": null,
   "metadata": {},
   "outputs": [],
   "source": []
  }
 ],
 "metadata": {
  "kernelspec": {
   "display_name": "Python 3",
   "language": "python",
   "name": "python3"
  },
  "language_info": {
   "codemirror_mode": {
    "name": "ipython",
    "version": 3
   },
   "file_extension": ".py",
   "mimetype": "text/x-python",
   "name": "python",
   "nbconvert_exporter": "python",
   "pygments_lexer": "ipython3",
   "version": "3.7.1"
  }
 },
 "nbformat": 4,
 "nbformat_minor": 2
}

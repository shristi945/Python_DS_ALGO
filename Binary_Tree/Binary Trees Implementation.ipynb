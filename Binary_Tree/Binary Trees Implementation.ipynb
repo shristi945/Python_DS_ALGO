{
 "cells": [
  {
   "cell_type": "code",
   "execution_count": 7,
   "metadata": {},
   "outputs": [],
   "source": [
    "class BinaryTreeNode:\n",
    "    def __init__(self, data):\n",
    "        self.data = data\n",
    "        self.left  = None\n",
    "        self.right = None\n",
    "        "
   ]
  },
  {
   "cell_type": "code",
   "execution_count": 17,
   "metadata": {},
   "outputs": [],
   "source": [
    "def printTreeDetailed(root):\n",
    "    if root is None:\n",
    "        return \n",
    "    print(root.data, end = ':')\n",
    "    if root.left is not None:\n",
    "        print('L ', root.left.data, end =',')\n",
    "    if root.right is not None:\n",
    "        print('R ', root.right.data, end = '')\n",
    "    print() \n",
    "    printTreeDetailed(root.left)\n",
    "    printTreeDetailed(root.right)"
   ]
  },
  {
   "cell_type": "code",
   "execution_count": 5,
   "metadata": {},
   "outputs": [],
   "source": [
    "node1 = BinaryTreeNode(1)\n",
    "node2 = BinaryTreeNode(2)\n",
    "node3 = BinaryTreeNode(3)\n",
    "\n",
    "node1.left = node2\n",
    "node1.right = node3"
   ]
  },
  {
   "cell_type": "code",
   "execution_count": 6,
   "metadata": {},
   "outputs": [
    {
     "name": "stdout",
     "output_type": "stream",
     "text": [
      "1:L  2,R  3\n",
      "2:\n",
      "3:\n"
     ]
    }
   ],
   "source": [
    "printTreeDetailed(node1)"
   ]
  },
  {
   "cell_type": "code",
   "execution_count": 5,
   "metadata": {},
   "outputs": [],
   "source": [
    "def takeInput():\n",
    "    rootData = int(input())\n",
    "    if rootData == -1:\n",
    "        return None\n",
    "    \n",
    "    root = BinaryTreeNode(rootData)\n",
    "    leftTree = takeInput()\n",
    "    rightTree = takeInput()\n",
    "    root.left = leftTree\n",
    "    root.right = rightTree\n",
    "    return root\n",
    "\n",
    "    \n",
    "    "
   ]
  },
  {
   "cell_type": "code",
   "execution_count": 8,
   "metadata": {},
   "outputs": [
    {
     "name": "stdout",
     "output_type": "stream",
     "text": [
      "1\n",
      "2\n",
      "4\n",
      "-1\n",
      "-1\n",
      "-1\n",
      "5\n",
      "-1\n",
      "-1\n",
      "1:L  2,R  5\n",
      "2:L  4,\n",
      "4:\n",
      "5:\n"
     ]
    }
   ],
   "source": [
    "root = takeInput()\n",
    "printTreeDetailed(root)"
   ]
  },
  {
   "cell_type": "code",
   "execution_count": 9,
   "metadata": {},
   "outputs": [],
   "source": [
    "def numberNodes(root):\n",
    "    if root is None:\n",
    "        return 0\n",
    "    x = numberNodes(root.left)\n",
    "    y = numberNodes(root.right)\n",
    "    \n",
    "    return 1+x+y"
   ]
  },
  {
   "cell_type": "code",
   "execution_count": 10,
   "metadata": {},
   "outputs": [
    {
     "ename": "KeyboardInterrupt",
     "evalue": "",
     "output_type": "error",
     "traceback": [
      "\u001b[0;31m---------------------------------------------------------------------------\u001b[0m",
      "\u001b[0;31mKeyboardInterrupt\u001b[0m                         Traceback (most recent call last)",
      "\u001b[0;32m~/anaconda3/lib/python3.7/site-packages/ipykernel/kernelbase.py\u001b[0m in \u001b[0;36m_input_request\u001b[0;34m(self, prompt, ident, parent, password)\u001b[0m\n\u001b[1;32m    884\u001b[0m             \u001b[0;32mtry\u001b[0m\u001b[0;34m:\u001b[0m\u001b[0;34m\u001b[0m\u001b[0;34m\u001b[0m\u001b[0m\n\u001b[0;32m--> 885\u001b[0;31m                 \u001b[0mident\u001b[0m\u001b[0;34m,\u001b[0m \u001b[0mreply\u001b[0m \u001b[0;34m=\u001b[0m \u001b[0mself\u001b[0m\u001b[0;34m.\u001b[0m\u001b[0msession\u001b[0m\u001b[0;34m.\u001b[0m\u001b[0mrecv\u001b[0m\u001b[0;34m(\u001b[0m\u001b[0mself\u001b[0m\u001b[0;34m.\u001b[0m\u001b[0mstdin_socket\u001b[0m\u001b[0;34m,\u001b[0m \u001b[0;36m0\u001b[0m\u001b[0;34m)\u001b[0m\u001b[0;34m\u001b[0m\u001b[0;34m\u001b[0m\u001b[0m\n\u001b[0m\u001b[1;32m    886\u001b[0m             \u001b[0;32mexcept\u001b[0m \u001b[0mException\u001b[0m\u001b[0;34m:\u001b[0m\u001b[0;34m\u001b[0m\u001b[0;34m\u001b[0m\u001b[0m\n",
      "\u001b[0;32m~/anaconda3/lib/python3.7/site-packages/jupyter_client/session.py\u001b[0m in \u001b[0;36mrecv\u001b[0;34m(self, socket, mode, content, copy)\u001b[0m\n\u001b[1;32m    802\u001b[0m         \u001b[0;32mtry\u001b[0m\u001b[0;34m:\u001b[0m\u001b[0;34m\u001b[0m\u001b[0;34m\u001b[0m\u001b[0m\n\u001b[0;32m--> 803\u001b[0;31m             \u001b[0mmsg_list\u001b[0m \u001b[0;34m=\u001b[0m \u001b[0msocket\u001b[0m\u001b[0;34m.\u001b[0m\u001b[0mrecv_multipart\u001b[0m\u001b[0;34m(\u001b[0m\u001b[0mmode\u001b[0m\u001b[0;34m,\u001b[0m \u001b[0mcopy\u001b[0m\u001b[0;34m=\u001b[0m\u001b[0mcopy\u001b[0m\u001b[0;34m)\u001b[0m\u001b[0;34m\u001b[0m\u001b[0;34m\u001b[0m\u001b[0m\n\u001b[0m\u001b[1;32m    804\u001b[0m         \u001b[0;32mexcept\u001b[0m \u001b[0mzmq\u001b[0m\u001b[0;34m.\u001b[0m\u001b[0mZMQError\u001b[0m \u001b[0;32mas\u001b[0m \u001b[0me\u001b[0m\u001b[0;34m:\u001b[0m\u001b[0;34m\u001b[0m\u001b[0;34m\u001b[0m\u001b[0m\n",
      "\u001b[0;32m~/anaconda3/lib/python3.7/site-packages/zmq/sugar/socket.py\u001b[0m in \u001b[0;36mrecv_multipart\u001b[0;34m(self, flags, copy, track)\u001b[0m\n\u001b[1;32m    474\u001b[0m         \"\"\"\n\u001b[0;32m--> 475\u001b[0;31m         \u001b[0mparts\u001b[0m \u001b[0;34m=\u001b[0m \u001b[0;34m[\u001b[0m\u001b[0mself\u001b[0m\u001b[0;34m.\u001b[0m\u001b[0mrecv\u001b[0m\u001b[0;34m(\u001b[0m\u001b[0mflags\u001b[0m\u001b[0;34m,\u001b[0m \u001b[0mcopy\u001b[0m\u001b[0;34m=\u001b[0m\u001b[0mcopy\u001b[0m\u001b[0;34m,\u001b[0m \u001b[0mtrack\u001b[0m\u001b[0;34m=\u001b[0m\u001b[0mtrack\u001b[0m\u001b[0;34m)\u001b[0m\u001b[0;34m]\u001b[0m\u001b[0;34m\u001b[0m\u001b[0;34m\u001b[0m\u001b[0m\n\u001b[0m\u001b[1;32m    476\u001b[0m         \u001b[0;31m# have first part already, only loop while more to receive\u001b[0m\u001b[0;34m\u001b[0m\u001b[0;34m\u001b[0m\u001b[0;34m\u001b[0m\u001b[0m\n",
      "\u001b[0;32mzmq/backend/cython/socket.pyx\u001b[0m in \u001b[0;36mzmq.backend.cython.socket.Socket.recv\u001b[0;34m()\u001b[0m\n",
      "\u001b[0;32mzmq/backend/cython/socket.pyx\u001b[0m in \u001b[0;36mzmq.backend.cython.socket.Socket.recv\u001b[0;34m()\u001b[0m\n",
      "\u001b[0;32mzmq/backend/cython/socket.pyx\u001b[0m in \u001b[0;36mzmq.backend.cython.socket._recv_copy\u001b[0;34m()\u001b[0m\n",
      "\u001b[0;32m~/anaconda3/lib/python3.7/site-packages/zmq/backend/cython/checkrc.pxd\u001b[0m in \u001b[0;36mzmq.backend.cython.checkrc._check_rc\u001b[0;34m()\u001b[0m\n",
      "\u001b[0;31mKeyboardInterrupt\u001b[0m: ",
      "\nDuring handling of the above exception, another exception occurred:\n",
      "\u001b[0;31mKeyboardInterrupt\u001b[0m                         Traceback (most recent call last)",
      "\u001b[0;32m<ipython-input-10-6fc30f64ca94>\u001b[0m in \u001b[0;36m<module>\u001b[0;34m\u001b[0m\n\u001b[0;32m----> 1\u001b[0;31m \u001b[0mroot\u001b[0m \u001b[0;34m=\u001b[0m \u001b[0mtakeInput\u001b[0m\u001b[0;34m(\u001b[0m\u001b[0;34m)\u001b[0m\u001b[0;34m\u001b[0m\u001b[0;34m\u001b[0m\u001b[0m\n\u001b[0m\u001b[1;32m      2\u001b[0m \u001b[0mprintTreeDetailed\u001b[0m\u001b[0;34m(\u001b[0m\u001b[0mroot\u001b[0m\u001b[0;34m)\u001b[0m\u001b[0;34m\u001b[0m\u001b[0;34m\u001b[0m\u001b[0m\n\u001b[1;32m      3\u001b[0m \u001b[0mprint\u001b[0m\u001b[0;34m(\u001b[0m\u001b[0mnumberNodes\u001b[0m\u001b[0;34m(\u001b[0m\u001b[0mroot\u001b[0m\u001b[0;34m)\u001b[0m\u001b[0;34m)\u001b[0m\u001b[0;34m\u001b[0m\u001b[0;34m\u001b[0m\u001b[0m\n",
      "\u001b[0;32m<ipython-input-7-f0e88beb0fc2>\u001b[0m in \u001b[0;36mtakeInput\u001b[0;34m()\u001b[0m\n\u001b[1;32m      1\u001b[0m \u001b[0;32mdef\u001b[0m \u001b[0mtakeInput\u001b[0m\u001b[0;34m(\u001b[0m\u001b[0;34m)\u001b[0m\u001b[0;34m:\u001b[0m\u001b[0;34m\u001b[0m\u001b[0;34m\u001b[0m\u001b[0m\n\u001b[0;32m----> 2\u001b[0;31m     \u001b[0mrootData\u001b[0m \u001b[0;34m=\u001b[0m \u001b[0mint\u001b[0m\u001b[0;34m(\u001b[0m\u001b[0minput\u001b[0m\u001b[0;34m(\u001b[0m\u001b[0;34m)\u001b[0m\u001b[0;34m)\u001b[0m\u001b[0;34m\u001b[0m\u001b[0;34m\u001b[0m\u001b[0m\n\u001b[0m\u001b[1;32m      3\u001b[0m     \u001b[0;32mif\u001b[0m \u001b[0mrootData\u001b[0m \u001b[0;34m==\u001b[0m \u001b[0;34m-\u001b[0m\u001b[0;36m1\u001b[0m\u001b[0;34m:\u001b[0m\u001b[0;34m\u001b[0m\u001b[0;34m\u001b[0m\u001b[0m\n\u001b[1;32m      4\u001b[0m         \u001b[0;32mreturn\u001b[0m \u001b[0;32mNone\u001b[0m\u001b[0;34m\u001b[0m\u001b[0;34m\u001b[0m\u001b[0m\n\u001b[1;32m      5\u001b[0m \u001b[0;34m\u001b[0m\u001b[0m\n",
      "\u001b[0;32m~/anaconda3/lib/python3.7/site-packages/ipykernel/kernelbase.py\u001b[0m in \u001b[0;36mraw_input\u001b[0;34m(self, prompt)\u001b[0m\n\u001b[1;32m    858\u001b[0m             \u001b[0mself\u001b[0m\u001b[0;34m.\u001b[0m\u001b[0m_parent_ident\u001b[0m\u001b[0;34m,\u001b[0m\u001b[0;34m\u001b[0m\u001b[0;34m\u001b[0m\u001b[0m\n\u001b[1;32m    859\u001b[0m             \u001b[0mself\u001b[0m\u001b[0;34m.\u001b[0m\u001b[0m_parent_header\u001b[0m\u001b[0;34m,\u001b[0m\u001b[0;34m\u001b[0m\u001b[0;34m\u001b[0m\u001b[0m\n\u001b[0;32m--> 860\u001b[0;31m             \u001b[0mpassword\u001b[0m\u001b[0;34m=\u001b[0m\u001b[0;32mFalse\u001b[0m\u001b[0;34m,\u001b[0m\u001b[0;34m\u001b[0m\u001b[0;34m\u001b[0m\u001b[0m\n\u001b[0m\u001b[1;32m    861\u001b[0m         )\n\u001b[1;32m    862\u001b[0m \u001b[0;34m\u001b[0m\u001b[0m\n",
      "\u001b[0;32m~/anaconda3/lib/python3.7/site-packages/ipykernel/kernelbase.py\u001b[0m in \u001b[0;36m_input_request\u001b[0;34m(self, prompt, ident, parent, password)\u001b[0m\n\u001b[1;32m    888\u001b[0m             \u001b[0;32mexcept\u001b[0m \u001b[0mKeyboardInterrupt\u001b[0m\u001b[0;34m:\u001b[0m\u001b[0;34m\u001b[0m\u001b[0;34m\u001b[0m\u001b[0m\n\u001b[1;32m    889\u001b[0m                 \u001b[0;31m# re-raise KeyboardInterrupt, to truncate traceback\u001b[0m\u001b[0;34m\u001b[0m\u001b[0;34m\u001b[0m\u001b[0;34m\u001b[0m\u001b[0m\n\u001b[0;32m--> 890\u001b[0;31m                 \u001b[0;32mraise\u001b[0m \u001b[0mKeyboardInterrupt\u001b[0m\u001b[0;34m\u001b[0m\u001b[0;34m\u001b[0m\u001b[0m\n\u001b[0m\u001b[1;32m    891\u001b[0m             \u001b[0;32melse\u001b[0m\u001b[0;34m:\u001b[0m\u001b[0;34m\u001b[0m\u001b[0;34m\u001b[0m\u001b[0m\n\u001b[1;32m    892\u001b[0m                 \u001b[0;32mbreak\u001b[0m\u001b[0;34m\u001b[0m\u001b[0;34m\u001b[0m\u001b[0m\n",
      "\u001b[0;31mKeyboardInterrupt\u001b[0m: "
     ]
    }
   ],
   "source": [
    "root = takeInput()\n",
    "printTreeDetailed(root)\n",
    "print(numberNodes(root))"
   ]
  },
  {
   "cell_type": "code",
   "execution_count": null,
   "metadata": {},
   "outputs": [],
   "source": [
    "def sumNodes(root):\n",
    "    if root is None:\n",
    "        return 0\n",
    "    leftSum = sumNodes(root.left)\n",
    "    rightSum = sumNodes(root.right)\n",
    "    \n",
    "    return root.data + leftSum + rightSum"
   ]
  },
  {
   "cell_type": "code",
   "execution_count": null,
   "metadata": {},
   "outputs": [],
   "source": [
    "root = takeInput()\n",
    "printTreeDetailed(root)\n",
    "print(\"Sum of Nodes:\", sumNodes(root))"
   ]
  },
  {
   "cell_type": "code",
   "execution_count": null,
   "metadata": {},
   "outputs": [],
   "source": [
    "def printPreOrder(root):\n",
    "    if root is None:\n",
    "        return \n",
    "    print(root.data, end=\" \")\n",
    "    printPreOrder(root.left)\n",
    "    printPreOrder(root.right)\n",
    "    "
   ]
  },
  {
   "cell_type": "code",
   "execution_count": null,
   "metadata": {},
   "outputs": [],
   "source": [
    "root = takeInput()\n",
    "printTreeDetailed(root)\n",
    "printPreOrder(root)"
   ]
  },
  {
   "cell_type": "code",
   "execution_count": null,
   "metadata": {},
   "outputs": [],
   "source": [
    "def printPostOrder(root):\n",
    "    if root is None:\n",
    "        return \n",
    "    printPostOrder(root.left)\n",
    "    printPostOrder(root.right)\n",
    "    print(root.data, end=\" \")\n",
    "    "
   ]
  },
  {
   "cell_type": "code",
   "execution_count": null,
   "metadata": {},
   "outputs": [],
   "source": [
    "root = takeInput()\n",
    "printTreeDetailed(root)\n",
    "printPostOrder(root)"
   ]
  },
  {
   "cell_type": "code",
   "execution_count": null,
   "metadata": {},
   "outputs": [],
   "source": [
    "def largestData(root):\n",
    "    if root is None:\n",
    "        return -1\n",
    "    maxLeft = largestData(root.left)\n",
    "    maxRight = largestData(root.right)\n",
    "    largest = max(root.data, maxLeft, maxRight)\n",
    "    \n",
    "    return largest"
   ]
  },
  {
   "cell_type": "code",
   "execution_count": null,
   "metadata": {},
   "outputs": [],
   "source": [
    "root = takeInput()\n",
    "printTreeDetailed(root)\n",
    "largestData(root)"
   ]
  },
  {
   "cell_type": "code",
   "execution_count": 15,
   "metadata": {},
   "outputs": [],
   "source": [
    "def heightOfTree(root):\n",
    "    if root is None:\n",
    "        return 0\n",
    "    leftHeight = heightOfTree(root.left)\n",
    "    rightHeight = heightOfTree(root.right)\n",
    "    \n",
    "    return 1+max(leftHeight, rightHeight)"
   ]
  },
  {
   "cell_type": "code",
   "execution_count": null,
   "metadata": {},
   "outputs": [],
   "source": [
    "root = takeInput()\n",
    "printTreeDetailed(root)\n",
    "heightOfTree(root)"
   ]
  },
  {
   "cell_type": "code",
   "execution_count": null,
   "metadata": {},
   "outputs": [],
   "source": [
    "def numberOfLeafNode(root):\n",
    "    if root is None:\n",
    "        return 0\n",
    "    if root.right is None and root.left is None:\n",
    "        return 1\n",
    "    return numberOfLeafNode(root.left)+numberOfLeafNode(root.right)"
   ]
  },
  {
   "cell_type": "code",
   "execution_count": null,
   "metadata": {},
   "outputs": [],
   "source": [
    "root = takeInput()\n",
    "printTreeDetailed(root)\n",
    "numberOfLeafNode(root)"
   ]
  },
  {
   "cell_type": "code",
   "execution_count": 20,
   "metadata": {},
   "outputs": [],
   "source": [
    "def printNodeAtK(root, k):\n",
    "    if root is None:\n",
    "        return \n",
    "    if k == 0:\n",
    "        print(root.data)\n",
    "        return\n",
    "    \n",
    "    printNodeAtK(root.left, k-1)\n",
    "    printNodeAtK(root.right, k-1)\n",
    "    "
   ]
  },
  {
   "cell_type": "code",
   "execution_count": 23,
   "metadata": {},
   "outputs": [
    {
     "name": "stdout",
     "output_type": "stream",
     "text": [
      "1\n",
      "2\n",
      "4\n",
      "-1\n",
      "-1\n",
      "5\n",
      "-1\n",
      "-1\n",
      "3\n",
      "6\n",
      "-1\n",
      "-1\n",
      "-1\n",
      "1:L  2,R  3\n",
      "2:L  4,R  5\n",
      "4:\n",
      "5:\n",
      "3:L  6,\n",
      "6:\n",
      "4\n",
      "5\n",
      "6\n"
     ]
    }
   ],
   "source": [
    "root = takeInput()\n",
    "printTreeDetailed(root)\n",
    "printNodeAtK(root, 2)"
   ]
  },
  {
   "cell_type": "code",
   "execution_count": 24,
   "metadata": {},
   "outputs": [],
   "source": [
    "def printNodeAtK2(root, k, d=0):\n",
    "    if root is None:\n",
    "        return \n",
    "    if k == d:\n",
    "        print(root.data)\n",
    "        return \n",
    "    printNodeAtK2(root.left, k, d+1)\n",
    "    printNodeAtK2(root.right, k, d+1)"
   ]
  },
  {
   "cell_type": "code",
   "execution_count": 25,
   "metadata": {},
   "outputs": [
    {
     "name": "stdout",
     "output_type": "stream",
     "text": [
      "1\n",
      "2\n",
      "4\n",
      "-1\n",
      "-1\n",
      "5\n",
      "-1\n",
      "-1\n",
      "3\n",
      "6\n",
      "-1\n",
      "-1\n",
      "-1\n",
      "1:L  2,R  3\n",
      "2:L  4,R  5\n",
      "4:\n",
      "5:\n",
      "3:L  6,\n",
      "6:\n",
      "4\n",
      "5\n",
      "6\n"
     ]
    }
   ],
   "source": [
    "root = takeInput()\n",
    "printTreeDetailed(root)\n",
    "printNodeAtK2(root, 2)"
   ]
  },
  {
   "cell_type": "code",
   "execution_count": 26,
   "metadata": {},
   "outputs": [],
   "source": [
    "def findX(root, x):\n",
    "    if root is None:\n",
    "        return False\n",
    "    if root.data == x:\n",
    "        return True\n",
    "    \n",
    "    return findX(root.left, x) or findX(root.right, x)"
   ]
  },
  {
   "cell_type": "code",
   "execution_count": 28,
   "metadata": {},
   "outputs": [
    {
     "name": "stdout",
     "output_type": "stream",
     "text": [
      "1\n",
      "2\n",
      "4\n",
      "-1\n",
      "-1\n",
      "5\n",
      "-1\n",
      "-1\n",
      "3\n",
      "6\n",
      "-1\n",
      "-1\n",
      "-1\n",
      "1:L  2,R  3\n",
      "2:L  4,R  5\n",
      "4:\n",
      "5:\n",
      "3:L  6,\n",
      "6:\n"
     ]
    },
    {
     "data": {
      "text/plain": [
       "False"
      ]
     },
     "execution_count": 28,
     "metadata": {},
     "output_type": "execute_result"
    }
   ],
   "source": [
    "root = takeInput()\n",
    "printTreeDetailed(root)\n",
    "findX(root, 9)"
   ]
  },
  {
   "cell_type": "code",
   "execution_count": 33,
   "metadata": {},
   "outputs": [],
   "source": [
    "def nodesWithoutSiblings(root):\n",
    "    if root is None:\n",
    "        return\n",
    "    if root.left is None and root.right is not None:\n",
    "        print(root.right.data)\n",
    "    if root.right is None and root.left is not None:\n",
    "        print(root.left.data)\n",
    "    nodesWithoutSiblings(root.left)\n",
    "    nodesWithoutSiblings(root.right)"
   ]
  },
  {
   "cell_type": "code",
   "execution_count": 34,
   "metadata": {},
   "outputs": [
    {
     "name": "stdout",
     "output_type": "stream",
     "text": [
      "2\n",
      "4\n",
      "6\n",
      "20\n",
      "-1\n",
      "-1\n",
      "30\n",
      "8\n",
      "-1\n",
      "-1\n",
      "-1\n",
      "-1\n",
      "5\n",
      "-1\n",
      "7\n",
      "80\n",
      "-1\n",
      "9\n",
      "-1\n",
      "-1\n",
      "90\n",
      "-1\n",
      "-1\n",
      "2:L  4,R  5\n",
      "4:L  6,\n",
      "6:L  20,R  30\n",
      "20:\n",
      "30:L  8,\n",
      "8:\n",
      "5:R  7\n",
      "7:L  80,R  90\n",
      "80:R  9\n",
      "9:\n",
      "90:\n",
      "7\n",
      "9\n",
      "6\n",
      "8\n"
     ]
    }
   ],
   "source": [
    "root = takeInput()\n",
    "printTreeDetailed(root)\n",
    "nodesWithoutSiblings(root)"
   ]
  },
  {
   "cell_type": "code",
   "execution_count": 49,
   "metadata": {},
   "outputs": [],
   "source": [
    "def removeLeafNode(root):\n",
    "    if root is None:\n",
    "        return\n",
    "    if root.left is None and root.right is None:\n",
    "        return None\n",
    "    \n",
    "    root.left = removeLeafNode(root.left)\n",
    "    root.right = removeLeafNode(root.right)\n",
    "    return root\n",
    "        \n"
   ]
  },
  {
   "cell_type": "code",
   "execution_count": 50,
   "metadata": {},
   "outputs": [
    {
     "name": "stdout",
     "output_type": "stream",
     "text": [
      "1\n",
      "2\n",
      "4\n",
      "-1\n",
      "-1\n",
      "5\n",
      "8\n",
      "-1\n",
      "-1\n",
      "9\n",
      "-1\n",
      "-1\n",
      "3\n",
      "8\n",
      "-1\n",
      "-1\n",
      "7\n",
      "-1\n",
      "-1\n",
      "1:L  2,R  3\n",
      "2:L  4,R  5\n",
      "4:\n",
      "5:L  8,R  9\n",
      "8:\n",
      "9:\n",
      "3:L  8,R  7\n",
      "8:\n",
      "7:\n",
      "Changed Tree\n",
      "1:L  2,R  3\n",
      "2:R  5\n",
      "5:\n",
      "3:\n"
     ]
    }
   ],
   "source": [
    "root = takeInput()\n",
    "printTreeDetailed(root)\n",
    "root = removeLeafNode(root)\n",
    "print(\"Changed Tree\")\n",
    "printTreeDetailed(root)"
   ]
  },
  {
   "cell_type": "code",
   "execution_count": 12,
   "metadata": {},
   "outputs": [],
   "source": [
    "def mirror(root):\n",
    "    if root is None:\n",
    "        return \n",
    "    if root.left is None and root.right is None:\n",
    "        return root\n",
    "    \n",
    "    right = mirror(root.left)\n",
    "    left = mirror(root.right)\n",
    "    \n",
    "    root.right = right\n",
    "    root.left = left\n",
    "    \n",
    "    return root"
   ]
  },
  {
   "cell_type": "code",
   "execution_count": 14,
   "metadata": {},
   "outputs": [
    {
     "name": "stdout",
     "output_type": "stream",
     "text": [
      "1\n",
      "2\n",
      "4\n",
      "-1\n",
      "-1\n",
      "5\n",
      "-1\n",
      "-1\n",
      "3\n",
      "6\n",
      "-1\n",
      "-1\n",
      "7\n",
      "-1\n",
      "-1\n",
      "1:L  2,R  3\n",
      "2:L  4,R  5\n",
      "4:\n",
      "5:\n",
      "3:L  6,R  7\n",
      "6:\n",
      "7:\n",
      "Changed Tree\n",
      "1:L  3,R  2\n",
      "3:L  7,R  6\n",
      "7:\n",
      "6:\n",
      "2:L  5,R  4\n",
      "5:\n",
      "4:\n"
     ]
    }
   ],
   "source": [
    "root = takeInput()\n",
    "printTreeDetailed(root)\n",
    "root = mirror(root)\n",
    "print(\"Changed Tree\")\n",
    "printTreeDetailed(root)"
   ]
  },
  {
   "cell_type": "code",
   "execution_count": 35,
   "metadata": {},
   "outputs": [],
   "source": [
    "def checkBalance(root):\n",
    "    if root is None:\n",
    "        return True\n",
    "    \n",
    "    lh = heightOfTree(root.left)\n",
    "    rh = heightOfTree(root.right)\n",
    "    \n",
    "    if abs(lh-rh)>1:\n",
    "        return False\n",
    "    \n",
    "    checkLeft = checkBalance(root.left)\n",
    "    checkRight = checkBalance(root.right)\n",
    "    \n",
    "    if checkLeft and checkRight:\n",
    "        return True\n",
    "    else:\n",
    "        return False"
   ]
  },
  {
   "cell_type": "code",
   "execution_count": 36,
   "metadata": {},
   "outputs": [
    {
     "name": "stdout",
     "output_type": "stream",
     "text": [
      "1\n",
      "2\n",
      "4\n",
      "5\n",
      "-1\n",
      "-1\n",
      "-1\n",
      "-1\n",
      "3\n",
      "-1\n",
      "7\n",
      "-1\n",
      "-1\n",
      "1:L  2,R  3\n",
      "2:L  4,\n",
      "4:L  5,\n",
      "5:\n",
      "3:R  7\n",
      "7:\n",
      "False\n"
     ]
    }
   ],
   "source": [
    "root = takeInput()\n",
    "printTreeDetailed(root)\n",
    "print(checkBalance(root))"
   ]
  },
  {
   "cell_type": "code",
   "execution_count": 39,
   "metadata": {},
   "outputs": [],
   "source": [
    "def isBalancedImproved(root):\n",
    "    \n",
    "    if root is None:\n",
    "        return 0, True\n",
    "    lh, leftIsBalanced = isBalancedImproved(root.left)\n",
    "    rh, rightIsBalanced = isBalancedImproved(root.right)\n",
    "    \n",
    "    h = 1+max(lh, rh)\n",
    "    \n",
    "    if abs(lh-rh) > 1:\n",
    "        return h, False\n",
    "    if leftIsBalanced and rightIsBalanced:\n",
    "        return h, True\n",
    "    else:\n",
    "        return h, False"
   ]
  },
  {
   "cell_type": "code",
   "execution_count": 42,
   "metadata": {},
   "outputs": [
    {
     "name": "stdout",
     "output_type": "stream",
     "text": [
      "1\n",
      "2\n",
      "4\n",
      "5\n",
      "-1\n",
      "-1\n",
      "-1\n",
      "-1\n",
      "3\n",
      "-1\n",
      "5\n",
      "-1\n",
      "-1\n",
      "1:L  2,R  3\n",
      "2:L  4,\n",
      "4:L  5,\n",
      "5:\n",
      "3:R  5\n",
      "5:\n",
      "4 False\n"
     ]
    }
   ],
   "source": [
    "root = takeInput()\n",
    "printTreeDetailed(root)\n",
    "h, checked = isBalancedImproved(root)\n",
    "print(h, checked)"
   ]
  },
  {
   "cell_type": "code",
   "execution_count": 65,
   "metadata": {},
   "outputs": [],
   "source": [
    "def diameter(root):\n",
    "    if root is None:\n",
    "        return 0, 0\n",
    "    \n",
    "    lh, ld = diameter(root.left)\n",
    "    rh, rd = diameter(root.right)\n",
    "    \n",
    "    h = 1+max(lh, rh)\n",
    "    return h, max(lh+rh, ld, rd)"
   ]
  },
  {
   "cell_type": "code",
   "execution_count": 66,
   "metadata": {},
   "outputs": [
    {
     "name": "stdout",
     "output_type": "stream",
     "text": [
      "1\n",
      "2\n",
      "3\n",
      "-1\n",
      "-1\n",
      "4\n",
      "-1\n",
      "-1\n",
      "5\n",
      "6\n",
      "-1\n",
      "-1\n",
      "7\n",
      "-1\n",
      "-1\n",
      "1:L  2,R  5\n",
      "2:L  3,R  4\n",
      "3:\n",
      "4:\n",
      "5:L  6,R  7\n",
      "6:\n",
      "7:\n",
      "diameter:  4\n",
      "height:  3\n"
     ]
    }
   ],
   "source": [
    "root = takeInput()\n",
    "printTreeDetailed(root)\n",
    "h, d = diameter(root)\n",
    "print(\"diameter: \", d)\n",
    "print(\"height: \", h)"
   ]
  },
  {
   "cell_type": "code",
   "execution_count": 4,
   "metadata": {},
   "outputs": [],
   "source": [
    "from queue import Queue\n",
    "def levelOrderInput():\n",
    "    q = Queue()\n",
    "    rootData = int(input(\"Enter Root data:\"))\n",
    "    if rootData != -1:\n",
    "        root = BinaryTreeNode(rootData)\n",
    "        q.put(root)\n",
    "    while not(q.empty()):\n",
    "        front = q.get()\n",
    "        leftData = int(input(\"Enter {} left Child:\".format(front.data)))\n",
    "        rightData = int(input(\"Enter {} right child:\".format(front.data)))\n",
    "        \n",
    "        if leftData != -1:\n",
    "            leftNode = BinaryTreeNode(leftData)\n",
    "            front.left = leftNode\n",
    "            q.put(leftNode)\n",
    "        if rightData != -1:\n",
    "            rightNode = BinaryTreeNode(rightData)\n",
    "            front.right = rightNode\n",
    "            q.put(rightNode)\n",
    "    return root"
   ]
  },
  {
   "cell_type": "code",
   "execution_count": 16,
   "metadata": {},
   "outputs": [
    {
     "name": "stdout",
     "output_type": "stream",
     "text": [
      "Enter Root data:1\n",
      "Enter 1 left Child:2\n",
      "Enter 1 right child:3\n",
      "Enter 2 left Child:4\n",
      "Enter 2 right child:-1\n",
      "Enter 3 left Child:-1\n",
      "Enter 3 right child:-1\n",
      "Enter 4 left Child:5\n",
      "Enter 4 right child:-1\n",
      "Enter 5 left Child:-1\n",
      "Enter 5 right child:-1\n",
      "1:L 2,1:R 3\n",
      "2:L 4,\n",
      "3:\n",
      "\n",
      "4:L 5,\n",
      "5:\n",
      "\n"
     ]
    }
   ],
   "source": [
    "root = levelOrderInput()\n",
    "printLevelOrder(root)"
   ]
  },
  {
   "cell_type": "code",
   "execution_count": 40,
   "metadata": {},
   "outputs": [],
   "source": [
    "def printLevelOrder(root):\n",
    "    if root is None:\n",
    "        return\n",
    "    q = Queue()\n",
    "    q.put(root)\n",
    "    \n",
    "    while not(q.empty()):\n",
    "        \n",
    "        curr = q.get()\n",
    "        \n",
    "        if curr.left is not None:\n",
    "            print(\"{}:L\".format(curr.data),curr.left.data, end=',')\n",
    "            q.put(curr.left)\n",
    "        if curr.right is not None:\n",
    "            print(\"{}:R\".format(curr.data),curr.right.data, end=\"\")\n",
    "            q.put(curr.right)\n",
    "        if curr.left is None and curr.right is None:\n",
    "            print(\"{}:\".format(curr.data), end=\"\")\n",
    "        print()\n",
    "        "
   ]
  },
  {
   "cell_type": "code",
   "execution_count": 3,
   "metadata": {},
   "outputs": [],
   "source": [
    "def levelOrderTraversal(root):\n",
    "    if root is None:\n",
    "        return\n",
    "    q = Queue()\n",
    "    q.put(root)\n",
    "    q.put(None)\n",
    "    while not(q.empty()):\n",
    "        curr = q.get()\n",
    "        if curr is None:\n",
    "            print(\"\\n\")\n",
    "            if not(q.empty()):\n",
    "                q.put(None)\n",
    "        else:\n",
    "            print(curr.data, end=\" \")\n",
    "            if curr.left is not None:\n",
    "                q.put(curr.left)\n",
    "            if curr.right is not None:\n",
    "                q.put(curr.right)\n",
    "            \n",
    "            "
   ]
  },
  {
   "cell_type": "code",
   "execution_count": 15,
   "metadata": {},
   "outputs": [
    {
     "name": "stdout",
     "output_type": "stream",
     "text": [
      "Enter Root data:10\n",
      "Enter 10 left Child:20\n",
      "Enter 10 right child:30\n",
      "Enter 20 left Child:40\n",
      "Enter 20 right child:50\n",
      "Enter 30 left Child:-1\n",
      "Enter 30 right child:60\n",
      "Enter 40 left Child:-1\n",
      "Enter 40 right child:-1\n",
      "Enter 50 left Child:-1\n",
      "Enter 50 right child:-1\n",
      "Enter 60 left Child:-1\n",
      "Enter 60 right child:-1\n",
      "10 \n",
      "\n",
      "20 30 \n",
      "\n",
      "40 50 60 \n",
      "\n"
     ]
    }
   ],
   "source": [
    "root = levelOrderInput()\n",
    "levelOrderTraversal(root)"
   ]
  },
  {
   "cell_type": "code",
   "execution_count": 41,
   "metadata": {},
   "outputs": [],
   "source": [
    "def buildTree(inorder, preorder):\n",
    "    \n",
    "    if len(inorder) == 0 or len(preorder) == 0:\n",
    "        return None\n",
    "    \n",
    "    rootData = preorder[0]\n",
    "    root = BinaryTreeNode(rootData)\n",
    "    \n",
    "    for i in range(len(inorder)):\n",
    "        if inorder[i] == rootData:\n",
    "            root_index = i\n",
    "            break\n",
    "    \n",
    "    inorder_of_lst = inorder[:root_index]\n",
    "    inorder_of_rst = inorder[root_index+1:]\n",
    "    preorder_of_lst = preorder[1:root_index+1]\n",
    "    preorder_of_rst = preorder[root_index+1:]\n",
    "    root.left = buildTree(inorder_of_lst, preorder_of_lst)\n",
    "    root.right = buildTree(inorder_of_rst, preorder_of_rst)\n",
    "    \n",
    "    return root\n",
    "    "
   ]
  },
  {
   "cell_type": "code",
   "execution_count": 42,
   "metadata": {},
   "outputs": [
    {
     "name": "stdout",
     "output_type": "stream",
     "text": [
      "1:L 2,1:R 3\n",
      "2:L 4,2:R 5\n",
      "3:L 6,3:R 7\n",
      "4:\n",
      "5:\n",
      "6:\n",
      "7:\n"
     ]
    }
   ],
   "source": [
    "inorder = [4, 2, 5, 1, 6, 3, 7]\n",
    "preorder = [1, 2, 4, 5, 3, 6, 7]\n",
    "root = buildTree(inorder, preorder)\n",
    "printLevelOrder(root)"
   ]
  },
  {
   "cell_type": "code",
   "execution_count": 43,
   "metadata": {},
   "outputs": [],
   "source": [
    "def insertLeftDuplicateNode(root):\n",
    "    if root is None:\n",
    "        return \n",
    "    new = BinaryTreeNode(root.data)\n",
    "    temp = root.left\n",
    "    root.left = new\n",
    "    new.left = temp\n",
    "    \n",
    "    insertLeftDuplicateNode(new.left)\n",
    "    insertLeftDuplicateNode(root.right)\n",
    "    \n",
    "    return root"
   ]
  },
  {
   "cell_type": "code",
   "execution_count": 47,
   "metadata": {},
   "outputs": [
    {
     "name": "stdout",
     "output_type": "stream",
     "text": [
      "Enter Root data:10\n",
      "Enter 10 left Child:20\n",
      "Enter 10 right child:30\n",
      "Enter 20 left Child:40\n",
      "Enter 20 right child:50\n",
      "Enter 30 left Child:-1\n",
      "Enter 30 right child:60\n",
      "Enter 40 left Child:-1\n",
      "Enter 40 right child:-1\n",
      "Enter 50 left Child:-1\n",
      "Enter 50 right child:-1\n",
      "Enter 60 left Child:-1\n",
      "Enter 60 right child:-1\n",
      "10:L 20,10:R 30\n",
      "20:L 40,20:R 50\n",
      "30:R 60\n",
      "40:\n",
      "50:\n",
      "60:\n",
      "10:L  10,R  30\n",
      "10:L  20,\n",
      "20:L  20,R  50\n",
      "20:L  40,\n",
      "40:L  40,\n",
      "40:\n",
      "50:L  50,\n",
      "50:\n",
      "30:L  30,R  60\n",
      "30:\n",
      "60:L  60,\n",
      "60:\n"
     ]
    }
   ],
   "source": [
    "root = levelOrderInput()\n",
    "printLevelOrder(root)\n",
    "root = insertLeftDuplicateNode(root)\n",
    "printTreeDetailed(root)"
   ]
  },
  {
   "cell_type": "code",
   "execution_count": 49,
   "metadata": {},
   "outputs": [],
   "source": [
    "from math import inf\n",
    "\n",
    "def maxMinData(root, maximum = float(-inf), minimum = float(inf)):\n",
    "    if root is None:\n",
    "        return maximum, minimum\n",
    "    \n",
    "    if root.data>maximum:\n",
    "        maximum = root.data\n",
    "    if root.data<minimum:\n",
    "        minimum = root.data\n",
    "        \n",
    "    maximuml, minimuml = maxMinData(root.left, maximum, minimum)\n",
    "    maximumr, minimumr = maxMinData(root.right, maximum, minimum)\n",
    "    \n",
    "    return max(maximuml, maximumr, maximum), min(minimuml, minimumr, minimum)"
   ]
  },
  {
   "cell_type": "code",
   "execution_count": 50,
   "metadata": {},
   "outputs": [
    {
     "name": "stdout",
     "output_type": "stream",
     "text": [
      "Enter Root data:8\n",
      "Enter 8 left Child:3\n",
      "Enter 8 right child:10\n",
      "Enter 3 left Child:1\n",
      "Enter 3 right child:6\n",
      "Enter 10 left Child:-1\n",
      "Enter 10 right child:14\n",
      "Enter 1 left Child:-1\n",
      "Enter 1 right child:4\n",
      "Enter 6 left Child:7\n",
      "Enter 6 right child:13\n",
      "Enter 14 left Child:-1\n",
      "Enter 14 right child:-1\n",
      "Enter 4 left Child:-1\n",
      "Enter 4 right child:-1\n",
      "Enter 7 left Child:-1\n",
      "Enter 7 right child:-1\n",
      "Enter 13 left Child:-1\n",
      "Enter 13 right child:-1\n",
      "8:L 3,8:R 10\n",
      "3:L 1,3:R 6\n",
      "10:R 14\n",
      "1:R 4\n",
      "6:L 7,6:R 13\n",
      "14:\n",
      "4:\n",
      "7:\n",
      "13:\n",
      "(14, 1)\n"
     ]
    }
   ],
   "source": [
    "root = levelOrderInput()\n",
    "printLevelOrder(root)\n",
    "print(maxMinData(root))"
   ]
  },
  {
   "cell_type": "code",
   "execution_count": 14,
   "metadata": {},
   "outputs": [],
   "source": [
    "def sumRootToLeaf(root, k, path):\n",
    "    if root == None:\n",
    "        return \n",
    "    if k == root.data and (root.left!=None or root.right!=None):\n",
    "        return \n",
    "    if k==root.data and (root.left == None and root.right == None):\n",
    "        for ele in path:\n",
    "            print(ele, end = ' ')\n",
    "        print(root.data)\n",
    "        return\n",
    "    k = k-root.data\n",
    "    path.append(root.data)\n",
    "    sumRootToLeaf(root.left, k, path)\n",
    "    sumRootToLeaf(root.right, k, path)\n",
    "    \n",
    "    del path[-1]\n",
    "    \n",
    "    return"
   ]
  },
  {
   "cell_type": "code",
   "execution_count": 18,
   "metadata": {},
   "outputs": [
    {
     "name": "stdout",
     "output_type": "stream",
     "text": [
      "Enter Root data:2\n",
      "Enter 2 left Child:3\n",
      "Enter 2 right child:9\n",
      "Enter 3 left Child:4\n",
      "Enter 3 right child:8\n",
      "Enter 9 left Child:-1\n",
      "Enter 9 right child:2\n",
      "Enter 4 left Child:4\n",
      "Enter 4 right child:-1\n",
      "Enter 8 left Child:-1\n",
      "Enter 8 right child:-1\n",
      "Enter 2 left Child:6\n",
      "Enter 2 right child:-1\n",
      "Enter 4 left Child:-1\n",
      "Enter 4 right child:-1\n",
      "Enter 6 left Child:-1\n",
      "Enter 6 right child:-1\n",
      "2 3 4 4\n",
      "2 3 8\n"
     ]
    }
   ],
   "source": [
    "root = levelOrderInput()\n",
    "path = []\n",
    "sumRootToLeaf(root, 13, path)"
   ]
  },
  {
   "cell_type": "code",
   "execution_count": 16,
   "metadata": {},
   "outputs": [],
   "source": [
    "def printNodesAtDepthK(root, k):\n",
    "    if root == None:\n",
    "        return -1\n",
    "    if k < 0:\n",
    "        return -1\n",
    "    if k == 0:\n",
    "        print(root.data)\n",
    "        return 0\n",
    "    printNodesAtDepthK(root.left, k-1)\n",
    "    printNodesAtDepthK(root.right, k-1)"
   ]
  },
  {
   "cell_type": "code",
   "execution_count": 19,
   "metadata": {},
   "outputs": [],
   "source": [
    "def printNodesAtKFromTarget(root, target, k):\n",
    "    if root == None:\n",
    "        return -1\n",
    "    if root.data == target:\n",
    "        printNodesAtDepthK(root, k)\n",
    "        return 0\n",
    "    ld = printNodesAtKFromTarget(root.left, target, k)\n",
    "    ld = ld+1\n",
    "    \n",
    "    rd = printNodesAtKFromTarget(root.right, target, k)\n",
    "    rd = rd+1\n",
    "\n",
    "    "
   ]
  },
  {
   "cell_type": "code",
   "execution_count": 20,
   "metadata": {},
   "outputs": [
    {
     "name": "stdout",
     "output_type": "stream",
     "text": [
      "Enter Root data:3\n",
      "Enter 3 left Child:5\n",
      "Enter 3 right child:1\n",
      "Enter 5 left Child:6\n",
      "Enter 5 right child:2\n",
      "Enter 1 left Child:6\n",
      "Enter 1 right child:8\n",
      "Enter 6 left Child:-1\n",
      "Enter 6 right child:-1\n",
      "Enter 2 left Child:7\n",
      "Enter 2 right child:4\n",
      "Enter 6 left Child:-1\n",
      "Enter 6 right child:-1\n",
      "Enter 8 left Child:-1\n",
      "Enter 8 right child:-1\n",
      "Enter 7 left Child:-1\n",
      "Enter 7 right child:-1\n",
      "Enter 4 left Child:-1\n",
      "Enter 4 right child:-1\n",
      "7\n",
      "4\n",
      "0 0\n"
     ]
    },
    {
     "ename": "TypeError",
     "evalue": "unsupported operand type(s) for +: 'NoneType' and 'int'",
     "output_type": "error",
     "traceback": [
      "\u001b[0;31m---------------------------------------------------------------------------\u001b[0m",
      "\u001b[0;31mTypeError\u001b[0m                                 Traceback (most recent call last)",
      "\u001b[0;32m<ipython-input-20-d627649bb29e>\u001b[0m in \u001b[0;36m<module>\u001b[0;34m\u001b[0m\n\u001b[1;32m      1\u001b[0m \u001b[0mroot\u001b[0m \u001b[0;34m=\u001b[0m \u001b[0mlevelOrderInput\u001b[0m\u001b[0;34m(\u001b[0m\u001b[0;34m)\u001b[0m\u001b[0;34m\u001b[0m\u001b[0;34m\u001b[0m\u001b[0m\n\u001b[0;32m----> 2\u001b[0;31m \u001b[0mprintNodesAtKFromTarget\u001b[0m\u001b[0;34m(\u001b[0m\u001b[0mroot\u001b[0m\u001b[0;34m,\u001b[0m \u001b[0;36m5\u001b[0m\u001b[0;34m,\u001b[0m \u001b[0;36m2\u001b[0m\u001b[0;34m)\u001b[0m\u001b[0;34m\u001b[0m\u001b[0;34m\u001b[0m\u001b[0m\n\u001b[0m",
      "\u001b[0;32m<ipython-input-19-9a4ab7b6d0de>\u001b[0m in \u001b[0;36mprintNodesAtKFromTarget\u001b[0;34m(root, target, k)\u001b[0m\n\u001b[1;32m      7\u001b[0m     \u001b[0mld\u001b[0m \u001b[0;34m=\u001b[0m \u001b[0mprintNodesAtKFromTarget\u001b[0m\u001b[0;34m(\u001b[0m\u001b[0mroot\u001b[0m\u001b[0;34m.\u001b[0m\u001b[0mleft\u001b[0m\u001b[0;34m,\u001b[0m \u001b[0mtarget\u001b[0m\u001b[0;34m,\u001b[0m \u001b[0mk\u001b[0m\u001b[0;34m)\u001b[0m\u001b[0;34m\u001b[0m\u001b[0;34m\u001b[0m\u001b[0m\n\u001b[1;32m      8\u001b[0m     \u001b[0mld\u001b[0m \u001b[0;34m=\u001b[0m \u001b[0mld\u001b[0m\u001b[0;34m+\u001b[0m\u001b[0;36m1\u001b[0m\u001b[0;34m\u001b[0m\u001b[0;34m\u001b[0m\u001b[0m\n\u001b[0;32m----> 9\u001b[0;31m     \u001b[0mrd\u001b[0m \u001b[0;34m=\u001b[0m \u001b[0mprintNodesAtKFromTarget\u001b[0m\u001b[0;34m(\u001b[0m\u001b[0mroot\u001b[0m\u001b[0;34m.\u001b[0m\u001b[0mright\u001b[0m\u001b[0;34m,\u001b[0m \u001b[0mtarget\u001b[0m\u001b[0;34m,\u001b[0m \u001b[0mk\u001b[0m\u001b[0;34m)\u001b[0m\u001b[0;34m\u001b[0m\u001b[0;34m\u001b[0m\u001b[0m\n\u001b[0m\u001b[1;32m     10\u001b[0m     \u001b[0mrd\u001b[0m \u001b[0;34m=\u001b[0m \u001b[0mrd\u001b[0m\u001b[0;34m+\u001b[0m\u001b[0;36m1\u001b[0m\u001b[0;34m\u001b[0m\u001b[0;34m\u001b[0m\u001b[0m\n\u001b[1;32m     11\u001b[0m \u001b[0;34m\u001b[0m\u001b[0m\n",
      "\u001b[0;32m<ipython-input-19-9a4ab7b6d0de>\u001b[0m in \u001b[0;36mprintNodesAtKFromTarget\u001b[0;34m(root, target, k)\u001b[0m\n\u001b[1;32m      6\u001b[0m         \u001b[0;32mreturn\u001b[0m \u001b[0;36m0\u001b[0m\u001b[0;34m\u001b[0m\u001b[0;34m\u001b[0m\u001b[0m\n\u001b[1;32m      7\u001b[0m     \u001b[0mld\u001b[0m \u001b[0;34m=\u001b[0m \u001b[0mprintNodesAtKFromTarget\u001b[0m\u001b[0;34m(\u001b[0m\u001b[0mroot\u001b[0m\u001b[0;34m.\u001b[0m\u001b[0mleft\u001b[0m\u001b[0;34m,\u001b[0m \u001b[0mtarget\u001b[0m\u001b[0;34m,\u001b[0m \u001b[0mk\u001b[0m\u001b[0;34m)\u001b[0m\u001b[0;34m\u001b[0m\u001b[0;34m\u001b[0m\u001b[0m\n\u001b[0;32m----> 8\u001b[0;31m     \u001b[0mld\u001b[0m \u001b[0;34m=\u001b[0m \u001b[0mld\u001b[0m\u001b[0;34m+\u001b[0m\u001b[0;36m1\u001b[0m\u001b[0;34m\u001b[0m\u001b[0;34m\u001b[0m\u001b[0m\n\u001b[0m\u001b[1;32m      9\u001b[0m     \u001b[0mrd\u001b[0m \u001b[0;34m=\u001b[0m \u001b[0mprintNodesAtKFromTarget\u001b[0m\u001b[0;34m(\u001b[0m\u001b[0mroot\u001b[0m\u001b[0;34m.\u001b[0m\u001b[0mright\u001b[0m\u001b[0;34m,\u001b[0m \u001b[0mtarget\u001b[0m\u001b[0;34m,\u001b[0m \u001b[0mk\u001b[0m\u001b[0;34m)\u001b[0m\u001b[0;34m\u001b[0m\u001b[0;34m\u001b[0m\u001b[0m\n\u001b[1;32m     10\u001b[0m     \u001b[0mrd\u001b[0m \u001b[0;34m=\u001b[0m \u001b[0mrd\u001b[0m\u001b[0;34m+\u001b[0m\u001b[0;36m1\u001b[0m\u001b[0;34m\u001b[0m\u001b[0;34m\u001b[0m\u001b[0m\n",
      "\u001b[0;31mTypeError\u001b[0m: unsupported operand type(s) for +: 'NoneType' and 'int'"
     ]
    }
   ],
   "source": [
    "root = levelOrderInput()\n",
    "printNodesAtKFromTarget(root, 5, 2)"
   ]
  },
  {
   "cell_type": "code",
   "execution_count": null,
   "metadata": {},
   "outputs": [],
   "source": []
  },
  {
   "cell_type": "code",
   "execution_count": null,
   "metadata": {},
   "outputs": [],
   "source": []
  },
  {
   "cell_type": "code",
   "execution_count": null,
   "metadata": {},
   "outputs": [],
   "source": []
  },
  {
   "cell_type": "code",
   "execution_count": null,
   "metadata": {},
   "outputs": [],
   "source": []
  },
  {
   "cell_type": "code",
   "execution_count": null,
   "metadata": {},
   "outputs": [],
   "source": []
  },
  {
   "cell_type": "code",
   "execution_count": null,
   "metadata": {},
   "outputs": [],
   "source": []
  },
  {
   "cell_type": "code",
   "execution_count": null,
   "metadata": {},
   "outputs": [],
   "source": []
  },
  {
   "cell_type": "code",
   "execution_count": null,
   "metadata": {},
   "outputs": [],
   "source": []
  },
  {
   "cell_type": "code",
   "execution_count": null,
   "metadata": {},
   "outputs": [],
   "source": []
  },
  {
   "cell_type": "code",
   "execution_count": null,
   "metadata": {},
   "outputs": [],
   "source": []
  },
  {
   "cell_type": "code",
   "execution_count": null,
   "metadata": {},
   "outputs": [],
   "source": []
  }
 ],
 "metadata": {
  "kernelspec": {
   "display_name": "Python 3",
   "language": "python",
   "name": "python3"
  },
  "language_info": {
   "codemirror_mode": {
    "name": "ipython",
    "version": 3
   },
   "file_extension": ".py",
   "mimetype": "text/x-python",
   "name": "python",
   "nbconvert_exporter": "python",
   "pygments_lexer": "ipython3",
   "version": "3.7.4"
  }
 },
 "nbformat": 4,
 "nbformat_minor": 2
}

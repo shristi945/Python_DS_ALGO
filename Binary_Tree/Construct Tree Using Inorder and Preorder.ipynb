{
 "cells": [
  {
   "cell_type": "code",
   "execution_count": 2,
   "metadata": {},
   "outputs": [
    {
     "name": "stdout",
     "output_type": "stream",
     "text": [
      "7\n",
      "1 2 3 4 5 6 7\n",
      "2 1 4 3 6 5 7\n",
      "1:L 2,R 3\n",
      "2:\n",
      "3:L 4,R 5\n",
      "4:\n",
      "5:L 6,R 7\n",
      "6:\n",
      "7:\n"
     ]
    }
   ],
   "source": [
    "import queue\n",
    "from bisect import bisect_left \n",
    "class BinaryTreeNode:\n",
    "    def __init__(self, data):\n",
    "        self.data = data\n",
    "        self.left = None\n",
    "        self.right = None\n",
    "        \n",
    "def search(arr, ei):\n",
    "    for i in range(len(arr)):\n",
    "        if arr[i] == ei:\n",
    "            return i \n",
    "\n",
    "def buildTreePreOrder(preorder, inorder):\n",
    "    if len(preorder)==0 or len(inorder)==0:\n",
    "        return \n",
    "    \n",
    "    root = BinaryTreeNode(preorder[0])\n",
    "    i = search(inorder, root.data)\n",
    "    leftInorder = inorder[:i]\n",
    "    rightInorder = inorder[i+1:]\n",
    "    lenLeftPreorder = len(leftInorder)\n",
    "    leftPreorder = preorder[1:lenLeftPreorder+1]\n",
    "    rightPreorder = preorder[lenLeftPreorder+1:]\n",
    "    \n",
    "    lst = buildTreePreOrder(leftPreorder, leftInorder)\n",
    "    rst = buildTreePreOrder(rightPreorder, rightInorder)\n",
    "    \n",
    "    root.left = lst\n",
    "    root.right = rst\n",
    "    \n",
    "    return root\n",
    "    \n",
    "\n",
    "def printTree(root):\n",
    "    if root == None:\n",
    "        return \n",
    "    print(root.data,end=\":\")\n",
    "    if root.left != None:\n",
    "        print(\"L\",root.left.data, end = \",\")\n",
    "    if root.right != None:\n",
    "        print(\"R\",root.right.data, end = \"\")\n",
    "    print(\"\")\n",
    "    printTree(root.left)\n",
    "    printTree(root.right)\n",
    "\n",
    "# Main\n",
    "n=int(input())\n",
    "preorder = [int(i) for i in input().strip().split()]\n",
    "inorder = [int(i) for i in input().strip().split()]\n",
    "root = buildTreePreOrder(preorder, inorder)\n",
    "printTree(root)\n",
    "\n"
   ]
  },
  {
   "cell_type": "code",
   "execution_count": null,
   "metadata": {},
   "outputs": [],
   "source": [
    "1 2 4 5 3 6 7\n",
    "4 2 5 1 6 3 7"
   ]
  },
  {
   "cell_type": "code",
   "execution_count": null,
   "metadata": {},
   "outputs": [],
   "source": [
    "from bisect import bisect_left \n",
    "l = [5,7,3,9]\n",
    "i = bisect_left(l,9) \n",
    "if i != len(l) and l[i] == 9:\n",
    "    print(i)"
   ]
  },
  {
   "cell_type": "code",
   "execution_count": null,
   "metadata": {},
   "outputs": [],
   "source": [
    "7//2"
   ]
  },
  {
   "cell_type": "code",
   "execution_count": null,
   "metadata": {},
   "outputs": [],
   "source": []
  }
 ],
 "metadata": {
  "kernelspec": {
   "display_name": "Python 3",
   "language": "python",
   "name": "python3"
  },
  "language_info": {
   "codemirror_mode": {
    "name": "ipython",
    "version": 3
   },
   "file_extension": ".py",
   "mimetype": "text/x-python",
   "name": "python",
   "nbconvert_exporter": "python",
   "pygments_lexer": "ipython3",
   "version": "3.7.1"
  }
 },
 "nbformat": 4,
 "nbformat_minor": 2
}

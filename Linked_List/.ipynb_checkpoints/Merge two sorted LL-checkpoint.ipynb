{
 "cells": [
  {
   "cell_type": "markdown",
   "metadata": {},
   "source": [
    "###### Given two linked lists sorted in increasing order. Merge them in such a way that the result list is also sorted (in increasing order).\n",
    "###### Try solving with O(1) auxiliary space (in-place). You just need to return the head of new linked list, don't print the elements"
   ]
  },
  {
   "cell_type": "code",
   "execution_count": 7,
   "metadata": {},
   "outputs": [
    {
     "name": "stdout",
     "output_type": "stream",
     "text": [
      "1 5 20 22 30 -1\n",
      "2 3 6 11 -1\n",
      "1 2 3 5 6 11 20 22 30 \n"
     ]
    }
   ],
   "source": [
    "class Node:\n",
    "    def __init__(self, data):\n",
    "        self.data = data\n",
    "        self.next = None\n",
    "\n",
    "def merge(head1,head2):\n",
    "    # two linked lists sorted in increasing order. Merge them in such\n",
    "    # a way that the result list is also sorted (in increasing order). Try\n",
    "    # solving with O(1) auxiliary space (in-place). You just need to return the\n",
    "    # head of new linked list, don't print the elements.\n",
    "    h1, h2 = head1, head2\n",
    "    if h1.data < h2.data:\n",
    "        fh = h1\n",
    "        ft = fh\n",
    "        h1 = h1.next\n",
    "    else:\n",
    "        fh = h2\n",
    "        ft = fh\n",
    "        h2 = h2.next\n",
    "    \n",
    "    while h1 is not None and h2 is not None:\n",
    "        if h1.data<h2.data:\n",
    "            ft.next = h1\n",
    "            ft = ft.next\n",
    "            h1 = h1.next\n",
    "        else:\n",
    "            ft.next = h2\n",
    "            ft = ft.next\n",
    "            h2 = h2.next\n",
    "    if h1 is not None:\n",
    "        ft.next = h1\n",
    "    if h2 is not None:\n",
    "        ft.next = h2\n",
    "        \n",
    "    return fh\n",
    "\n",
    "def ll(arr):\n",
    "    if len(arr)==0:\n",
    "        return None\n",
    "    head = Node(arr[0])\n",
    "    last = head\n",
    "    for data in arr[1:]:\n",
    "        last.next = Node(data)\n",
    "        last = last.next\n",
    "    return head\n",
    "\n",
    "def printll(head):\n",
    "    while head:\n",
    "        print(head.data, end=' ')\n",
    "        head = head.next\n",
    "    print()\n",
    "\n",
    "# Main\n",
    "# Read the link list elements including -1\n",
    "arr1=list(int(i) for i in input().strip().split(' '))\n",
    "arr2=list(int(i) for i in input().strip().split(' '))\n",
    "# Create a Linked list after removing -1 from list\n",
    "l1 = ll(arr1[:-1])\n",
    "l2 = ll(arr2[:-1])\n",
    "l = merge(l1, l2)\n",
    "printll(l)\n"
   ]
  },
  {
   "cell_type": "code",
   "execution_count": null,
   "metadata": {},
   "outputs": [],
   "source": [
    "1 5 20 22 30 -1\n",
    "2 3 6 11 -1"
   ]
  }
 ],
 "metadata": {
  "kernelspec": {
   "display_name": "Python 3",
   "language": "python",
   "name": "python3"
  },
  "language_info": {
   "codemirror_mode": {
    "name": "ipython",
    "version": 3
   },
   "file_extension": ".py",
   "mimetype": "text/x-python",
   "name": "python",
   "nbconvert_exporter": "python",
   "pygments_lexer": "ipython3",
   "version": "3.7.1"
  }
 },
 "nbformat": 4,
 "nbformat_minor": 2
}

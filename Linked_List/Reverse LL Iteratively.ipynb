{
 "cells": [
  {
   "cell_type": "markdown",
   "metadata": {},
   "source": [
    "###### Given a linked list, reverse it iteratively.\n",
    "###### You don't need to print the elements, just reverse the LL duplicates and return the head of updated LL.\n",
    "###### Input format : Linked list elements (separated by space and terminated by -1)"
   ]
  },
  {
   "cell_type": "code",
   "execution_count": 1,
   "metadata": {},
   "outputs": [
    {
     "name": "stdout",
     "output_type": "stream",
     "text": [
      "1 2 3 4 -1\n",
      "4 3 2 1 \n"
     ]
    }
   ],
   "source": [
    "class Node:\n",
    "    def __init__(self, data):\n",
    "        self.data = data\n",
    "        self.next = None\n",
    "\n",
    "def reverse(head):\n",
    "    \n",
    "    if head is None or head.next is None:\n",
    "        return head\n",
    "    \n",
    "    \n",
    "    p = head\n",
    "    q = p.next\n",
    "    r = q.next\n",
    "    \n",
    "    q.next = p\n",
    "    p.next = None\n",
    "    p = q\n",
    "    q = r\n",
    "    r = r.next\n",
    "    \n",
    "    while r is not None:\n",
    "        q.next = p\n",
    "        p = q\n",
    "        q = r\n",
    "        r = r.next\n",
    "    q.next = p\n",
    "    head = q\n",
    "    \n",
    "    return head\n",
    "    \n",
    "    \n",
    "    \n",
    "    \n",
    "def ll(arr):\n",
    "    if len(arr)==0:\n",
    "        return None\n",
    "    head = Node(arr[0])\n",
    "    last = head\n",
    "    for data in arr[1:]:\n",
    "        last.next = Node(data)\n",
    "        last = last.next\n",
    "    return head\n",
    "\n",
    "def printll(head):\n",
    "    while head:\n",
    "        print(head.data, end=' ')\n",
    "        head = head.next\n",
    "    print()\n",
    "\n",
    "# Main\n",
    "# Read the link list elements including -1\n",
    "arr=list(int(i) for i in input().strip().split(' '))\n",
    "# Create a Linked list after removing -1 from list\n",
    "l = ll(arr[:-1])\n",
    "l = reverse(l)\n",
    "printll(l)\n"
   ]
  },
  {
   "cell_type": "code",
   "execution_count": null,
   "metadata": {},
   "outputs": [],
   "source": []
  }
 ],
 "metadata": {
  "kernelspec": {
   "display_name": "Python 3",
   "language": "python",
   "name": "python3"
  },
  "language_info": {
   "codemirror_mode": {
    "name": "ipython",
    "version": 3
   },
   "file_extension": ".py",
   "mimetype": "text/x-python",
   "name": "python",
   "nbconvert_exporter": "python",
   "pygments_lexer": "ipython3",
   "version": "3.7.1"
  }
 },
 "nbformat": 4,
 "nbformat_minor": 2
}

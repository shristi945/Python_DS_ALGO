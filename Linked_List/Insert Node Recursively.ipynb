{
 "cells": [
  {
   "cell_type": "code",
   "execution_count": 19,
   "metadata": {},
   "outputs": [
    {
     "name": "stdout",
     "output_type": "stream",
     "text": [
      "1 2 3 4 5 9\n",
      "5\n",
      "8\n",
      "1 2 3 4 5 8 9 \n"
     ]
    }
   ],
   "source": [
    "class Node:\n",
    "    def __init__(self, data):\n",
    "        self.data = data\n",
    "        self.next = None\n",
    "\n",
    "def ll(arr):\n",
    "    if len(arr) == 0:\n",
    "        return None\n",
    "    head = Node(arr[0])\n",
    "    curr = head\n",
    "    for ele in arr[1:]:\n",
    "        curr.next = Node(ele)\n",
    "        curr = curr.next\n",
    "    \n",
    "    return head\n",
    "    \n",
    "        \n",
    "    \n",
    "def printLL(head):\n",
    "    \n",
    "    while head is not None:\n",
    "        print(head.data, end = \" \")\n",
    "        head = head.next\n",
    "    print()\n",
    "\n",
    "def insertAti(head, i, data):\n",
    "    new_node = Node(data)\n",
    "\n",
    "    if i == 0:\n",
    "        new_node.next = head\n",
    "        return new_node\n",
    "    if head is None:\n",
    "        return None\n",
    "    if i <0:\n",
    "        return head\n",
    "    smallHead = insertAti(head.next, i-1, data)\n",
    "    head.next = smallHead\n",
    "    return head\n",
    "    \n",
    "    \n",
    "    smallHead = insertAti()\n",
    "    \n",
    "    \n",
    "#Main\n",
    "arr = [int(ele) for ele in input().strip().split(\" \")]\n",
    "l = ll(arr)\n",
    "i = int(input())\n",
    "data = int(input())\n",
    "l = insertAti(l,i, data)\n",
    "printLL(l)"
   ]
  },
  {
   "cell_type": "code",
   "execution_count": null,
   "metadata": {},
   "outputs": [],
   "source": []
  },
  {
   "cell_type": "code",
   "execution_count": null,
   "metadata": {},
   "outputs": [],
   "source": []
  }
 ],
 "metadata": {
  "kernelspec": {
   "display_name": "Python 3",
   "language": "python",
   "name": "python3"
  },
  "language_info": {
   "codemirror_mode": {
    "name": "ipython",
    "version": 3
   },
   "file_extension": ".py",
   "mimetype": "text/x-python",
   "name": "python",
   "nbconvert_exporter": "python",
   "pygments_lexer": "ipython3",
   "version": "3.7.1"
  }
 },
 "nbformat": 4,
 "nbformat_minor": 2
}

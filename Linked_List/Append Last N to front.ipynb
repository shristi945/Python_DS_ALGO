{
 "cells": [
  {
   "cell_type": "markdown",
   "metadata": {},
   "source": [
    "###### AppendLastNToFirst\n",
    "###### Given a linked list and an integer n, append the last n elements of the LL to front.\n",
    "###### Indexing starts from 0. You don't need to print the elements, just update the elements and return the head of updated LL.\n",
    "###### Assume given n will be smaller than length of LL.\n",
    "###### Input format :\n",
    "###### Line 1 : Linked list elements (separated by space and terminated by -1)"
   ]
  },
  {
   "cell_type": "code",
   "execution_count": 5,
   "metadata": {},
   "outputs": [
    {
     "name": "stdout",
     "output_type": "stream",
     "text": [
      "1 2 3 4 5 6 -1\n",
      "4\n",
      "3 4 5 6 1 2 \n"
     ]
    }
   ],
   "source": [
    "class Node:\n",
    "    def __init__(self, data):\n",
    "        self.data = data\n",
    "        self.next = None\n",
    "    \n",
    "def ll(arr):\n",
    "    if len(arr)==0:\n",
    "        return None\n",
    "    head = Node(arr[0])\n",
    "    last = head\n",
    "    for data in arr[1:]:\n",
    "        last.next = Node(data)\n",
    "        last = last.next\n",
    "    return head\n",
    "\n",
    "def printll(head):\n",
    "    while head:\n",
    "        print(head.data, end=' ')\n",
    "        head = head.next\n",
    "    print()\n",
    "\n",
    "    \n",
    "def append(head, n):\n",
    "\n",
    "    count = 0\n",
    "    curr = head\n",
    "    while curr is not None:\n",
    "        prev = curr\n",
    "        count += 1\n",
    "        curr = curr.next\n",
    "    i = count - n\n",
    "    prev.next = head\n",
    "    curr = head\n",
    "    for j in range(i-1):\n",
    "        curr = curr.next\n",
    "    head = curr.next\n",
    "    curr.next = None\n",
    "    \n",
    "    return head\n",
    "    \n",
    "    \n",
    "    \n",
    "    \n",
    "    \n",
    "    \n",
    "# Main\n",
    "# Read the link list elements including -1\n",
    "arr=list(int(i) for i in input().strip().split(' '))\n",
    "# Create a Linked list after removing -1 from list\n",
    "l = ll(arr[:-1])\n",
    "i=int(input())\n",
    "l = append(l, i)\n",
    "printll(l)"
   ]
  }
 ],
 "metadata": {
  "kernelspec": {
   "display_name": "Python 3",
   "language": "python",
   "name": "python3"
  },
  "language_info": {
   "codemirror_mode": {
    "name": "ipython",
    "version": 3
   },
   "file_extension": ".py",
   "mimetype": "text/x-python",
   "name": "python",
   "nbconvert_exporter": "python",
   "pygments_lexer": "ipython3",
   "version": "3.7.1"
  }
 },
 "nbformat": 4,
 "nbformat_minor": 2
}

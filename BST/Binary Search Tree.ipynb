{
 "cells": [
  {
   "cell_type": "code",
   "execution_count": 185,
   "metadata": {},
   "outputs": [],
   "source": [
    "class BinaryTreeNode:\n",
    "    def __init__(self, data):\n",
    "        self.data = data\n",
    "        self.left = None\n",
    "        self.right = None\n"
   ]
  },
  {
   "cell_type": "code",
   "execution_count": 273,
   "metadata": {},
   "outputs": [],
   "source": [
    "class BST:\n",
    "    def __init__(self):\n",
    "        self.root = None\n",
    "        self.left = None\n",
    "        self.right = None\n",
    "        self.numNodes = 0\n",
    "    def isPresent(self, data):\n",
    "        return False\n",
    "    \n",
    "    def helperInsert(self, root, data):\n",
    "        \n",
    "        if root is None:\n",
    "            newNode = BinaryTreeNode(data)\n",
    "            return newNode\n",
    "        \n",
    "        if root.data > data:\n",
    "            root.left = self.helperInsert(root.left, data)\n",
    "            return root\n",
    "        \n",
    "        else:\n",
    "            root.right = self.helperInsert(root.right, data)\n",
    "            return root\n",
    "        \n",
    "    \n",
    "    def insert(self, data):\n",
    "        self.root = self.helperInsert(self.root, data)\n",
    "        self.numNodes += 1\n",
    "        return self.root\n",
    "    \n",
    "    def findMinRST(self, root):\n",
    "        if root is None:\n",
    "            return 10000\n",
    "        if root.left is None:\n",
    "            return root.data\n",
    "        return self.findMinRST(root.left)    \n",
    "        \n",
    "    def helperDeleteData(self, root, data):\n",
    "        if root is None:\n",
    "            return False, None\n",
    "        if root.data > data:\n",
    "            deleted, newLeftNode = self.helperDeleteData(root.left, data)\n",
    "            root.left = newLeftNode\n",
    "            return deleted, root\n",
    "        \n",
    "        if root.data < data:\n",
    "            deleted, newRightNode = self.helperDeleteData(root.right, data)\n",
    "            root.right = newRightNode\n",
    "            return deleted, root\n",
    "        \n",
    "        if root.data == data:\n",
    "            if root.left is None and root.right is None:\n",
    "                return True, None\n",
    "            if root.left is not None and root.right is None:\n",
    "                return True, root.left\n",
    "            if root.right is not None and root.left is None:\n",
    "                return True, root.right\n",
    "            if root.left is not None and root.right is not None:\n",
    "                minRST = self.findMinRST(root.right)\n",
    "                root.data = minRST\n",
    "                deleted, newRightNode = self.helperDeleteData(root.right, minRST)\n",
    "                root.right = newRightNode\n",
    "                return deleted, root\n",
    "            \n",
    "    \n",
    "    def deleteData(self, data):\n",
    "        isDelete, newRoot = self.helperDeleteData(self.root, data)\n",
    "        if isDelete:\n",
    "            self.numNodes -= 1\n",
    "        self.root = newRoot\n",
    "        return isDelete\n",
    "    \n",
    "    def printBST(self):\n",
    "        if self.root is None:\n",
    "            return \n",
    "        print(self.root.data, end = ':')\n",
    "        if self.root.left is not None:\n",
    "            print('L ', self.root.left.data, end =',')\n",
    "        if root.right is not None:\n",
    "            print('R ', self.root.right.data, end = '')\n",
    "        print() \n",
    "        printTreeDetailed(self.root.left)\n",
    "        printTreeDetailed(self.root.right)\n",
    "        return \n",
    "    \n",
    "    \n",
    "    def countNodes(self):\n",
    "        return self.numNodes "
   ]
  },
  {
   "cell_type": "code",
   "execution_count": 274,
   "metadata": {
    "scrolled": true
   },
   "outputs": [
    {
     "name": "stdout",
     "output_type": "stream",
     "text": [
      "10:L  5,R  12\n",
      "5:R  7\n",
      "7:L  6,R  8\n",
      "6:\n",
      "8:\n",
      "12:L  11,R  15\n",
      "11:\n",
      "15:\n",
      "8\n",
      "after deletion\n",
      "10:L  7,R  12\n",
      "7:L  6,R  8\n",
      "6:\n",
      "8:\n",
      "12:L  11,R  15\n",
      "11:\n",
      "15:\n",
      "remove 10\n",
      "11:L  7,R  12\n",
      "7:L  6,R  8\n",
      "6:\n",
      "8:\n",
      "12:R  15\n",
      "15:\n"
     ]
    }
   ],
   "source": [
    "b = BST()\n",
    "b.insert(10)\n",
    "b.insert(5)\n",
    "b.insert(12)\n",
    "b.insert(7)\n",
    "b.insert(6)\n",
    "b.insert(8)\n",
    "b.insert(11)\n",
    "b.insert(15)\n",
    "b.printBST()\n",
    "print(b.countNodes())\n",
    "print(\"after deletion\")\n",
    "b.deleteData(5)\n",
    "# print(x)\n",
    "b.printBST()\n",
    "b.deleteData(10)\n",
    "# print(x)\n",
    "print(\"remove 10\")\n",
    "b.printBST()\n",
    "# print(b.countNodes())"
   ]
  },
  {
   "cell_type": "code",
   "execution_count": 259,
   "metadata": {},
   "outputs": [],
   "source": [
    "def printTreeDetailed(root):\n",
    "    if root is None:\n",
    "        return \n",
    "    print(root.data, end = ':')\n",
    "    if root.left is not None:\n",
    "        print('L ', root.left.data, end =',')\n",
    "    if root.right is not None:\n",
    "        print('R ', root.right.data, end = '')\n",
    "    print() \n",
    "    printTreeDetailed(root.left)\n",
    "    printTreeDetailed(root.right)"
   ]
  },
  {
   "cell_type": "code",
   "execution_count": null,
   "metadata": {},
   "outputs": [],
   "source": []
  },
  {
   "cell_type": "code",
   "execution_count": null,
   "metadata": {},
   "outputs": [],
   "source": []
  },
  {
   "cell_type": "code",
   "execution_count": null,
   "metadata": {},
   "outputs": [],
   "source": []
  },
  {
   "cell_type": "code",
   "execution_count": null,
   "metadata": {},
   "outputs": [],
   "source": []
  },
  {
   "cell_type": "code",
   "execution_count": null,
   "metadata": {},
   "outputs": [],
   "source": []
  },
  {
   "cell_type": "code",
   "execution_count": null,
   "metadata": {},
   "outputs": [],
   "source": []
  },
  {
   "cell_type": "code",
   "execution_count": null,
   "metadata": {},
   "outputs": [],
   "source": []
  },
  {
   "cell_type": "code",
   "execution_count": null,
   "metadata": {},
   "outputs": [],
   "source": []
  },
  {
   "cell_type": "code",
   "execution_count": null,
   "metadata": {},
   "outputs": [],
   "source": []
  },
  {
   "cell_type": "code",
   "execution_count": null,
   "metadata": {},
   "outputs": [],
   "source": []
  },
  {
   "cell_type": "code",
   "execution_count": 3,
   "metadata": {},
   "outputs": [],
   "source": [
    "from queue import Queue\n",
    "def levelOrderInput():\n",
    "    q = Queue()\n",
    "    rootData = int(input(\"Enter Root data:\"))\n",
    "    if rootData != -1:\n",
    "        root = BinaryTreeNode(rootData)\n",
    "        q.put(root)\n",
    "    while not(q.empty()):\n",
    "        front = q.get()\n",
    "        leftData = int(input(\"Enter {} left Child:\".format(front.data)))\n",
    "        rightData = int(input(\"Enter {} right child:\".format(front.data)))\n",
    "        \n",
    "        if leftData != -1:\n",
    "            leftNode = BinaryTreeNode(leftData)\n",
    "            front.left = leftNode\n",
    "            q.put(leftNode)\n",
    "        if rightData != -1:\n",
    "            rightNode = BinaryTreeNode(rightData)\n",
    "            front.right = rightNode\n",
    "            q.put(rightNode)\n",
    "    return root"
   ]
  },
  {
   "cell_type": "code",
   "execution_count": 227,
   "metadata": {},
   "outputs": [],
   "source": [
    "def printLevelOrder(root):\n",
    "    if root is None:\n",
    "        return\n",
    "    q = Queue()\n",
    "    q.put(root)\n",
    "    \n",
    "    while not(q.empty()):\n",
    "        \n",
    "        curr = q.get()\n",
    "        \n",
    "        if curr.left is not None:\n",
    "            print(\"{}:L\".format(curr.data),curr.left.data)\n",
    "            q.put(curr.left)\n",
    "        if curr.right is not None:\n",
    "            print(\"{}:R\".format(curr.data),curr.right.data, end=\"\")\n",
    "            q.put(curr.right)\n",
    "        if curr.left is None and curr.right is None:\n",
    "            print(\"{}:\".format(curr.data), end=\"\")\n",
    "        print()\n",
    "        "
   ]
  },
  {
   "cell_type": "code",
   "execution_count": 5,
   "metadata": {},
   "outputs": [],
   "source": [
    "def serachInBST(root, ele):\n",
    "    \n",
    "    if root == None:\n",
    "        return False\n",
    "    \n",
    "    if root.data == ele:\n",
    "        return True\n",
    "    if root.data > ele:\n",
    "        return serachInBST(root.left, ele)\n",
    "    if root.data < ele:\n",
    "        return serachInBST(root.right, ele)\n",
    "    \n",
    "    "
   ]
  },
  {
   "cell_type": "code",
   "execution_count": 7,
   "metadata": {},
   "outputs": [
    {
     "name": "stdout",
     "output_type": "stream",
     "text": [
      "Enter Root data:8\n",
      "Enter 8 left Child:5\n",
      "Enter 8 right child:10\n",
      "Enter 5 left Child:2\n",
      "Enter 5 right child:6\n",
      "Enter 10 left Child:-1\n",
      "Enter 10 right child:-1\n",
      "Enter 2 left Child:-1\n",
      "Enter 2 right child:-1\n",
      "Enter 6 left Child:-1\n",
      "Enter 6 right child:7\n",
      "Enter 7 left Child:-1\n",
      "Enter 7 right child:-1\n",
      "8:L 5,8:R 10\n",
      "5:L 2,5:R 6\n",
      "10:\n",
      "2:\n",
      "6:R 7\n",
      "7:\n"
     ]
    },
    {
     "data": {
      "text/plain": [
       "False"
      ]
     },
     "execution_count": 7,
     "metadata": {},
     "output_type": "execute_result"
    }
   ],
   "source": [
    "root = levelOrderInput()\n",
    "printLevelOrder(root)\n",
    "serachInBST(root, 12)"
   ]
  },
  {
   "cell_type": "code",
   "execution_count": 48,
   "metadata": {},
   "outputs": [],
   "source": [
    "def printInRangeK1K2(root, k1, k2):\n",
    "    \n",
    "    if root is None:\n",
    "        return \n",
    "\n",
    "    if k1 <= root.data and root.data <= k2:\n",
    "        printInRangeK1K2(root.left, k1, k2)\n",
    "        print(root.data)\n",
    "        printInRangeK1K2(root.right, k1, k2)\n",
    "        return \n",
    "    if root.data<k1:\n",
    "        printInRangeK1K2(root.right, k1, k2)\n",
    "    if root.data>k2:\n",
    "        printInRangeK1K2(root.left, k1, k2)\n"
   ]
  },
  {
   "cell_type": "code",
   "execution_count": 49,
   "metadata": {},
   "outputs": [
    {
     "name": "stdout",
     "output_type": "stream",
     "text": [
      "Enter Root data:8\n",
      "Enter 8 left Child:5\n",
      "Enter 8 right child:10\n",
      "Enter 5 left Child:2\n",
      "Enter 5 right child:6\n",
      "Enter 10 left Child:-1\n",
      "Enter 10 right child:11\n",
      "Enter 2 left Child:-1\n",
      "Enter 2 right child:-1\n",
      "Enter 6 left Child:-1\n",
      "Enter 6 right child:7\n",
      "Enter 11 left Child:-1\n",
      "Enter 11 right child:-1\n",
      "Enter 7 left Child:-1\n",
      "Enter 7 right child:-1\n",
      "6\n",
      "7\n",
      "8\n",
      "10\n"
     ]
    }
   ],
   "source": [
    "root = levelOrderInput()\n",
    "printInRangeK1K2(root, 6, 10)"
   ]
  },
  {
   "cell_type": "code",
   "execution_count": 83,
   "metadata": {},
   "outputs": [],
   "source": [
    "def constructBST(array):\n",
    "    if len(array) == 0:\n",
    "        return None\n",
    "    midIndex = (len(array)-1)//2\n",
    "    rooData = array[midIndex]\n",
    "    root = BinaryTreeNode(rooData)\n",
    "    root.left = constructBST(array[:midIndex])\n",
    "    root.right = constructBST(array[midIndex+1:])\n",
    "    \n",
    "    return root"
   ]
  },
  {
   "cell_type": "code",
   "execution_count": 84,
   "metadata": {},
   "outputs": [
    {
     "name": "stdout",
     "output_type": "stream",
     "text": [
      "3:L 1,3:R 4\n",
      "1:R 2\n",
      "4:R 5\n",
      "2:\n",
      "5:\n"
     ]
    }
   ],
   "source": [
    "array = [1,2,3,4,5]\n",
    "root = constructBST(array)\n",
    "printLevelOrder(root)"
   ]
  },
  {
   "cell_type": "code",
   "execution_count": 110,
   "metadata": {},
   "outputs": [],
   "source": [
    "def maxTree(root):\n",
    "    if root is None:\n",
    "        return -10000\n",
    "    maxLeft = maxTree(root.left)\n",
    "    maxRight = maxTree(root.right)\n",
    "    return max(root.data, maxLeft, maxRight)"
   ]
  },
  {
   "cell_type": "code",
   "execution_count": 111,
   "metadata": {},
   "outputs": [],
   "source": [
    "def minTree(root):\n",
    "    if root is None:\n",
    "        return 10000\n",
    "    minLeft = minTree(root.left)\n",
    "    minRight = minTree(root.right)\n",
    "    return min(root.data, minLeft, minRight)"
   ]
  },
  {
   "cell_type": "code",
   "execution_count": 112,
   "metadata": {},
   "outputs": [],
   "source": [
    "def checkIsBST(root):\n",
    "    if root is None:\n",
    "        return True\n",
    "    leftMax = maxTree(root.left)\n",
    "    rightMin = minTree(root.right)\n",
    "    \n",
    "    if root.data > rightMin or root.data <= leftMax:\n",
    "        return False\n",
    "    \n",
    "    return checkIsBST(root.left) and checkIsBST(root.right)"
   ]
  },
  {
   "cell_type": "code",
   "execution_count": 116,
   "metadata": {},
   "outputs": [],
   "source": [
    "def checkIsBSTImproved(root):\n",
    "    if root is None:\n",
    "        return 10000, -10000, True\n",
    "    \n",
    "    leftMax, rightMin, checkIsBSTLeft = checkIsBSTImproved(root.left)\n",
    "    leftMax, rightMin, checkIsBSTRight = checkIsBSTImproved(root.right)\n",
    "    \n",
    "    if root.data>rightMin or root.data<=leftMax:\n",
    "        return leftMax, rightMin, False\n",
    "    \n",
    "    return max(root.data, leftMax, rightMin), min(root.data, leftmax, rightMin), (checkIsBSTLeft and checkIsBSTRight)\n",
    "    \n",
    "    "
   ]
  },
  {
   "cell_type": "code",
   "execution_count": 124,
   "metadata": {},
   "outputs": [
    {
     "name": "stdout",
     "output_type": "stream",
     "text": [
      "Enter Root data:7\n",
      "Enter 7 left Child:-1\n",
      "Enter 7 right child:5\n",
      "Enter 5 left Child:-1\n",
      "Enter 5 right child:-1\n"
     ]
    },
    {
     "data": {
      "text/plain": [
       "False"
      ]
     },
     "execution_count": 124,
     "metadata": {},
     "output_type": "execute_result"
    }
   ],
   "source": [
    "root = levelOrderInput()\n",
    "checkIsBST(root)"
   ]
  },
  {
   "cell_type": "code",
   "execution_count": 131,
   "metadata": {},
   "outputs": [],
   "source": [
    "def BST3(root, min_range = -10000, max_range = 10000 ):\n",
    "    if root is None:\n",
    "        return True\n",
    "    if root.data >max_range or root.data < min_range:\n",
    "        return False\n",
    "    \n",
    "    checkConstarintsLeft = BST3(root.left, min_range, root.data-1)\n",
    "    checkConstarintsRight = BST3(root.right, root.data, max_range)\n",
    "    \n",
    "    return checkConstarintsLeft and checkConstarintsRight\n",
    "    "
   ]
  },
  {
   "cell_type": "code",
   "execution_count": 134,
   "metadata": {},
   "outputs": [
    {
     "name": "stdout",
     "output_type": "stream",
     "text": [
      "Enter Root data:4\n",
      "Enter 4 left Child:2\n",
      "Enter 4 right child:6\n",
      "Enter 2 left Child:1\n",
      "Enter 2 right child:10\n",
      "Enter 6 left Child:-1\n",
      "Enter 6 right child:-1\n",
      "Enter 1 left Child:-1\n",
      "Enter 1 right child:-1\n",
      "Enter 10 left Child:-1\n",
      "Enter 10 right child:-1\n"
     ]
    },
    {
     "data": {
      "text/plain": [
       "False"
      ]
     },
     "execution_count": 134,
     "metadata": {},
     "output_type": "execute_result"
    }
   ],
   "source": [
    "root = levelOrderInput()\n",
    "BST3(root)"
   ]
  },
  {
   "cell_type": "code",
   "execution_count": 163,
   "metadata": {},
   "outputs": [],
   "source": [
    "def nodeToRootPath(root, k):\n",
    "    if root is None:\n",
    "        return None\n",
    "    if root.data == k:\n",
    "        l = list()\n",
    "        l.append(root.data)\n",
    "        return l\n",
    "    leftOut = nodeToRootPath(root.left, k)\n",
    "    if leftOut !=None:\n",
    "        leftOut.append(root.data)\n",
    "        return leftOut\n",
    "    rightOut = nodeToRootPath(root.right, k)\n",
    "    if rightOut!= None:\n",
    "        rightOut.append(root.data)\n",
    "        return rightOut\n",
    "    else:\n",
    "        return None\n",
    "    \n",
    "    "
   ]
  },
  {
   "cell_type": "code",
   "execution_count": 165,
   "metadata": {},
   "outputs": [
    {
     "name": "stdout",
     "output_type": "stream",
     "text": [
      "Enter Root data:4\n",
      "Enter 4 left Child:2\n",
      "Enter 4 right child:6\n",
      "Enter 2 left Child:-1\n",
      "Enter 2 right child:10\n",
      "Enter 6 left Child:-1\n",
      "Enter 6 right child:-1\n",
      "Enter 10 left Child:-1\n",
      "Enter 10 right child:-1\n",
      "[10, 2, 4]\n"
     ]
    }
   ],
   "source": [
    "root = levelOrderInput()\n",
    "l = nodeToRootPath(root, 10)\n",
    "print(l)"
   ]
  },
  {
   "cell_type": "code",
   "execution_count": null,
   "metadata": {},
   "outputs": [],
   "source": []
  }
 ],
 "metadata": {
  "kernelspec": {
   "display_name": "Python 3",
   "language": "python",
   "name": "python3"
  },
  "language_info": {
   "codemirror_mode": {
    "name": "ipython",
    "version": 3
   },
   "file_extension": ".py",
   "mimetype": "text/x-python",
   "name": "python",
   "nbconvert_exporter": "python",
   "pygments_lexer": "ipython3",
   "version": "3.7.4"
  }
 },
 "nbformat": 4,
 "nbformat_minor": 2
}

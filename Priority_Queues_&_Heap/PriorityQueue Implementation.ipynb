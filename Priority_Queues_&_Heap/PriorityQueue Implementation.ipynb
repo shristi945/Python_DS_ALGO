{
 "cells": [
  {
   "cell_type": "code",
   "execution_count": 22,
   "metadata": {},
   "outputs": [],
   "source": [
    "class priorityQueueNode:\n",
    "    def __init__(self, value, priority):\n",
    "        self.value = value\n",
    "        self.priority = priority\n",
    "        \n",
    "class priorityQueue:\n",
    "    \n",
    "    def __init__(self):\n",
    "        self.pq = []\n",
    "    \n",
    "    def getSize(self):\n",
    "        return len(self.pq)\n",
    "    \n",
    "    def isEmpty(self):\n",
    "        return self.getSize() == 0\n",
    "    \n",
    "    def getMin(self):\n",
    "        if self.isEmpty is True:\n",
    "            return None\n",
    "        return self.pq[0].value\n",
    "    \n",
    "    def __percolateUp(self):\n",
    "        childrenIndex = self.getSize() - 1\n",
    "        while childrenIndex > 0: \n",
    "            parentIndex = (childrenIndex-1)//2\n",
    "            \n",
    "            if self.pq[parentIndex].priority > self.pq[childrenIndex].priority:\n",
    "                self.pq[parentIndex], self.pq[childrenIndex] = self.pq[childrenIndex], self.pq[parentIndex]\n",
    "                childrenIndex = parentIndex\n",
    "            else:\n",
    "                break\n",
    "            \n",
    "    \n",
    "    def insert(self, value, priority):\n",
    "        \n",
    "        pqNode = priorityQueueNode(value, priority)\n",
    "        self.pq.append(pqNode)\n",
    "        self.__percolateUp()\n",
    "        \n",
    "    def __percolateDown(self):\n",
    "        \n",
    "        lastIndex = self.getSize()-1\n",
    "        startIndex = 0\n",
    "        self.pq[startIndex] = self.pq[lastIndex]\n",
    "        del self.pq[lastIndex]\n",
    "        while ((2*startIndex) + 2) < self.getSize():\n",
    "            \n",
    "            if (2*startIndex) + 1 < self.getSize():\n",
    "                \n",
    "                if self.pq[startIndex].priority > self.pq[(2*startIndex+1)].priority or self.pq[startIndex].priority >self.pq[(2*startIndex+2)].priority:\n",
    "                    \n",
    "                    if self.pq[2*startIndex+1].priority < self.pq[2*startIndex+2].priority:\n",
    "                        minIndex = 2*startIndex+1\n",
    "                    else:\n",
    "                        minIndex = 2*startIndex+2\n",
    "                    \n",
    "                    self.pq[startIndex], self.pq[minIndex] =  self.pq[minIndex], self.pq[startIndex]\n",
    "                    startIndex = minIndex\n",
    "            \n",
    "            elif (2*startIndex) + 1 ==  self.getSize():\n",
    "                \n",
    "                if self.pq[startIndex].priority > self.pq[2*startIndex+1].priority:\n",
    "                    \n",
    "                    self.pq[startIndex], self.pq[2*startIndex+1] = self.pq[2*startIndex+1], self.pq[startIndex]\n",
    "                    startIndex = 2*startIndex+1\n",
    "            \n",
    "                \n",
    "\n",
    "    def removeMin(self):\n",
    "        if self.isEmpty() is True:\n",
    "            return False\n",
    "        print(self.getMin())\n",
    "        self.__percolateDown()\n",
    "    "
   ]
  },
  {
   "cell_type": "code",
   "execution_count": 24,
   "metadata": {},
   "outputs": [
    {
     "name": "stdout",
     "output_type": "stream",
     "text": [
      "0\n",
      "4\n",
      "4\n",
      "after removing 3\n",
      "1\n",
      "after removing 2\n"
     ]
    }
   ],
   "source": [
    "pq = priorityQueue()\n",
    "print(pq.getSize())\n",
    "pq.insert(1, 3)\n",
    "pq.insert(2, 4)\n",
    "pq.insert(3, 5)\n",
    "pq.insert(4, 1)\n",
    "print(pq.getSize())\n",
    "pq.removeMin()\n",
    "print(\"after removing\", pq.getSize())\n",
    "pq.removeMin()\n",
    "print(\"after removing\", pq.getSize())"
   ]
  },
  {
   "cell_type": "code",
   "execution_count": null,
   "metadata": {},
   "outputs": [],
   "source": []
  }
 ],
 "metadata": {
  "kernelspec": {
   "display_name": "Python 3",
   "language": "python",
   "name": "python3"
  },
  "language_info": {
   "codemirror_mode": {
    "name": "ipython",
    "version": 3
   },
   "file_extension": ".py",
   "mimetype": "text/x-python",
   "name": "python",
   "nbconvert_exporter": "python",
   "pygments_lexer": "ipython3",
   "version": "3.7.4"
  }
 },
 "nbformat": 4,
 "nbformat_minor": 2
}

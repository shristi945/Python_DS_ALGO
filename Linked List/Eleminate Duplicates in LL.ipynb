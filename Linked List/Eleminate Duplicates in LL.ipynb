{
 "cells": [
  {
   "cell_type": "markdown",
   "metadata": {},
   "source": [
    "###### Eliminate duplicates from LL\n",
    "###### Given a sorted linked list (elements are sorted in ascending order). Eliminate duplicates from the given LL, such that output LL contains only unique elements.\n",
    "###### You don't need to print the elements, just remove duplicates and return the head of updated LL.\n",
    "###### Input format : Linked list elements (separated by space and terminated by -1)"
   ]
  },
  {
   "cell_type": "code",
   "execution_count": 23,
   "metadata": {},
   "outputs": [
    {
     "name": "stdout",
     "output_type": "stream",
     "text": [
      "1 2 2 3 4 -1\n",
      "1 2 3 4 \n"
     ]
    }
   ],
   "source": [
    "class Node:\n",
    "    def __init__(self, data):\n",
    "        self.data = data\n",
    "        self.next = None\n",
    "        \n",
    "def LL_dict(head):\n",
    "    curr = head\n",
    "    di = {}\n",
    "    while curr is not None:\n",
    "        if curr.data in list(di.keys()):\n",
    "            di[curr.data] += 1\n",
    "        else:\n",
    "            di[curr.data] = 1\n",
    "        curr = curr.next\n",
    "    return di\n",
    "            \n",
    "        \n",
    "def eliminate_duplicate(head):\n",
    "    #  Given a sorted linked list (elements are sorted in ascending order).\n",
    "    #  Eliminate duplicates from the given LL, such that output LL contains only\n",
    "    #  unique elements.\n",
    "    di = LL_dict(head)\n",
    "    curr, prev = head, head\n",
    "    while curr is not None:\n",
    "        if di[curr.data]==1:\n",
    "            curr = curr.next\n",
    "            prev = curr\n",
    "        elif di[curr.data] > 1:\n",
    "            count = di[curr.data]\n",
    "            while count and curr is not None:\n",
    "                curr = curr.next\n",
    "                count -= 1\n",
    "            prev.next = curr\n",
    "            prev= curr\n",
    "    return head\n",
    "                \n",
    "                \n",
    "            \n",
    "            \n",
    "        \n",
    "    \n",
    "\n",
    "def ll(arr):\n",
    "    if len(arr)==0:\n",
    "        return None\n",
    "    head = Node(arr[0])\n",
    "    last = head\n",
    "    for data in arr[1:]:\n",
    "        last.next = Node(data)\n",
    "        last = last.next\n",
    "    return head\n",
    "\n",
    "def printll(head):\n",
    "    while head:\n",
    "        print(head.data, end=' ')\n",
    "        head = head.next\n",
    "    print()\n",
    "\n",
    "# Main\n",
    "# Read the link list elements including -1\n",
    "arr=list(int(i) for i in input().strip().split(' '))\n",
    "# Create a Linked list after removing -1 from list\n",
    "l = ll(arr[:-1])\n",
    "l = eliminate_duplicate(l)\n",
    "printll(l)"
   ]
  },
  {
   "cell_type": "code",
   "execution_count": null,
   "metadata": {},
   "outputs": [],
   "source": []
  }
 ],
 "metadata": {
  "kernelspec": {
   "display_name": "Python 3",
   "language": "python",
   "name": "python3"
  },
  "language_info": {
   "codemirror_mode": {
    "name": "ipython",
    "version": 3
   },
   "file_extension": ".py",
   "mimetype": "text/x-python",
   "name": "python",
   "nbconvert_exporter": "python",
   "pygments_lexer": "ipython3",
   "version": "3.7.1"
  }
 },
 "nbformat": 4,
 "nbformat_minor": 2
}

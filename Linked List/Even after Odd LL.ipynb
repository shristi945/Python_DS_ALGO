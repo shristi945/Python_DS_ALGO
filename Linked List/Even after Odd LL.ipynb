{
 "cells": [
  {
   "cell_type": "markdown",
   "metadata": {},
   "source": [
    "###### Arrange elements in a given Linked List such that, all even numbers are placed after odd numbers. Respective order of elements should remain same.\n",
    "###### You don't need to print the elements, instead return the head of updated LL.\n",
    "###### Input format : Linked list elements (separated by space and terminated by -1)"
   ]
  },
  {
   "cell_type": "code",
   "execution_count": 11,
   "metadata": {},
   "outputs": [
    {
     "name": "stdout",
     "output_type": "stream",
     "text": [
      "1852 1566 735 141 259 1563 1532 619 1670 572 -1\n",
      "735 141 259 1563 619 1852 1566 1532 1670 572 \n"
     ]
    }
   ],
   "source": [
    "# Problem ID 331 even after odd in a LL\n",
    "class Node:\n",
    "    def __init__(self, data):\n",
    "        self.data = data\n",
    "        self.next = None\n",
    "\n",
    "def arrange_LinkedList(head):\n",
    "    #  Even after Odd LinkedList: Arrange elements in a given Linked List such\n",
    "    #  that, all even numbers are placed after odd numbers. Respective order of\n",
    "    #  elements should remain same.\n",
    "    if head is None or head.next is None:\n",
    "        return head\n",
    "    \n",
    "    foh, feh = None, None\n",
    "    fo, fe = None, None\n",
    "    curr = head\n",
    "    while curr is not None:\n",
    "        if curr.data%2 != 0:\n",
    "            if foh is None and fo is None:\n",
    "                foh = curr\n",
    "                fo = curr\n",
    "            else:\n",
    "                fo.next = curr\n",
    "                fo = fo.next\n",
    "            curr = curr.next\n",
    "        else:\n",
    "            if feh is None and fe is None:\n",
    "                feh = curr  \n",
    "                fe = curr\n",
    "            else:\n",
    "                fe.next = curr\n",
    "                fe = fe.next\n",
    "            curr = curr.next\n",
    "            \n",
    "    if foh is None:\n",
    "        return feh\n",
    "    elif feh is None:\n",
    "        return foh\n",
    "    fe.next = None\n",
    "    fo.next = feh\n",
    "    \n",
    "    return foh\n",
    "    \n",
    "\n",
    "def ll(arr):\n",
    "    if len(arr)==0:\n",
    "        return None\n",
    "    head = Node(arr[0])\n",
    "    last = head\n",
    "    for data in arr[1:]:\n",
    "        last.next = Node(data)\n",
    "        last = last.next\n",
    "    return head\n",
    "\n",
    "def printll(head):\n",
    "    while head:\n",
    "        print(head.data, end=' ')\n",
    "        head = head.next\n",
    "    print()\n",
    "\n",
    "# Main\n",
    "# Read the link list elements including -1\n",
    "arr=list(int(i) for i in input().strip().split(' '))\n",
    "# Create a Linked list after removing -1 from list\n",
    "l = ll(arr[:-1])\n",
    "l = arrange_LinkedList(l)\n",
    "printll(l)\n"
   ]
  },
  {
   "cell_type": "code",
   "execution_count": null,
   "metadata": {},
   "outputs": [],
   "source": []
  }
 ],
 "metadata": {
  "kernelspec": {
   "display_name": "Python 3",
   "language": "python",
   "name": "python3"
  },
  "language_info": {
   "codemirror_mode": {
    "name": "ipython",
    "version": 3
   },
   "file_extension": ".py",
   "mimetype": "text/x-python",
   "name": "python",
   "nbconvert_exporter": "python",
   "pygments_lexer": "ipython3",
   "version": "3.7.1"
  }
 },
 "nbformat": 4,
 "nbformat_minor": 2
}

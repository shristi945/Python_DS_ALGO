{
 "cells": [
  {
   "cell_type": "markdown",
   "metadata": {},
   "source": [
    "###### Given a linked list, i & j, swap the nodes that are present at i & j position in the LL. You need to swap the entire nodes, not just the data.\n",
    "###### Indexing starts from 0. You don't need to print the elements, just swap and return the head of updated LL.\n",
    "###### Assume i & j given will be within limits. And i can be greater than j also.\n",
    "###### Input format :\n",
    "###### Line 1 : Linked list elements (separated by space and terminated by -1)\n",
    "###### Line 2 : i and j (separated by space)"
   ]
  },
  {
   "cell_type": "code",
   "execution_count": 27,
   "metadata": {},
   "outputs": [
    {
     "name": "stdout",
     "output_type": "stream",
     "text": [
      "1 2 3 4 5 -1\n",
      "4\n",
      "3\n",
      "1 2 3 5 4 \n"
     ]
    }
   ],
   "source": [
    "class Node:\n",
    "    def __init__(self, data):\n",
    "        self.data = data\n",
    "        self.next = None\n",
    "    \n",
    "def ll(arr):\n",
    "    if len(arr)==0:\n",
    "        return None\n",
    "    head = Node(arr[0])\n",
    "    last = head\n",
    "    for data in arr[1:]:\n",
    "        last.next = Node(data)\n",
    "        last = last.next\n",
    "    return head\n",
    "\n",
    "def printll(head):\n",
    "    while head:\n",
    "        print(head.data, end=' ')\n",
    "        head = head.next\n",
    "    print()\n",
    "def lenLL(head):\n",
    "    curr = head\n",
    "    count = 0\n",
    "    while curr is not None:\n",
    "        count += 1\n",
    "        curr = curr.next\n",
    "    return count \n",
    "def swapNode(head, x, y):\n",
    "    if not head or not head.next:\n",
    "        return head\n",
    "    \n",
    "    c1, c2 = head, head\n",
    "    \n",
    "    l = lenLL(head)\n",
    "    \n",
    "    if x>=l or y >=l:\n",
    "        return head\n",
    "    \n",
    "    p1 = None\n",
    "    p2 = None\n",
    "    \n",
    "    for i in range(x):\n",
    "        p1 = c1\n",
    "        c1 = c1.next\n",
    "    for j in range(y):\n",
    "        p2 = c2\n",
    "        c2 = c2.next\n",
    "        \n",
    "    if c1 is None or c2 is None:\n",
    "        return\n",
    "    if p1 is None:\n",
    "        head = c2\n",
    "    else:\n",
    "        p1.next = c2\n",
    "    \n",
    "    if p2 is None:\n",
    "        head = c1\n",
    "    else:\n",
    "        p2.next = c1\n",
    "        \n",
    "    tmp = c1.next\n",
    "    c1.next = c2.next\n",
    "    c2.next = tmp\n",
    "    \n",
    "    \n",
    "    \n",
    "    return head           \n",
    "        \n",
    "        \n",
    "        \n",
    "\n",
    "    \n",
    "# Main\n",
    "# Read the link list elements including -1\n",
    "arr=list(int(i) for i in input().strip().split(' '))\n",
    "# Create a Linked list after removing -1 from list\n",
    "l = ll(arr[:-1])\n",
    "i, j= map(int, input().split())\n",
    "l = swapNode(l, i, j)\n",
    "printll(l)"
   ]
  },
  {
   "cell_type": "code",
   "execution_count": 10,
   "metadata": {},
   "outputs": [
    {
     "name": "stdout",
     "output_type": "stream",
     "text": [
      "1 2 \n"
     ]
    }
   ],
   "source": [
    "x, y= map(int, input().split())"
   ]
  },
  {
   "cell_type": "code",
   "execution_count": 11,
   "metadata": {},
   "outputs": [
    {
     "data": {
      "text/plain": [
       "1"
      ]
     },
     "execution_count": 11,
     "metadata": {},
     "output_type": "execute_result"
    }
   ],
   "source": [
    "x\n"
   ]
  },
  {
   "cell_type": "code",
   "execution_count": 12,
   "metadata": {},
   "outputs": [
    {
     "data": {
      "text/plain": [
       "2"
      ]
     },
     "execution_count": 12,
     "metadata": {},
     "output_type": "execute_result"
    }
   ],
   "source": [
    "y"
   ]
  },
  {
   "cell_type": "code",
   "execution_count": null,
   "metadata": {},
   "outputs": [],
   "source": [
    "def swapNode(head, x, y):\n",
    "    if not head or not head.next:\n",
    "        return head\n",
    "    \n",
    "    c1, c2 = head, head\n",
    "    \n",
    "    l = lenLL(head)\n",
    "    \n",
    "    if x>=l or y >=l:\n",
    "        return head\n",
    "    \n",
    "    p1 = None\n",
    "    p2 = None\n",
    "    \n",
    "    for i in range(x):\n",
    "        p1 = c1\n",
    "        c1 = c1.next\n",
    "    for j in range(y):\n",
    "        p2 = c2\n",
    "        c2 = c2.next\n",
    "        \n",
    "    if c1 is None or c2 is None:\n",
    "        return\n",
    "    if p1 is None:\n",
    "        head = c2\n",
    "    else:\n",
    "        p1.next = c2\n",
    "    \n",
    "    if p2 is None:\n",
    "        head = c1\n",
    "    else:\n",
    "        p2.next = c1\n",
    "        \n",
    "    tmp = c1.next\n",
    "    c1.next = c2.next\n",
    "    c2.next = tmp\n",
    "    \n",
    "    \n",
    "    \n",
    "    return head"
   ]
  }
 ],
 "metadata": {
  "kernelspec": {
   "display_name": "Python 3",
   "language": "python",
   "name": "python3"
  },
  "language_info": {
   "codemirror_mode": {
    "name": "ipython",
    "version": 3
   },
   "file_extension": ".py",
   "mimetype": "text/x-python",
   "name": "python",
   "nbconvert_exporter": "python",
   "pygments_lexer": "ipython3",
   "version": "3.7.1"
  }
 },
 "nbformat": 4,
 "nbformat_minor": 2
}

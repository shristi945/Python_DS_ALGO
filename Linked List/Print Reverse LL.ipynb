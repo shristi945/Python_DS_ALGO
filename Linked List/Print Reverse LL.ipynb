{
 "cells": [
  {
   "cell_type": "markdown",
   "metadata": {},
   "source": [
    "###### Print reverse LinkedList\n",
    "###### Print a given linked list in reverse order. You need to print the tail first and head last. You can’t change any pointer in the linked list, just print it in reverse order.\n",
    "###### Input format : Linked List elements (separated by space and terminated by -1)\n",
    "###### Output format : Linked List elements in reverse order (separated by space)"
   ]
  },
  {
   "cell_type": "code",
   "execution_count": 6,
   "metadata": {},
   "outputs": [
    {
     "name": "stdout",
     "output_type": "stream",
     "text": [
      "2848 1224 1205 354 4176 5878 458 4810 1558 2535 -1\n",
      "2535 1558 4810 458 5878 4176 354 1205 1224 2848 "
     ]
    }
   ],
   "source": [
    "class Node:\n",
    "    def __init__(self, data):\n",
    "        self.data = data\n",
    "        self.next = None\n",
    "\n",
    "def print_linkedlist_spl(head):\n",
    "    #  Print a given linked list in reverse order. You need to print the tail\n",
    "    #  first and head last. You can’t change any pointer in the linked list, just\n",
    "    #  print it in reverse order.\n",
    "    #  GOOD PROBLEM for RECURSION\n",
    "    store = head\n",
    "    \n",
    "    if head is None:\n",
    "        return\n",
    "    \n",
    "    print_linkedlist_spl(head.next)\n",
    "    print(head.data, end = \" \")\n",
    "    \n",
    "    \n",
    "    \n",
    "    \n",
    "    \n",
    "\n",
    "def ll(arr):\n",
    "    if len(arr)==0:\n",
    "        return None\n",
    "    head = Node(arr[0])\n",
    "    last = head\n",
    "    for data in arr[1:]:\n",
    "        last.next = Node(data)\n",
    "        last = last.next\n",
    "    return head\n",
    "\n",
    "# Main\n",
    "# Read the link list elements including -1\n",
    "from sys import setrecursionlimit\n",
    "setrecursionlimit(10000)\n",
    "arr=list(int(i) for i in input().strip().split(' '))\n",
    "# Create a Linked list after removing -1 from list\n",
    "l = ll(arr[:-1])\n",
    "print_linkedlist_spl(l)\n"
   ]
  },
  {
   "cell_type": "code",
   "execution_count": 8,
   "metadata": {},
   "outputs": [
    {
     "name": "stdout",
     "output_type": "stream",
     "text": [
      "1 2 3 4 5 -1\n",
      "[1]\n"
     ]
    }
   ],
   "source": [
    "class Node:\n",
    "    def __init__(self, data):\n",
    "        self.data = data\n",
    "        self.next = None\n",
    "\n",
    "def print_linkedlist_spl(head):\n",
    "    #  Print a given linked list in reverse order. You need to print the tail\n",
    "    #  first and head last. You can’t change any pointer in the linked list, just\n",
    "    #  print it in reverse order.\n",
    "    #  GOOD PROBLEM for RECURSION\n",
    "    store = head\n",
    "    ll = []\n",
    "    if head is None:\n",
    "        return\n",
    "    \n",
    "    print_linkedlist_spl(head.next)\n",
    "    ll.append(head.data)\n",
    "    return ll\n",
    "    \n",
    "    \n",
    "    \n",
    "    \n",
    "\n",
    "def ll(arr):\n",
    "    if len(arr)==0:\n",
    "        return None\n",
    "    head = Node(arr[0])\n",
    "    last = head\n",
    "    for data in arr[1:]:\n",
    "        last.next = Node(data)\n",
    "        last = last.next\n",
    "    return head\n",
    "\n",
    "# Main\n",
    "# Read the link list elements including -1\n",
    "from sys import setrecursionlimit\n",
    "setrecursionlimit(10000)\n",
    "arr=list(int(i) for i in input().strip().split(' '))\n",
    "# Create a Linked list after removing -1 from list\n",
    "l = ll(arr[:-1])\n",
    "print(print_linkedlist_spl(l))\n"
   ]
  },
  {
   "cell_type": "code",
   "execution_count": null,
   "metadata": {},
   "outputs": [],
   "source": []
  }
 ],
 "metadata": {
  "kernelspec": {
   "display_name": "Python 3",
   "language": "python",
   "name": "python3"
  },
  "language_info": {
   "codemirror_mode": {
    "name": "ipython",
    "version": 3
   },
   "file_extension": ".py",
   "mimetype": "text/x-python",
   "name": "python",
   "nbconvert_exporter": "python",
   "pygments_lexer": "ipython3",
   "version": "3.7.1"
  }
 },
 "nbformat": 4,
 "nbformat_minor": 2
}

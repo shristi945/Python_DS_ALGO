{
 "cells": [
  {
   "cell_type": "markdown",
   "metadata": {},
   "source": [
    "###### Taking input for the linked list, calculating length, inserting element at ith position."
   ]
  },
  {
   "cell_type": "code",
   "execution_count": 14,
   "metadata": {},
   "outputs": [
    {
     "name": "stdout",
     "output_type": "stream",
     "text": [
      "1 2 3 4 5 -1\n",
      "1 2 3 4 5\n"
     ]
    }
   ],
   "source": [
    "class Node:\n",
    "    def __init__(self, data):\n",
    "        self.data = data\n",
    "        self.next = None\n",
    "def takeInput():\n",
    "    head = None       \n",
    "    input_list = list(map(int, input().split(\" \")))\n",
    "    for ele in input_list:\n",
    "        if ele == -1:\n",
    "            break\n",
    "    \n",
    "        new_node = Node(ele)\n",
    "    \n",
    "        if head is None:\n",
    "            head = new_node\n",
    "        else:\n",
    "            curr = head    \n",
    "            while curr.next is not None:\n",
    "                curr = curr.next\n",
    "            curr.next = new_node \n",
    "    \n",
    "    return head\n",
    "\n",
    "head = takeInput()\n",
    "curr = head\n",
    "while curr.next is not None:\n",
    "    print(curr.data, end = \" \")\n",
    "    curr = curr.next\n",
    "print(curr.data)"
   ]
  },
  {
   "cell_type": "code",
   "execution_count": 21,
   "metadata": {},
   "outputs": [
    {
     "name": "stdout",
     "output_type": "stream",
     "text": [
      "1 2 3 4 5 6 7 -1\n",
      "8->1->2->3->4->5->6->7->None\n"
     ]
    }
   ],
   "source": [
    "class Node:\n",
    "    def __init__(self, data):\n",
    "        self.data = data\n",
    "        self.next = None\n",
    "\n",
    "def printLL(head):\n",
    "    curr = head\n",
    "    while curr is not None:\n",
    "        print(curr.data, end = \"->\")\n",
    "        curr = curr.next\n",
    "    print(\"None\")\n",
    "    \n",
    "def lenLL(head):\n",
    "    curr = head\n",
    "    count = 0\n",
    "    while curr is not None:\n",
    "        count += 1\n",
    "        curr = curr.next\n",
    "    return count\n",
    "\n",
    "def iPos(head, i, data):\n",
    "    \n",
    "    new_node = Node(data)\n",
    "    \n",
    "    if head is None:\n",
    "        head = new_node\n",
    "    else:\n",
    "        if i == 0:\n",
    "            new_node.next = head\n",
    "            head = new_node\n",
    "        if i > lenLL(head) and i != 0:\n",
    "            pass\n",
    "        elif i< lenLL(head) and i!=0:\n",
    "            curr = head\n",
    "            for j in range(i):\n",
    "                prev = curr\n",
    "                curr = curr.next\n",
    "            prev.next = new_node\n",
    "            new_node.next = curr\n",
    "    return head\n",
    "    \n",
    "def takeInput():\n",
    "    head = None       \n",
    "    input_list = list(map(int, input().split(\" \")))\n",
    "    for ele in input_list:\n",
    "        if ele == -1:\n",
    "            break\n",
    "    \n",
    "        new_node = Node(ele)\n",
    "    \n",
    "        if head is None:\n",
    "            head = new_node\n",
    "            curr = head\n",
    "        else:\n",
    "            curr.next = new_node\n",
    "            curr = curr.next\n",
    "    \n",
    "    return head\n",
    "\n",
    "head = takeInput()\n",
    "\n",
    "printLL(iPos(head, 0, 8))\n"
   ]
  },
  {
   "cell_type": "code",
   "execution_count": null,
   "metadata": {},
   "outputs": [],
   "source": []
  },
  {
   "cell_type": "code",
   "execution_count": null,
   "metadata": {},
   "outputs": [],
   "source": []
  }
 ],
 "metadata": {
  "kernelspec": {
   "display_name": "Python 3",
   "language": "python",
   "name": "python3"
  },
  "language_info": {
   "codemirror_mode": {
    "name": "ipython",
    "version": 3
   },
   "file_extension": ".py",
   "mimetype": "text/x-python",
   "name": "python",
   "nbconvert_exporter": "python",
   "pygments_lexer": "ipython3",
   "version": "3.7.1"
  }
 },
 "nbformat": 4,
 "nbformat_minor": 2
}

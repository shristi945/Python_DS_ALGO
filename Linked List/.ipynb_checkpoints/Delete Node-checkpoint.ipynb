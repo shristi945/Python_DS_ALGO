{
 "cells": [
  {
   "cell_type": "markdown",
   "metadata": {},
   "source": [
    "###### Given a linked list and a position i, delete the node of ith position from Linked List iteratively.\n",
    "###### If position i is greater than length of LL, then you should return the same LL without any change.\n",
    "###### Indexing starts from 0. You don't need to print the elements, just delete the node and return the head of updated LL."
   ]
  },
  {
   "cell_type": "code",
   "execution_count": 4,
   "metadata": {},
   "outputs": [
    {
     "name": "stdout",
     "output_type": "stream",
     "text": [
      "3 4 5 2 6 1 9 -1\n",
      "0\n",
      "4 5 2 6 1 9 \n"
     ]
    }
   ],
   "source": [
    "class Node:\n",
    "    def __init__(self, data):\n",
    "        self.data = data\n",
    "        self.next = None\n",
    "def lenLL(head):\n",
    "    curr = head\n",
    "    count = 0\n",
    "    while curr is not None:\n",
    "        count += 1\n",
    "        curr = curr.next\n",
    "    return count\n",
    "        \n",
    "def delete(head, i):\n",
    "    # A linked list and a position i, delete the node of ith position from\n",
    "    # Linked List iteratively. If position i is greater than length of LL, then\n",
    "    # you should return the same LL without any change. Indexing starts from 0.\n",
    "    # You don't need to print the elements, just delete the node and return the\n",
    "    # head of updated LL.\n",
    "    #############################\n",
    "    # PLEASE ADD YOUR CODE HERE #\n",
    "    #############################\n",
    "    \n",
    "    \n",
    "    curr = head\n",
    "    if lenLL(head) == 1 and i ==0:\n",
    "        return \n",
    "    \n",
    "    if i ==0:\n",
    "        head = curr.next\n",
    "    \n",
    "    elif i<=lenLL(head) or i>0:\n",
    "        if i == lenLL(head):\n",
    "            for j in range(i):\n",
    "                prev = curr\n",
    "                curr = curr.next\n",
    "            prev.next = None     \n",
    "        else:\n",
    "            for j in range(i):\n",
    "                prev = curr\n",
    "                curr = curr.next\n",
    "            prev.next = curr.next \n",
    "\n",
    "    \n",
    "        \n",
    "    return head\n",
    "    \n",
    "\n",
    "def ll(arr):\n",
    "    if len(arr)==0:\n",
    "        return None\n",
    "    head = Node(arr[0])\n",
    "    last = head\n",
    "    for data in arr[1:]:\n",
    "        last.next = Node(data)\n",
    "        last = last.next\n",
    "    return head\n",
    "\n",
    "def printll(head):\n",
    "    while head:\n",
    "        print(head.data, end=' ')\n",
    "        head = head.next\n",
    "    print()\n",
    "\n",
    "# Main\n",
    "# Read the link list elements including -1\n",
    "arr=list(int(i) for i in input().strip().split(' '))\n",
    "# Create a Linked list after removing -1 from list\n",
    "l = ll(arr[:-1])\n",
    "i=int(input())\n",
    "l = delete(l, i)\n",
    "printll(l)\n"
   ]
  },
  {
   "cell_type": "code",
   "execution_count": null,
   "metadata": {},
   "outputs": [],
   "source": []
  }
 ],
 "metadata": {
  "kernelspec": {
   "display_name": "Python 3",
   "language": "python",
   "name": "python3"
  },
  "language_info": {
   "codemirror_mode": {
    "name": "ipython",
    "version": 3
   },
   "file_extension": ".py",
   "mimetype": "text/x-python",
   "name": "python",
   "nbconvert_exporter": "python",
   "pygments_lexer": "ipython3",
   "version": "3.7.1"
  }
 },
 "nbformat": 4,
 "nbformat_minor": 2
}

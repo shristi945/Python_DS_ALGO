{
 "cells": [
  {
   "cell_type": "markdown",
   "metadata": {},
   "source": [
    "###### Array Intersection\n",
    "###### Given two random integer arrays, print their intersection. That is, print all the elements that are present in both the given arrays.\n",
    "###### Input arrays can contain duplicate elements.\n",
    "###### Sample Input 1 :\n",
    "###### 6\n",
    "###### 2 6 8 5 4 3\n",
    "###### 4\n",
    "###### 2 3 4 7 \n",
    "###### Sample Output 1 :\n",
    "###### 2 \n",
    "###### 4 \n",
    "###### 3\n",
    "###### Sample Input 2 :\n",
    "###### 4\n",
    "###### 2 6 1 2\n",
    "###### 5\n",
    "###### 1 2 3 4 2\n",
    "###### Sample Output 2 :\n",
    "###### 2 \n",
    "###### 2\n",
    "###### 1"
   ]
  },
  {
   "cell_type": "code",
   "execution_count": 26,
   "metadata": {},
   "outputs": [
    {
     "name": "stdout",
     "output_type": "stream",
     "text": [
      "5\n",
      "2 2 1 6 7\n",
      "6\n",
      "4 2 3 4 0 9\n",
      "2\n"
     ]
    }
   ],
   "source": [
    "\n",
    "def intersection(a1, a2):\n",
    "    intersection = []\n",
    "    \n",
    "    d1 = {}\n",
    "    for ele in a1:\n",
    "        if ele not in d1.keys():\n",
    "            d1[ele] = 1\n",
    "        else:\n",
    "            d1[ele] += 1\n",
    "\n",
    "    d2 = {}\n",
    "    for ele in a2:\n",
    "        if ele not in d2.keys():\n",
    "            d2[ele] = 1\n",
    "        else:\n",
    "            d2[ele] += 1\n",
    "\n",
    "\n",
    "    for key, value in d1.items():\n",
    "        if key in list(d2.keys()):\n",
    "            if value == d2[key]:\n",
    "                while(value):\n",
    "                    print(key)\n",
    "                    value -= 1\n",
    "            elif value > d2[key]:\n",
    "                diff = d2[key]\n",
    "                while(diff):\n",
    "                    intersection.append(key)\n",
    "                    diff -= 1\n",
    "            elif value<d2[key]:\n",
    "                diff = value\n",
    "                while(diff):\n",
    "                    intersection.append(key)\n",
    "                    diff -= 1\n",
    "                \n",
    "    \n",
    "    return intersection\n",
    "\n",
    "# Main\n",
    "n1=int(input())\n",
    "arr1=list(int(i) for i in input().strip().split(' '))\n",
    "n2=int(input())\n",
    "arr2=list(int(i) for i in input().strip().split(' '))\n",
    "result = intersection(arr1, arr2) \n",
    "for ele in result:\n",
    "    print(ele)\n"
   ]
  },
  {
   "cell_type": "code",
   "execution_count": null,
   "metadata": {},
   "outputs": [],
   "source": []
  }
 ],
 "metadata": {
  "kernelspec": {
   "display_name": "Python 3",
   "language": "python",
   "name": "python3"
  },
  "language_info": {
   "codemirror_mode": {
    "name": "ipython",
    "version": 3
   },
   "file_extension": ".py",
   "mimetype": "text/x-python",
   "name": "python",
   "nbconvert_exporter": "python",
   "pygments_lexer": "ipython3",
   "version": "3.7.1"
  }
 },
 "nbformat": 4,
 "nbformat_minor": 2
}

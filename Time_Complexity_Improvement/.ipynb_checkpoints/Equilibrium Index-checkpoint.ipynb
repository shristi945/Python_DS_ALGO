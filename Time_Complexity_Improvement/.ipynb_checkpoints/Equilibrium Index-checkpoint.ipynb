{
 "cells": [
  {
   "cell_type": "markdown",
   "metadata": {},
   "source": [
    "###### Find and return the equilibrium index of an array. Equilibrium index of an array is an index i such that the sum of elements at indices less than i is equal to the sum of elements at indices greater than i.\n",
    "###### Element at index i is not included in either part.\n",
    "###### If more than one equilibrium index is present, you need to return the first one. And return -1 if no equilibrium index is present."
   ]
  },
  {
   "cell_type": "code",
   "execution_count": 3,
   "metadata": {},
   "outputs": [
    {
     "name": "stdout",
     "output_type": "stream",
     "text": [
      "5\n",
      "4 5 -4 0 5\n",
      "3\n"
     ]
    }
   ],
   "source": [
    "def equi(arr):\n",
    "    rsum = 0\n",
    "    lsum = 0\n",
    "    if len(arr) == 0:\n",
    "        return 0\n",
    "    if len(arr) == 1:\n",
    "        return 1\n",
    "    \n",
    "    for i in range(len(arr)):\n",
    "        if i ==0:\n",
    "            rsum=sum(arr[1:])\n",
    "            lsum = 0\n",
    "            if lsum == rsum:\n",
    "                return i\n",
    "        else:\n",
    "            rsum = rsum - arr[i]\n",
    "            lsum = lsum + arr[i-1]\n",
    "            if rsum == lsum:\n",
    "                return i\n",
    "    return -1\n",
    "# Main\n",
    "n = int(input())\n",
    "arr = [int(i) for i in input().strip().split()]\n",
    "print(equi(arr))\n"
   ]
  },
  {
   "cell_type": "code",
   "execution_count": null,
   "metadata": {},
   "outputs": [],
   "source": []
  }
 ],
 "metadata": {
  "kernelspec": {
   "display_name": "Python 3",
   "language": "python",
   "name": "python3"
  },
  "language_info": {
   "codemirror_mode": {
    "name": "ipython",
    "version": 3
   },
   "file_extension": ".py",
   "mimetype": "text/x-python",
   "name": "python",
   "nbconvert_exporter": "python",
   "pygments_lexer": "ipython3",
   "version": "3.7.1"
  }
 },
 "nbformat": 4,
 "nbformat_minor": 2
}

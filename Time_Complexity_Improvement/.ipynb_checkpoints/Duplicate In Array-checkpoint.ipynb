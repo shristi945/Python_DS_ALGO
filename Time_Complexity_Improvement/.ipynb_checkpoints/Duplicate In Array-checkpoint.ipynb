{
 "cells": [
  {
   "cell_type": "markdown",
   "metadata": {},
   "source": [
    "###### Given an array of integers of size n which contains numbers from 0 to n - 2. Each number is present at least once. That is, if n = 5, numbers from 0 to 3 is present in the given array at least once and one number is present twice. You need to find and return that duplicate number present in the array.\n",
    "###### Assume, duplicate number is always present in the array."
   ]
  },
  {
   "cell_type": "code",
   "execution_count": 5,
   "metadata": {},
   "outputs": [
    {
     "name": "stdout",
     "output_type": "stream",
     "text": [
      "9\n",
      "0 7 2 5 4 7 1 3 6\n",
      "7\n"
     ]
    }
   ],
   "source": [
    "def MissingNumber(arr):\n",
    "    # Please add your code here\n",
    "    arr.sort()\n",
    "    for i in range(len(arr[:-1])):\n",
    "        if arr[i] == arr[i+1]:\n",
    "            return arr[i]\n",
    "\n",
    "# Main\n",
    "n=int(input())\n",
    "arr=list(int(i) for i in input().strip().split(' '))\n",
    "ans=MissingNumber(arr)\n",
    "print(ans)\n"
   ]
  },
  {
   "cell_type": "markdown",
   "metadata": {},
   "source": [
    "###### The above logic has a time complexity of 0(nlogn)+0(n) = 0(nlogn)"
   ]
  },
  {
   "cell_type": "code",
   "execution_count": 11,
   "metadata": {},
   "outputs": [
    {
     "name": "stdout",
     "output_type": "stream",
     "text": [
      "10\n",
      "8 1 6 2 3 3 4 0 5 7\n",
      "3\n"
     ]
    }
   ],
   "source": [
    "def MissingNumber(arr):\n",
    "    # Please add your code here\n",
    "    sum_arr = 0 \n",
    "    sum_ori = 0\n",
    "    for i in range(len(arr)):\n",
    "        sum_arr += arr[i]\n",
    "    for i in range(len(arr)-1):\n",
    "        sum_ori += i\n",
    "    return sum_arr-sum_ori\n",
    "\n",
    "# Main\n",
    "n=int(input())\n",
    "arr=list(int(i) for i in input().strip().split(' '))\n",
    "ans=MissingNumber(arr)\n",
    "print(ans)"
   ]
  },
  {
   "cell_type": "markdown",
   "metadata": {},
   "source": [
    "###### Above logic has a time complexity of 0(n), just iterating the whole array once  --- better logic "
   ]
  },
  {
   "cell_type": "code",
   "execution_count": null,
   "metadata": {},
   "outputs": [],
   "source": []
  }
 ],
 "metadata": {
  "kernelspec": {
   "display_name": "Python 3",
   "language": "python",
   "name": "python3"
  },
  "language_info": {
   "codemirror_mode": {
    "name": "ipython",
    "version": 3
   },
   "file_extension": ".py",
   "mimetype": "text/x-python",
   "name": "python",
   "nbconvert_exporter": "python",
   "pygments_lexer": "ipython3",
   "version": "3.7.1"
  }
 },
 "nbformat": 4,
 "nbformat_minor": 2
}

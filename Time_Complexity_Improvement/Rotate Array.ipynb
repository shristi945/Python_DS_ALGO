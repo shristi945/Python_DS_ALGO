{
 "cells": [
  {
<<<<<<< HEAD
   "cell_type": "code",
   "execution_count": 1,
   "metadata": {},
   "outputs": [],
   "source": [
    "a = [1,2,3,4,5,6,7]\n",
    "d = 3\n"
=======
   "cell_type": "markdown",
   "metadata": {},
   "source": [
    "###### Given a random integer array of size n, write a function that rotates the given array by d elements (towards left)\n",
    "###### Change in the input array itself. You don't need to return or print elements.\n",
    "###### Constraints :\n",
    "###### 1 <= N <= 1000\n",
    "###### 1 <= d <= N\n",
    "\n",
    "###### Sample Input :\n",
    "###### 7\n",
    "###### 1 2 3 4 5 6 7\n",
    "###### 2\n",
    "###### Sample Output :\n",
    "###### 3 4 5 6 7 1 2"
>>>>>>> 8c94c7cd00e21d82f03afd6c4680c46a21d6a5a8
   ]
  },
  {
   "cell_type": "code",
<<<<<<< HEAD
   "execution_count": 2,
   "metadata": {},
   "outputs": [
    {
     "data": {
      "text/plain": [
       "[7, 6, 5, 4, 3, 2, 1]"
      ]
     },
     "execution_count": 2,
     "metadata": {},
     "output_type": "execute_result"
    }
   ],
   "source": [
    "a[::-1]"
=======
   "execution_count": 1,
   "metadata": {},
   "outputs": [
    {
     "name": "stdout",
     "output_type": "stream",
     "text": [
      "194\n",
      "167 354 92 221 16 448 120 53 339 350 62 189 496 117 257 495 378 488 257 53 232 230 1 270 247 212 258 113 303 490 254 228 453 484 120 498 60 332 450 34 112 438 376 56 492 418 120 228 462 218 9 119 321 34 409 206 47 363 474 155 361 77 435 447 409 211 53 441 278 409 82 445 243 430 371 17 44 494 387 405 115 403 110 297 467 370 341 409 449 322 1 369 342 104 21 365 116 463 362 90 351 46 125 203 97 254 54 260 11 267 84 368 311 362 320 247 49 254 57 325 300 150 166 73 244 499 238 392 134 483 499 103 383 300 45 347 488 488 397 91 99 166 357 380 470 497 15 466 3 381 110 98 435 26 241 376 126 392 194 385 95 269 336 113 326 308 191 90 416 201 444 194 438 427 146 88 365 41 455 465 57 333 180 436 244 405 346 256 489 231 367 429 421 137\n",
      "235\n",
      "438 376 56 492 418 120 228 462 218 9 119 321 34 409 206 47 363 474 155 361 77 435 447 409 211 53 441 278 409 82 445 243 430 371 17 44 494 387 405 115 403 110 297 467 370 341 409 449 322 1 369 342 104 21 365 116 463 362 90 351 46 125 203 97 254 54 260 11 267 84 368 311 362 320 247 49 254 57 325 300 150 166 73 244 499 238 392 134 483 499 103 383 300 45 347 488 488 397 91 99 166 357 380 470 497 15 466 3 381 110 98 435 26 241 376 126 392 194 385 95 269 336 113 326 308 191 90 416 201 444 194 438 427 146 88 365 41 455 465 57 333 180 436 244 405 346 256 489 231 367 429 421 137 167 354 92 221 16 448 120 53 339 350 62 189 496 117 257 495 378 488 257 53 232 230 1 270 247 212 258 113 303 490 254 228 453 484 120 498 60 332 450 34 112\n"
     ]
    }
   ],
   "source": [
    "def reverse(arr):\n",
    "    arr = arr[::-1]\n",
    "    return arr\n",
    "\n",
    "def Rotate(arr, d):\n",
    "    if d > len(arr):\n",
    "        d = d-len(arr)\n",
    "        arr[:d] = reverse(arr[:d])\n",
    "        arr[d:] = reverse(arr[d:])\n",
    "        arr[:] = reverse(arr)\n",
    "\n",
    "    else:\n",
    "        arr[:d] = reverse(arr[:d])\n",
    "        arr[d:] = reverse(arr[d:])\n",
    "        arr[:] = reverse(arr)\n",
    "\n",
    "    \n",
    "    \n",
    "    \n",
    "# Main\n",
    "n=int(input())\n",
    "arr=list(int(i) for i in input().strip().split(' '))\n",
    "d=int(input())\n",
    "Rotate(arr, d)\n",
    "print(*arr)"
>>>>>>> 8c94c7cd00e21d82f03afd6c4680c46a21d6a5a8
   ]
  },
  {
   "cell_type": "code",
<<<<<<< HEAD
   "execution_count": 5,
=======
   "execution_count": 2,
>>>>>>> 8c94c7cd00e21d82f03afd6c4680c46a21d6a5a8
   "metadata": {},
   "outputs": [
    {
     "name": "stdout",
     "output_type": "stream",
     "text": [
      "7\n",
      "1 2 3 4 5 6 7\n",
      "2\n",
<<<<<<< HEAD
      "2 1 7 6 5 4 3\n"
=======
      "3 4 5 6 7 1 2\n"
>>>>>>> 8c94c7cd00e21d82f03afd6c4680c46a21d6a5a8
     ]
    }
   ],
   "source": [
<<<<<<< HEAD
    "def reverse(a):\n",
    "    return a[::-1]\n",
    "\n",
    "def Rotate(arr, d):\n",
    "    arr[:d] = reverse(arr[:d])\n",
    "    arr[d:] = reverse(arr[d:])\n",
    "    arr = reverse(arr)\n",
    "\n",
=======
    "def reverse(arr):\n",
    "    arr = arr[::-1]\n",
    "    return arr\n",
    "\n",
    "def Rotate(arr, d):\n",
    "    if d > len(arr):\n",
    "        d = d-len(arr)\n",
    "        arr[:d] = reverse(arr[:d])\n",
    "        arr[d:] = reverse(arr[d:])\n",
    "        arr[:] = reverse(arr)\n",
    "\n",
    "    else:\n",
    "        arr[:d] = reverse(arr[:d])\n",
    "        arr[d:] = reverse(arr[d:])\n",
    "        arr[:] = reverse(arr)\n",
    "\n",
    "    \n",
    "    \n",
    "    \n",
>>>>>>> 8c94c7cd00e21d82f03afd6c4680c46a21d6a5a8
    "# Main\n",
    "n=int(input())\n",
    "arr=list(int(i) for i in input().strip().split(' '))\n",
    "d=int(input())\n",
    "Rotate(arr, d)\n",
<<<<<<< HEAD
    "print(*arr)\n"
=======
    "print(*arr)"
>>>>>>> 8c94c7cd00e21d82f03afd6c4680c46a21d6a5a8
   ]
  },
  {
   "cell_type": "code",
   "execution_count": null,
   "metadata": {},
   "outputs": [],
   "source": []
  }
 ],
 "metadata": {
  "kernelspec": {
   "display_name": "Python 3",
   "language": "python",
   "name": "python3"
  },
  "language_info": {
   "codemirror_mode": {
    "name": "ipython",
    "version": 3
   },
   "file_extension": ".py",
   "mimetype": "text/x-python",
   "name": "python",
   "nbconvert_exporter": "python",
   "pygments_lexer": "ipython3",
   "version": "3.7.1"
  }
 },
 "nbformat": 4,
 "nbformat_minor": 2
}

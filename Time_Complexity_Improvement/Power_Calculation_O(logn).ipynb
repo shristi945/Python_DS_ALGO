{
 "cells": [
  {
   "cell_type": "markdown",
   "metadata": {},
   "source": [
    "###### Power Of A Number\n",
    "###### Send Feedback\n",
    "###### Write a program to find x to the power n (i.e. x^n). Take x and n from the user. You need to return the answer.\n",
    "###### Do this recursively."
   ]
  },
  {
   "cell_type": "code",
   "execution_count": null,
   "metadata": {},
   "outputs": [],
   "source": [
    "\n",
    "def calculation(x,n):\n",
    "    \n",
    "    if n==0:\n",
    "        return 1\n",
    "    \n",
    "    if x == 0:\n",
    "        return 0\n",
    "    \n",
    "    return x*calculation(x,n-1)\n",
    "    \n",
    "    \n",
    "def power(x, n):\n",
    "    # Please add your code here\n",
    "    a = calculation(x, n//2)\n",
    "    if n%2 == 0:\n",
    "        return a*a\n",
    "    else:\n",
    "        return a*a*x\n",
    "\n",
    "# Main\n",
    "from sys import setrecursionlimit\n",
    "setrecursionlimit(11000)\n",
    "x, n=list(int(i) for i in input().strip().split(' '))\n",
    "print(power(x, n))\n"
   ]
  }
 ],
 "metadata": {
  "kernelspec": {
   "display_name": "Python 3",
   "language": "python",
   "name": "python3"
  },
  "language_info": {
   "codemirror_mode": {
    "name": "ipython",
    "version": 3
   },
   "file_extension": ".py",
   "mimetype": "text/x-python",
   "name": "python",
   "nbconvert_exporter": "python",
   "pygments_lexer": "ipython3",
   "version": "3.7.1"
  }
 },
 "nbformat": 4,
 "nbformat_minor": 2
}

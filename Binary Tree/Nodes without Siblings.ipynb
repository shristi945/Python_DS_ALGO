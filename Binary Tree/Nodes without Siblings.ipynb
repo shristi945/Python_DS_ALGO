{
 "cells": [
  {
   "cell_type": "code",
   "execution_count": 11,
   "metadata": {},
   "outputs": [
    {
     "name": "stdout",
     "output_type": "stream",
     "text": [
      "1\n",
      "2\n",
      "3\n",
      "-1\n",
      "-1\n",
      "-1\n",
      "5\n",
      "-1\n",
      "9\n",
      "-1\n",
      "-1\n",
      "1:L 2,R 5\n",
      "2:L 3,\n",
      "3:\n",
      "5:R 9\n",
      "9:\n",
      "3\n",
      "9\n"
     ]
    }
   ],
   "source": [
    "class BinaryTree:\n",
    "    def __init__(self, data):\n",
    "        self.data = data\n",
    "        self.left = None\n",
    "        self.right = None\n",
    "    \n",
    "def printTree(root):\n",
    "    if root == None:\n",
    "        return \n",
    "    print(root.data,end=\":\")\n",
    "    if root.left != None:\n",
    "        print(\"L\",root.left.data, end = \",\")\n",
    "    if root.right != None:\n",
    "        print(\"R\",root.right.data, end = \"\")\n",
    "    print(\"\")\n",
    "    printTree(root.left)\n",
    "    printTree(root.right)\n",
    "    \n",
    "\n",
    "def TakeInput():\n",
    "    user = int(input())\n",
    "    if user == -1:\n",
    "        return None\n",
    "    root = BinaryTree(user)\n",
    "    leftTree = TakeInput()\n",
    "    rightTree = TakeInput()\n",
    "    root.left = leftTree\n",
    "    root.right= rightTree\n",
    "    return root\n",
    "\n",
    "def nodesWithoutSibling(root):\n",
    "    if root == None:\n",
    "        return \n",
    "    if root.left!=None and root.right==None:\n",
    "        print(root.left.data)\n",
    "    nodesWithoutSibling(root.left)\n",
    "    if root.left==None and root.right!=None:\n",
    "        print(root.right.data)\n",
    "    nodesWithoutSibling(root.right)\n",
    "    \n",
    "\n",
    "\n",
    "        \n",
    "#Main\n",
    "\n",
    "root = TakeInput()\n",
    "#calling Print fun\n",
    "printTree(root)\n",
    "nodesWithoutSibling(root)"
   ]
  },
  {
   "cell_type": "code",
   "execution_count": null,
   "metadata": {},
   "outputs": [],
   "source": []
  }
 ],
 "metadata": {
  "kernelspec": {
   "display_name": "Python 3",
   "language": "python",
   "name": "python3"
  },
  "language_info": {
   "codemirror_mode": {
    "name": "ipython",
    "version": 3
   },
   "file_extension": ".py",
   "mimetype": "text/x-python",
   "name": "python",
   "nbconvert_exporter": "python",
   "pygments_lexer": "ipython3",
   "version": "3.7.1"
  }
 },
 "nbformat": 4,
 "nbformat_minor": 2
}

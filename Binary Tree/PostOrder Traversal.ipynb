{
 "cells": [
  {
   "cell_type": "code",
   "execution_count": 4,
   "metadata": {},
   "outputs": [
    {
     "name": "stdout",
     "output_type": "stream",
     "text": [
      "1\n",
      "2\n",
      "3\n",
      "-1\n",
      "4\n",
      "-1\n",
      "-1\n",
      "6\n",
      "-1\n",
      "-1\n",
      "8\n",
      "-1\n",
      "-1\n",
      "1:L 2,R 8\n",
      "2:L 3,R 6\n",
      "3:R 4\n",
      "4:\n",
      "6:\n",
      "8:\n",
      "4 3 6 2 8 1 "
     ]
    }
   ],
   "source": [
    "import queue\n",
    "class BinaryTreeNode:\n",
    "    def __init__(self, data):\n",
    "        self.data = data\n",
    "        self.left = None\n",
    "        self.right = None\n",
    "\n",
    "def postOrder(root):\n",
    "    # Given a binary tree, print the postorder traversal of given tree.\n",
    "    # Post-order traversal is: LeftChild RightChild Root\n",
    "    #############################\n",
    "    # PLEASE ADD YOUR CODE HERE #\n",
    "    #############################\n",
    "    if root == None:\n",
    "        return\n",
    "    postOrder(root.left)\n",
    "    postOrder(root.right)\n",
    "    print(root.data, end = \" \")\n",
    "\n",
    "    \n",
    "def printTree(root):\n",
    "    if root == None:\n",
    "        return \n",
    "    print(root.data,end=\":\")\n",
    "    if root.left != None:\n",
    "        print(\"L\",root.left.data, end = \",\")\n",
    "    if root.right != None:\n",
    "        print(\"R\",root.right.data, end = \"\")\n",
    "    print(\"\")\n",
    "    printTree(root.left)\n",
    "    printTree(root.right)\n",
    "    \n",
    "    \n",
    "\n",
    "def TakeInput():\n",
    "    user = int(input())\n",
    "    if user == -1:\n",
    "        return None\n",
    "    root = BinaryTreeNode(user)\n",
    "    leftTree = TakeInput()\n",
    "    rightTree = TakeInput()\n",
    "    root.left = leftTree\n",
    "    root.right= rightTree\n",
    "    return root\n",
    " \n",
    "# Main\n",
    "root = TakeInput()\n",
    "printTree(root)\n",
    "postOrder(root)\n"
   ]
  },
  {
   "cell_type": "markdown",
   "metadata": {},
   "source": [
    "## "
   ]
  }
 ],
 "metadata": {
  "kernelspec": {
   "display_name": "Python 3",
   "language": "python",
   "name": "python3"
  },
  "language_info": {
   "codemirror_mode": {
    "name": "ipython",
    "version": 3
   },
   "file_extension": ".py",
   "mimetype": "text/x-python",
   "name": "python",
   "nbconvert_exporter": "python",
   "pygments_lexer": "ipython3",
   "version": "3.7.1"
  }
 },
 "nbformat": 4,
 "nbformat_minor": 2
}

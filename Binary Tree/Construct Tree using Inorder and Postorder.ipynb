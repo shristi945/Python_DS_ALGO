{
 "cells": [
  {
   "cell_type": "code",
   "execution_count": 19,
   "metadata": {},
   "outputs": [
    {
     "name": "stdout",
     "output_type": "stream",
     "text": [
      "8\n",
      "8 4 5 2 6 7 3 1\n",
      "4 8 2 5 1 6 3 7\n",
      "1:L 2,R 3\n",
      "2:L 4,R 5\n",
      "4:R 8\n",
      "8:\n",
      "5:\n",
      "3:L 6,R 7\n",
      "6:\n",
      "7:\n"
     ]
    }
   ],
   "source": [
    "import queue\n",
    "from bisect import bisect_left \n",
    "class BinaryTreeNode:\n",
    "    def __init__(self, data):\n",
    "        self.data = data\n",
    "        self.left = None\n",
    "        self.right = None\n",
    "        \n",
    "def search(arr, ei):\n",
    "    for i in range(len(arr)):\n",
    "        if arr[i] == ei:\n",
    "            return i \n",
    "\n",
    "def buildTreePreOrder(postorder, inorder):\n",
    "    if len(postorder)==0 or len(inorder)==0:\n",
    "        return \n",
    "    rootData = postorder[-1]\n",
    "    root = BinaryTreeNode(rootData)\n",
    "    i = search(inorder, root.data)\n",
    "    leftinorder = inorder[:i]\n",
    "    rightinorder = inorder[i+1:]\n",
    "    lenLeft = len(leftinorder)\n",
    "    leftpost = postorder[:lenLeft]\n",
    "    rightpost = postorder[lenLeft:-1]\n",
    "    lst = buildTreePreOrder(leftpost, leftinorder)\n",
    "    rst = buildTreePreOrder(rightpost, rightinorder)\n",
    "    \n",
    "    root.left= lst\n",
    "    root.right = rst\n",
    "    return root\n",
    "    \n",
    "    \n",
    "\n",
    "def printTree(root):\n",
    "    if root == None:\n",
    "        return \n",
    "    print(root.data,end=\":\")\n",
    "    if root.left != None:\n",
    "        print(\"L\",root.left.data, end = \",\")\n",
    "    if root.right != None:\n",
    "        print(\"R\",root.right.data, end = \"\")\n",
    "    print(\"\")\n",
    "    printTree(root.left)\n",
    "    printTree(root.right)\n",
    "\n",
    "# Main\n",
    "n=int(input())\n",
    "postorder = [int(i) for i in input().strip().split()]\n",
    "inorder = [int(i) for i in input().strip().split()]\n",
    "root= buildTreePreOrder(postorder, inorder)\n",
    "printTree(root)\n",
    "\n"
   ]
  },
  {
   "cell_type": "code",
   "execution_count": null,
   "metadata": {},
   "outputs": [],
   "source": [
    "8 4 5 2 6 7 3 1\n",
    "4 8 2 5 1 6 3 7"
   ]
  },
  {
   "cell_type": "code",
   "execution_count": 5,
   "metadata": {},
   "outputs": [],
   "source": [
    "arr = [8, 4, 5, 2, 6, 7, 3, 1]"
   ]
  },
  {
   "cell_type": "code",
   "execution_count": 6,
   "metadata": {},
   "outputs": [
    {
     "data": {
      "text/plain": [
       "1"
      ]
     },
     "execution_count": 6,
     "metadata": {},
     "output_type": "execute_result"
    }
   ],
   "source": [
    "arr[-1]"
   ]
  },
  {
   "cell_type": "code",
   "execution_count": null,
   "metadata": {},
   "outputs": [],
   "source": []
  }
 ],
 "metadata": {
  "kernelspec": {
   "display_name": "Python 3",
   "language": "python",
   "name": "python3"
  },
  "language_info": {
   "codemirror_mode": {
    "name": "ipython",
    "version": 3
   },
   "file_extension": ".py",
   "mimetype": "text/x-python",
   "name": "python",
   "nbconvert_exporter": "python",
   "pygments_lexer": "ipython3",
   "version": "3.7.1"
  }
 },
 "nbformat": 4,
 "nbformat_minor": 2
}

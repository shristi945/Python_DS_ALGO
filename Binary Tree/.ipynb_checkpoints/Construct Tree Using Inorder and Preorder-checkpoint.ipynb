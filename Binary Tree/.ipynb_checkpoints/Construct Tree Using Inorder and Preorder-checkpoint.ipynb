{
 "cells": [
  {
   "cell_type": "code",
   "execution_count": 32,
   "metadata": {},
   "outputs": [
    {
     "name": "stdout",
     "output_type": "stream",
     "text": [
      "7\n",
      "1 2 3 4 5 6 7 \n",
      "2 1 4 3 6 5 7\n",
      "1\n",
      "None\n"
     ]
    }
   ],
   "source": [
    "import queue\n",
    "from bisect import bisect_left \n",
    "class BinaryTreeNode:\n",
    "    def __init__(self, data):\n",
    "        self.data = data\n",
    "        self.left = None\n",
    "        self.right = None\n",
    "        \n",
    "def binary_search(arr, x, si, ei):\n",
    "    if si>ei:\n",
    "        return -1\n",
    "    mid = (si+ei)//2\n",
    "    if arr[mid] > x:\n",
    "        return binary_search(arr, x, si, mid-1)\n",
    "    elif arr[mid]<x:\n",
    "        return binary_search(arr, x, mid+1, ei)\n",
    "    elif arr[mid] == x:\n",
    "        return mid\n",
    "\n",
    "def buildTreePreOrder(preorder, inorder):\n",
    "    if len(preorder)==0 or len(inorder)==0:\n",
    "        return \n",
    "    \n",
    "    root = BinaryTreeNode(preorder[0])\n",
    "    i = bsearch(inorder, root.data, 0, len(inorder)-1)\n",
    "    print(root.data)\n",
    "    return i\n",
    "#     leftInorder = inorder[:i]\n",
    "#     rightInorder = inorder[i+1:]\n",
    "#     lenLeftPreorder = len(leftInorder)\n",
    "#     leftPreorder = preorder[1:lenLeftPreorder+1]\n",
    "#     rightPreorder = preorder[lenLeftPreorder+1:]\n",
    "    \n",
    "#     lst = buildTreePreOrder(leftPreorder, leftInorder)\n",
    "#     rst = buildTreePreOrder(rightPreorder, rightInorder)\n",
    "    \n",
    "#     root.left = lst\n",
    "#     root.right = rst\n",
    "    \n",
    "#     return root\n",
    "    \n",
    "\n",
    "def printTree(root):\n",
    "    if root == None:\n",
    "        return \n",
    "    print(root.data,end=\":\")\n",
    "    if root.left != None:\n",
    "        print(\"L\",root.left.data, end = \",\")\n",
    "    if root.right != None:\n",
    "        print(\"R\",root.right.data, end = \"\")\n",
    "    print(\"\")\n",
    "    printTree(root.left)\n",
    "    printTree(root.right)\n",
    "\n",
    "# Main\n",
    "n=int(input())\n",
    "preorder = [int(i) for i in input().strip().split()]\n",
    "inorder = [int(i) for i in input().strip().split()]\n",
    "root = buildTreePreOrder(preorder, inorder)\n",
    "# printTree(root)\n",
    "print(root)\n"
   ]
  },
  {
   "cell_type": "code",
   "execution_count": null,
   "metadata": {},
   "outputs": [],
   "source": [
    "1 2 4 5 3 6 7\n",
    "4 2 5 1 6 3 7"
   ]
  },
  {
   "cell_type": "code",
   "execution_count": 3,
   "metadata": {},
   "outputs": [
    {
     "name": "stdout",
     "output_type": "stream",
     "text": [
      "3\n"
     ]
    }
   ],
   "source": [
    "from bisect import bisect_left \n",
    "l = [5,7,3,9]\n",
    "i = bisect_left(l,9) \n",
    "if i != len(l) and l[i] == 9:\n",
    "    print(i)"
   ]
  },
  {
   "cell_type": "code",
   "execution_count": 19,
   "metadata": {},
   "outputs": [
    {
     "data": {
      "text/plain": [
       "3"
      ]
     },
     "execution_count": 19,
     "metadata": {},
     "output_type": "execute_result"
    }
   ],
   "source": [
    "7//2"
   ]
  },
  {
   "cell_type": "code",
   "execution_count": null,
   "metadata": {},
   "outputs": [],
   "source": []
  }
 ],
 "metadata": {
  "kernelspec": {
   "display_name": "Python 3",
   "language": "python",
   "name": "python3"
  },
  "language_info": {
   "codemirror_mode": {
    "name": "ipython",
    "version": 3
   },
   "file_extension": ".py",
   "mimetype": "text/x-python",
   "name": "python",
   "nbconvert_exporter": "python",
   "pygments_lexer": "ipython3",
   "version": "3.7.1"
  }
 },
 "nbformat": 4,
 "nbformat_minor": 2
}

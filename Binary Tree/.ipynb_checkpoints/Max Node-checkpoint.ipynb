{
 "cells": [
  {
   "cell_type": "code",
   "execution_count": 2,
   "metadata": {},
   "outputs": [
    {
     "name": "stdout",
     "output_type": "stream",
     "text": [
      "1\n",
      "2\n",
      "3\n",
      "-1\n",
      "-1\n",
      "4\n",
      "-1\n",
      "-1\n",
      "6\n",
      "-1\n",
      "-1\n",
      "1:L 2,R 6\n",
      "2:L 3,R 4\n",
      "3:\n",
      "4:\n",
      "6:\n",
      "6\n"
     ]
    }
   ],
   "source": [
    "class BinaryTree:\n",
    "    def __init__(self, data):\n",
    "        self.data = data\n",
    "        self.left = None\n",
    "        self.right = None\n",
    "    \n",
    "def printTree(root):\n",
    "    if root == None:\n",
    "        return \n",
    "    print(root.data,end=\":\")\n",
    "    if root.left != None:\n",
    "        print(\"L\",root.left.data, end = \",\")\n",
    "    if root.right != None:\n",
    "        print(\"R\",root.right.data, end = \"\")\n",
    "    print(\"\")\n",
    "    printTree(root.left)\n",
    "    printTree(root.right)\n",
    "    \n",
    "\n",
    "def TakeInput():\n",
    "    user = int(input())\n",
    "    if user == -1:\n",
    "        return None\n",
    "    root = BinaryTree(user)\n",
    "    leftTree = TakeInput()\n",
    "    rightTree = TakeInput()\n",
    "    root.left = leftTree\n",
    "    root.right= rightTree\n",
    "    return root\n",
    "\n",
    "def Max_Node(root):\n",
    "    if root == None:\n",
    "        return -1\n",
    "    leftTree = Max_Node(root.left)\n",
    "    rightTree = Max_Node(root.right)\n",
    "    return max(root.data, leftTree, rightTree)\n",
    "        \n",
    "        \n",
    "#Main\n",
    "\n",
    "root = TakeInput()\n",
    "#calling Print fun\n",
    "printTree(root)\n",
    "print(Max_Node(root))"
   ]
  },
  {
   "cell_type": "code",
   "execution_count": null,
   "metadata": {},
   "outputs": [],
   "source": []
  }
 ],
 "metadata": {
  "kernelspec": {
   "display_name": "Python 3",
   "language": "python",
   "name": "python3"
  },
  "language_info": {
   "codemirror_mode": {
    "name": "ipython",
    "version": 3
   },
   "file_extension": ".py",
   "mimetype": "text/x-python",
   "name": "python",
   "nbconvert_exporter": "python",
   "pygments_lexer": "ipython3",
   "version": "3.7.1"
  }
 },
 "nbformat": 4,
 "nbformat_minor": 2
}

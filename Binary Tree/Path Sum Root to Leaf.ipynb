{
 "cells": [
  {
   "cell_type": "markdown",
   "metadata": {},
   "source": [
    "###### Given a binary tree and a number k, print out all root to leaf paths where the sum of all nodes value is same as the given number k"
   ]
  },
  {
   "cell_type": "code",
   "execution_count": 7,
   "metadata": {},
   "outputs": [
    {
     "name": "stdout",
     "output_type": "stream",
     "text": [
      "Enter K:\n",
      "12\n",
      "6\n",
      "3\n",
      "1\n",
      "2\n",
      "-1\n",
      "-1\n",
      "-1\n",
      "5\n",
      "-1\n",
      "-1\n",
      "2\n",
      "4\n",
      "1\n",
      "1\n",
      "-1\n",
      "-1\n",
      "-1\n",
      "-1\n",
      "1\n",
      "3\n",
      "-1\n",
      "-1\n",
      "8\n",
      "-1\n",
      "-1\n",
      "-1\n",
      "HI\n",
      "6 3 1 2 \n",
      "HI\n",
      "1 3 \n"
     ]
    }
   ],
   "source": [
    "class BinaryTree:\n",
    "    def __init__(self, data):\n",
    "        self.data = data\n",
    "        self.left = None\n",
    "        self.right = None\n",
    "\n",
    "\n",
    "        \n",
    "        \n",
    "def printTree(root):\n",
    "    if root == None:\n",
    "        return \n",
    "    print(root.data,end=\":\")\n",
    "    if root.left != None:\n",
    "        print(\"L\",root.left.data, end = \",\")\n",
    "    if root.right != None:\n",
    "        print(\"R\",root.right.data, end = \"\")\n",
    "    print(\"\")\n",
    "    printTree(root.left)\n",
    "    printTree(root.right)\n",
    "    \n",
    "\n",
    "def TakeInput():\n",
    "    user = int(input())\n",
    "    if user == -1:\n",
    "        return None\n",
    "    root = BinaryTree(user)\n",
    "    leftTree = TakeInput()\n",
    "    rightTree = TakeInput()\n",
    "    root.left = leftTree\n",
    "    root.right= rightTree\n",
    "    return root\n",
    "    \n",
    "def rootToLeafPathsSumToK(root, k, lst):\n",
    "    if root == None:\n",
    "        return\n",
    "    if root.data == k and (root.left!=None and root.right!=None):\n",
    "        return \n",
    "    \n",
    "    if root.left == None and root.right == None:\n",
    "        if root.data == k:\n",
    "            print(\"HI\")\n",
    "            lst.append(root.data)\n",
    "            for ele in lst:\n",
    "                print(ele, end =\" \")\n",
    "            print(\"\")\n",
    "            return\n",
    "        else:\n",
    "            while len(lst)!=0:\n",
    "                data = lst.pop()\n",
    "                k = k+data\n",
    "            return\n",
    "    \n",
    "    else:\n",
    "        k = k-root.data\n",
    "        lst.append(root.data)\n",
    "        rootToLeafPathsSumToK(root.left, k, lst)\n",
    "        rootToLeafPathsSumToK(root.right, k, lst)\n",
    "    \n",
    "\n",
    "        \n",
    "        \n",
    "#Main\n",
    "print(\"Enter K:\")\n",
    "k=int(input())\n",
    "root = TakeInput()\n",
    "x = int(input())\n",
    "#calling Print fun\n",
    "rootToLeafPathsSumToK(root, k, [])\n",
    "# printTree(root)\n",
    "\n"
   ]
  },
  {
   "cell_type": "markdown",
   "metadata": {},
   "source": [
    "# "
   ]
  },
  {
   "cell_type": "code",
   "execution_count": null,
   "metadata": {},
   "outputs": [],
   "source": []
  }
 ],
 "metadata": {
  "kernelspec": {
   "display_name": "Python 3",
   "language": "python",
   "name": "python3"
  },
  "language_info": {
   "codemirror_mode": {
    "name": "ipython",
    "version": 3
   },
   "file_extension": ".py",
   "mimetype": "text/x-python",
   "name": "python",
   "nbconvert_exporter": "python",
   "pygments_lexer": "ipython3",
   "version": "3.7.1"
  }
 },
 "nbformat": 4,
 "nbformat_minor": 2
}

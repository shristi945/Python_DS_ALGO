{
 "cells": [
  {
   "cell_type": "code",
   "execution_count": 10,
   "metadata": {},
   "outputs": [
    {
     "name": "stdout",
     "output_type": "stream",
     "text": [
      "8\n",
      "5\n",
      "2\n",
      "-1\n",
      "-1\n",
      "6\n",
      "-1\n",
      "7\n",
      "-1\n",
      "-1\n",
      "10\n",
      "-1\n",
      "-1\n",
      "8:L 8,R 10\n",
      "8:L 5,\n",
      "5:L 5,R 6\n",
      "5:L 2,\n",
      "2:L 2,\n",
      "2:\n",
      "6:L 6,R 7\n",
      "6:\n",
      "7:L 7,\n",
      "7:\n",
      "10:L 10,\n",
      "10:\n"
     ]
    }
   ],
   "source": [
    "import queue\n",
    "class BinaryTreeNode:\n",
    "    def __init__(self, data):\n",
    "        self.data = data\n",
    "        self.left = None\n",
    "        self.right = None\n",
    "\n",
    "def insertDuplicateNode(root):\n",
    "    # Given a BST with N number of nodes, for each node create a new duplicate\n",
    "    # node, and insert that duplicate as left child of the original node.\n",
    "    if root == None:\n",
    "        return \n",
    "    temp = BinaryTreeNode(root.data)\n",
    "    leftNode = root.left\n",
    "    root.left = temp\n",
    "    temp.left = leftNode\n",
    "    insertDuplicateNode(temp.left)\n",
    "    insertDuplicateNode(root.right)\n",
    "    return root\n",
    "    \n",
    "def printTree(root):\n",
    "    if root == None:\n",
    "        return \n",
    "    print(root.data,end=\":\")\n",
    "    if root.left != None:\n",
    "        print(\"L\",root.left.data, end = \",\")\n",
    "    if root.right != None:\n",
    "        print(\"R\",root.right.data, end = \"\")\n",
    "    print(\"\")\n",
    "    printTree(root.left)\n",
    "    printTree(root.right)\n",
    "    \n",
    "\n",
    "def TakeInput():\n",
    "    user = int(input())\n",
    "    if user == -1:\n",
    "        return None\n",
    "    root = BinaryTreeNode(user)\n",
    "    leftTree = TakeInput()\n",
    "    rightTree = TakeInput()\n",
    "    root.left = leftTree\n",
    "    root.right= rightTree\n",
    "    return root\n",
    "\n",
    "# Main\n",
    "\n",
    "root = TakeInput()\n",
    "root = insertDuplicateNode(root)\n",
    "printTree(root)\n"
   ]
  },
  {
   "cell_type": "code",
   "execution_count": null,
   "metadata": {},
   "outputs": [],
   "source": []
  }
 ],
 "metadata": {
  "kernelspec": {
   "display_name": "Python 3",
   "language": "python",
   "name": "python3"
  },
  "language_info": {
   "codemirror_mode": {
    "name": "ipython",
    "version": 3
   },
   "file_extension": ".py",
   "mimetype": "text/x-python",
   "name": "python",
   "nbconvert_exporter": "python",
   "pygments_lexer": "ipython3",
   "version": "3.7.1"
  }
 },
 "nbformat": 4,
 "nbformat_minor": 2
}

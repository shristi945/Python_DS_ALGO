{
 "cells": [
  {
   "cell_type": "markdown",
   "metadata": {},
   "source": [
    "###### Multiplication (Recursive)\n",
    "###### Given two integers m & n, calculate and return their multiplication using recursion. You can only use subtraction and addition for your calculation. No other operators are allowed.\n",
    "###### Input format : m and n (in different lines)"
   ]
  },
  {
   "cell_type": "code",
   "execution_count": 1,
   "metadata": {},
   "outputs": [
    {
     "name": "stdout",
     "output_type": "stream",
     "text": [
      "3\n",
      "5\n",
      "15\n"
     ]
    }
   ],
   "source": [
    "## Read input as specified in the question.\n",
    "## Print output as specified in the question.\n",
    "a = int(input())\n",
    "b = int(input())\n",
    "def mul(a,b):\n",
    "\n",
    "    if b == 0 or a == 0:\n",
    "        return 0\n",
    "\n",
    "    if a<0 and b<0:\n",
    "        a = -a\n",
    "        b = -b\n",
    "        return a+mul(a,b-1)\n",
    "    if a<0:\n",
    "        return a+mul(a, b-1)\n",
    "    elif b<0:\n",
    "        return b+mul(a-1, b)\n",
    "    elif a>0 and b>0:\n",
    "        return a+mul(a,b-1)\n",
    "\n",
    "from sys import setrecursionlimit\n",
    "setrecursionlimit(11000)\n",
    "\n",
    "print(mul(a,b))"
   ]
  },
  {
   "cell_type": "code",
   "execution_count": null,
   "metadata": {},
   "outputs": [],
   "source": []
  }
 ],
 "metadata": {
  "kernelspec": {
   "display_name": "Python 3",
   "language": "python",
   "name": "python3"
  },
  "language_info": {
   "codemirror_mode": {
    "name": "ipython",
    "version": 3
   },
   "file_extension": ".py",
   "mimetype": "text/x-python",
   "name": "python",
   "nbconvert_exporter": "python",
   "pygments_lexer": "ipython3",
   "version": "3.7.1"
  }
 },
 "nbformat": 4,
 "nbformat_minor": 2
}

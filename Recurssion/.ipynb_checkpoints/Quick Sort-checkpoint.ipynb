{
 "cells": [
  {
   "cell_type": "markdown",
   "metadata": {},
   "source": [
    "###### Quick Sort Code\n",
    "###### Send Feedback\n",
    "###### Sort an array A using Quick Sort.\n",
    "###### Change in the input array itself. So no need to return or print anything."
   ]
  },
  {
   "cell_type": "code",
   "execution_count": 1,
   "metadata": {},
   "outputs": [
    {
     "name": "stdout",
     "output_type": "stream",
     "text": [
      "6\n",
      "2 6 8 5 4 3\n",
      "2 3 4 5 6 8\n"
     ]
    }
   ],
   "source": [
    "def partition(a, si, ei):\n",
    "    count = 0 \n",
    "    p = a[si]\n",
    "    for i in a[si+1:ei+1]:\n",
    "        if i<p:\n",
    "            count += 1\n",
    "    index_i = si+count\n",
    "    a[si], a[index_i] = a[index_i], a[si]\n",
    "    \n",
    "    i = si\n",
    "    j = ei\n",
    "    \n",
    "    while i<j:\n",
    "        if a[i]<p:\n",
    "            i += 1\n",
    "        elif a[j]>=p:\n",
    "            j -= 1\n",
    "        else:\n",
    "            a[i], a[j] = a[j], a[i]\n",
    "            i += 1\n",
    "            j -= 1\n",
    "            \n",
    "                \n",
    "    return index_i\n",
    "\n",
    "\n",
    "\n",
    "\n",
    "def quickSort(a, si, ei):\n",
    "    # Please add your code here\n",
    "    if si>=ei:\n",
    "        return\n",
    "    i = partition(a, si, ei)\n",
    "    quickSort(a, si, i-1)\n",
    "    quickSort(a, i+1, ei)\n",
    "\n",
    "n=int(input())\n",
    "arr=list(int(i) for i in input().strip().split(' '))\n",
    "quickSort(arr, 0, n-1)\n",
    "print(*arr)\n"
   ]
  },
  {
   "cell_type": "code",
   "execution_count": null,
   "metadata": {},
   "outputs": [],
   "source": []
  }
 ],
 "metadata": {
  "kernelspec": {
   "display_name": "Python 3",
   "language": "python",
   "name": "python3"
  },
  "language_info": {
   "codemirror_mode": {
    "name": "ipython",
    "version": 3
   },
   "file_extension": ".py",
   "mimetype": "text/x-python",
   "name": "python",
   "nbconvert_exporter": "python",
   "pygments_lexer": "ipython3",
   "version": "3.7.1"
  }
 },
 "nbformat": 4,
 "nbformat_minor": 2
}

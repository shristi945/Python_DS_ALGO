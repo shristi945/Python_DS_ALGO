{
 "cells": [
  {
   "cell_type": "markdown",
   "metadata": {},
   "source": [
    "###### Power\n",
    "###### Write a program to find x to the power n (i.e. x^n). Take x and n from the user. You need to print the answer.\n",
    "###### Input format :\n",
    "###### Two integers x and n (separated by space)\n",
    "###### Output Format :\n",
    "###### x^n (i.e. x raise to the power n)\n",
    "###### Sample Input 1 :\n",
    "###### 3 4\n",
    "###### Sample Output 1 :\n",
    "###### 81\n",
    "###### Sample Input 2 :\n",
    "###### 2 5\n",
    "###### Sample Output 2 :\n",
    "###### 32"
   ]
  },
  {
   "cell_type": "code",
   "execution_count": 2,
   "metadata": {},
   "outputs": [
    {
     "name": "stdout",
     "output_type": "stream",
     "text": [
      "3 4\n",
      "81\n"
     ]
    }
   ],
   "source": [
    "\n",
    "x, n = map(int, input().split())\n",
    "\n",
    "\n",
    "def power (x,n):\n",
    "    \n",
    "    if n == 0:\n",
    "        return 1\n",
    "    sample_output = pow(x,(n-1))\n",
    "    return x * sample_output\n",
    "\n",
    "print(power(x,n))"
   ]
  },
  {
   "cell_type": "markdown",
   "metadata": {},
   "source": [
    "###### Sum of Array\n",
    "###### Given an array of length N, you need to find and return the sum of all elements of the array. Do this recursively.\n",
    "###### Sample Input :\n",
    "###### 3\n",
    "###### 9 8 9\n",
    "###### Sample Output :\n",
    "###### 26"
   ]
  },
  {
   "cell_type": "code",
   "execution_count": 3,
   "metadata": {},
   "outputs": [
    {
     "name": "stdout",
     "output_type": "stream",
     "text": [
      "3\n",
      "9 8 9\n",
      "26\n"
     ]
    }
   ],
   "source": [
    "def sumArray(arr):\n",
    "    # Please add your code here\n",
    "    if len(arr) == 0:\n",
    "        return 0\n",
    "    \n",
    "    return arr[0] + sumArray(arr[1:])\n",
    "\n",
    "    \n",
    "    \n",
    "\n",
    "# Main\n",
    "from sys import setrecursionlimit\n",
    "setrecursionlimit(11000)\n",
    "n=int(input())\n",
    "arr=list(int(i) for i in input().strip().split(' '))\n",
    "print(sumArray(arr))"
   ]
  },
  {
   "cell_type": "markdown",
   "metadata": {},
   "source": [
    "###### Check Number in Array\n",
    "###### Given an array of length N and an integer x, you need to find if x is present in the array or not. Return true or false.\n",
    "###### Do this recursively.\n",
    "###### Sample Input :\n",
    "###### 3\n",
    "###### 9 8 10\n",
    "###### 8\n",
    "###### Sample Output :\n",
    "###### true"
   ]
  },
  {
   "cell_type": "code",
   "execution_count": 4,
   "metadata": {},
   "outputs": [
    {
     "name": "stdout",
     "output_type": "stream",
     "text": [
      "3\n",
      "9 8 10\n",
      "8\n",
      "true\n"
     ]
    }
   ],
   "source": [
    "def checkNumber(arr, x):\n",
    "    # Please add your code here\n",
    "    if len(arr) == 0:\n",
    "        return False\n",
    "    \n",
    "    if arr[0] == x and len(arr)>0:\n",
    "        return True\n",
    "    return checkNumber(arr[1:], x)\n",
    "\n",
    "# Main\n",
    "from sys import setrecursionlimit\n",
    "setrecursionlimit(11000)\n",
    "n=int(input())\n",
    "arr=list(int(i) for i in input().strip().split(' '))\n",
    "x=int(input())\n",
    "if checkNumber(arr, x):\n",
    "    print('true')\n",
    "else:\n",
    "    print('false')\n"
   ]
  },
  {
   "cell_type": "markdown",
   "metadata": {},
   "source": [
    "###### First Index of Number - Question\n",
    "###### Given an array of length N and an integer x, you need to find and return the first index of integer x present in the array. Return -1 if it is not present in the array.\n",
    "###### First index means, the index of first occurrence of x in the input array.\n",
    "###### Do this recursively. Indexing in the array starts from 0.\n",
    "###### Sample Input :\n",
    "###### 4\n",
    "###### 9 8 10 8\n",
    "###### 8\n",
    "###### Sample Output :\n",
    "###### 1"
   ]
  },
  {
   "cell_type": "code",
   "execution_count": 6,
   "metadata": {},
   "outputs": [
    {
     "name": "stdout",
     "output_type": "stream",
     "text": [
      "4\n",
      "9 8 10 8\n",
      "8\n",
      "1\n"
     ]
    }
   ],
   "source": [
    "count = 0\n",
    "def firstIndex(arr, x, si):\n",
    "    # Please add your code here\n",
    "    global count\n",
    "    l = len(arr)\n",
    "    if len(arr) == si:\n",
    "        return -1\n",
    "    if arr[si] == x:\n",
    "        return count\n",
    "    else:\n",
    "        count += 1\n",
    "        return firstIndex(arr, x, si+1)\n",
    "\n",
    "# Main\n",
    "from sys import setrecursionlimit\n",
    "setrecursionlimit(11000)\n",
    "n=int(input())\n",
    "arr=list(int(i) for i in input().strip().split(' '))\n",
    "x=int(input())\n",
    "print(firstIndex(arr, x, 0))\n"
   ]
  },
  {
   "cell_type": "code",
   "execution_count": null,
   "metadata": {},
   "outputs": [],
   "source": []
  }
 ],
 "metadata": {
  "kernelspec": {
   "display_name": "Python 3",
   "language": "python",
   "name": "python3"
  },
  "language_info": {
   "codemirror_mode": {
    "name": "ipython",
    "version": 3
   },
   "file_extension": ".py",
   "mimetype": "text/x-python",
   "name": "python",
   "nbconvert_exporter": "python",
   "pygments_lexer": "ipython3",
   "version": "3.7.1"
  }
 },
 "nbformat": 4,
 "nbformat_minor": 2
}

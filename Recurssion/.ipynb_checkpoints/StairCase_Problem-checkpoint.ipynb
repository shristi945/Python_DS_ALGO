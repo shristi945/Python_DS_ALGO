{
 "cells": [
  {
   "cell_type": "markdown",
   "metadata": {},
   "source": [
    "###### Staircase\n",
    "###### A child is running up a staircase with N steps, and can hop either 1 step, 2 steps or 3 steps at a time. Implement a method to count how many possible ways the child can run up to the stairs. You need to return number of possible ways W."
   ]
  },
  {
   "cell_type": "code",
   "execution_count": 2,
   "metadata": {},
   "outputs": [
    {
     "name": "stdout",
     "output_type": "stream",
     "text": [
      "4\n",
      "7\n"
     ]
    }
   ],
   "source": [
    "\n",
    "import sys\n",
    "sys.setrecursionlimit(10 ** 8)\n",
    "n = int(input())\n",
    "def sc(n):\n",
    "    if n == 0:\n",
    "        return 1\n",
    "    if n<3:\n",
    "        return n\n",
    "    if n == 3:\n",
    "        return 4\n",
    "    \n",
    "    if n>=3:\n",
    "        return sc(n-1)+sc(n-2)+sc(n-3)\n",
    "    \n",
    "    if n<3 and n>=2:\n",
    "        return sc(n-1)+sc(n-2)\n",
    "    \n",
    "    if n<2 and n>=1:\n",
    "        return sc(n-1)\n",
    "    \n",
    "print(sc(n))\n",
    "    \n",
    "    "
   ]
  },
  {
   "cell_type": "code",
   "execution_count": null,
   "metadata": {},
   "outputs": [],
   "source": []
  }
 ],
 "metadata": {
  "kernelspec": {
   "display_name": "Python 3",
   "language": "python",
   "name": "python3"
  },
  "language_info": {
   "codemirror_mode": {
    "name": "ipython",
    "version": 3
   },
   "file_extension": ".py",
   "mimetype": "text/x-python",
   "name": "python",
   "nbconvert_exporter": "python",
   "pygments_lexer": "ipython3",
   "version": "3.7.1"
  }
 },
 "nbformat": 4,
 "nbformat_minor": 2
}

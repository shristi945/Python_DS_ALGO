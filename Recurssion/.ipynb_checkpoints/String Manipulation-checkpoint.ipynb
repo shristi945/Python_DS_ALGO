{
 "cells": [
  {
   "cell_type": "markdown",
   "metadata": {},
   "source": [
    "#### Remove Duplicates Recursively\n",
    "###### Given a string S, remove consecutive duplicates from it recursively.\n",
    "###### Sample Input :\n",
    "###### aabccba\n",
    "###### Sample Output :\n",
    "###### abcba\n",
    "###### Sample Input :\n",
    "###### aabccba\n",
    "###### Sample Output :\n",
    "###### abcba"
   ]
  },
  {
   "cell_type": "code",
   "execution_count": 1,
   "metadata": {},
   "outputs": [
    {
     "name": "stdout",
     "output_type": "stream",
     "text": [
      "aabccba\n",
      "abcba\n"
     ]
    }
   ],
   "source": [
    "# Problem ID 91, removeConsecutiveDuplicates\n",
    "def removeConsecutiveDuplicates(string):\n",
    "    # Please add your code here\n",
    "    if len(string) == 1:\n",
    "        return string\n",
    "    smallOutput = removeConsecutiveDuplicates(string[1:])\n",
    "    if string[0] == string[1]:\n",
    "        return smallOutput\n",
    "    else:\n",
    "        return string[0]+ smallOutput\n",
    "\n",
    "# Main\n",
    "string = input().strip()\n",
    "print(removeConsecutiveDuplicates(string))\n"
   ]
  },
  {
   "cell_type": "markdown",
   "metadata": {},
   "source": [
    "###### Remove X\n",
    "###### Given a string, compute recursively a new string where all 'x' chars have been removed.\n",
    "###### Sample Input 1 :\n",
    "###### xaxb\n",
    "###### Sample Output 1:\n",
    "###### ab"
   ]
  },
  {
   "cell_type": "code",
   "execution_count": 2,
   "metadata": {},
   "outputs": [
    {
     "name": "stdout",
     "output_type": "stream",
     "text": [
      "xaxb\n",
      "ab\n"
     ]
    }
   ],
   "source": [
    "def removeX(string): \n",
    "    if len(string) == 0:\n",
    "        return string\n",
    "    smallerOutput = removeX(string[1:])\n",
    "    \n",
    "    if string[0] == 'x':\n",
    "        return \"\"+smallerOutput\n",
    "    else:\n",
    "        return string[0]+smallerOutput\n",
    "\n",
    "# Main\n",
    "string = input()\n",
    "print(removeX(string))"
   ]
  },
  {
   "cell_type": "markdown",
   "metadata": {},
   "source": [
    "##### Replacing Character"
   ]
  },
  {
   "cell_type": "code",
   "execution_count": 4,
   "metadata": {},
   "outputs": [
    {
     "name": "stdout",
     "output_type": "stream",
     "text": [
      "dsxddxx\n"
     ]
    }
   ],
   "source": [
    "def replaceChar(s,a,b):\n",
    "    if len(s) == 0:\n",
    "        return s\n",
    "    smallerOutput = replaceChar(s[1:], a,b)\n",
    "    \n",
    "    if s[0] == a:\n",
    "        return b+smallerOutput\n",
    "    else:\n",
    "        return s[0]+smallerOutput\n",
    "\n",
    "print(replaceChar(\"dscddcc\", 'c', 'x'))"
   ]
  },
  {
   "cell_type": "code",
   "execution_count": null,
   "metadata": {},
   "outputs": [],
   "source": []
  }
 ],
 "metadata": {
  "kernelspec": {
   "display_name": "Python 3",
   "language": "python",
   "name": "python3"
  },
  "language_info": {
   "codemirror_mode": {
    "name": "ipython",
    "version": 3
   },
   "file_extension": ".py",
   "mimetype": "text/x-python",
   "name": "python",
   "nbconvert_exporter": "python",
   "pygments_lexer": "ipython3",
   "version": "3.7.1"
  }
 },
 "nbformat": 4,
 "nbformat_minor": 2
}

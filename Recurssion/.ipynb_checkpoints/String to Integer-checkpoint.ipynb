{
 "cells": [
  {
   "cell_type": "markdown",
   "metadata": {},
   "source": [
    "###### String to Integer\n",
    "###### Write a recursive function to convert a given string into the number it represents. That is input will be a numeric string that contains only numbers, you need to convert the string into corresponding integer and return the answer."
   ]
  },
  {
   "cell_type": "code",
   "execution_count": 1,
   "metadata": {},
   "outputs": [
    {
     "name": "stdout",
     "output_type": "stream",
     "text": [
      "1234\n",
      "1234\n"
     ]
    }
   ],
   "source": [
    "\n",
    "n = input()\n",
    "\n",
    "def atoi(n):\n",
    "    \n",
    "    if len(n) == 0:\n",
    "        return 0\n",
    "    if len(n) == 1:\n",
    "        smallproblem = []\n",
    "    else: \n",
    "        smallproblem = n[1:]\n",
    "\n",
    "        \n",
    "    a = ord(n[0]) - ord('0')\n",
    "    k = len(smallproblem)\n",
    "    b = a*(10**k)\n",
    "\n",
    "    return b+atoi(smallproblem)\n",
    "\n",
    "    \n",
    "print(atoi(n))\n",
    "    "
   ]
  },
  {
   "cell_type": "code",
   "execution_count": 2,
   "metadata": {},
   "outputs": [
    {
     "data": {
      "text/plain": [
       "int"
      ]
     },
     "execution_count": 2,
     "metadata": {},
     "output_type": "execute_result"
    }
   ],
   "source": [
    "type(atoi(n))"
   ]
  },
  {
   "cell_type": "code",
   "execution_count": null,
   "metadata": {},
   "outputs": [],
   "source": []
  }
 ],
 "metadata": {
  "kernelspec": {
   "display_name": "Python 3",
   "language": "python",
   "name": "python3"
  },
  "language_info": {
   "codemirror_mode": {
    "name": "ipython",
    "version": 3
   },
   "file_extension": ".py",
   "mimetype": "text/x-python",
   "name": "python",
   "nbconvert_exporter": "python",
   "pygments_lexer": "ipython3",
   "version": "3.7.1"
  }
 },
 "nbformat": 4,
 "nbformat_minor": 2
}

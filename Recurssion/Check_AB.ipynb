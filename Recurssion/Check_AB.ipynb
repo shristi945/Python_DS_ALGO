{
 "cells": [
  {
   "cell_type": "markdown",
   "metadata": {},
   "source": [
    "###### Check AB\n",
    "###### Suppose you have a string made up of only 'a' and 'b'. Write a recursive function that checks if the string was generated using the following rules:\n",
    "###### a. The string begins with an 'a'\n",
    "###### b. Each 'a' is followed by nothing or an 'a' or \"bb\"\n",
    "###### c. Each \"bb\" is followed by nothing or an 'a'\n",
    "###### If all the rules are followed by the given string, return true otherwise return false."
   ]
  },
  {
   "cell_type": "code",
   "execution_count": 1,
   "metadata": {},
   "outputs": [
    {
     "name": "stdout",
     "output_type": "stream",
     "text": [
      "abbabba\n",
      "true\n"
     ]
    }
   ],
   "source": [
    "\n",
    "s = input()\n",
    "def check(s):\n",
    "    if len(s) == 0:\n",
    "        return True\n",
    "    if s[0] !='a':\n",
    "        return False\n",
    "    else:\n",
    "        if len(s) == 1:\n",
    "            return True\n",
    "        if len(s)>1 and s[1] == 'a':\n",
    "            return True and check(s[1:])\n",
    "        if len(s)>2 and s[1:3] == 'bb':\n",
    "            return True and check(s[3:])\n",
    "if check(s) == True:\n",
    "    print(\"true\")\n",
    "else:\n",
    "    print(\"false\")"
   ]
  }
 ],
 "metadata": {
  "kernelspec": {
   "display_name": "Python 3",
   "language": "python",
   "name": "python3"
  },
  "language_info": {
   "codemirror_mode": {
    "name": "ipython",
    "version": 3
   },
   "file_extension": ".py",
   "mimetype": "text/x-python",
   "name": "python",
   "nbconvert_exporter": "python",
   "pygments_lexer": "ipython3",
   "version": "3.7.1"
  }
 },
 "nbformat": 4,
 "nbformat_minor": 2
}

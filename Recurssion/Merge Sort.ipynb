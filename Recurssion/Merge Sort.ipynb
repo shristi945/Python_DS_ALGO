{
 "cells": [
  {
   "cell_type": "code",
   "execution_count": 3,
   "metadata": {},
   "outputs": [
    {
     "name": "stdout",
     "output_type": "stream",
     "text": [
      "5\n",
      "9 0 66 7 1\n",
      "0 1 7 9 66\n"
     ]
    }
   ],
   "source": [
    "def merge(s1, s2, arr):\n",
    "    k = 0\n",
    "    i = 0\n",
    "    j = 0\n",
    "    while i != len(s1) and j != len(s2):\n",
    "        if s1[i]>s2[j]:\n",
    "            arr[k] = s2[j]\n",
    "            j += 1\n",
    "            k += 1\n",
    "        else:\n",
    "            arr[k] = s1[i]\n",
    "            i += 1\n",
    "            k += 1\n",
    "    while j < len(s2):\n",
    "        arr[k] = s2[j]\n",
    "        j += 1\n",
    "        k += 1\n",
    "    while i < len(s1):\n",
    "        arr[k] = s1[i]\n",
    "        i += 1\n",
    "        k += 1\n",
    "\n",
    "\n",
    "def mergeSort(a):\n",
    "    # Please add your code here\n",
    "    if len(a) == 0 or len(a) == 1:\n",
    "        return\n",
    "    mid = len(a)//2\n",
    "    a1 = a[0:mid]\n",
    "    a2 = a[mid:]\n",
    "    mergeSort(a1)\n",
    "    mergeSort(a2)\n",
    "    merge(a1,a2,a)\n",
    "    \n",
    "    \n",
    "    \n",
    "# Main\n",
    "n=int(input())\n",
    "arr=list(int(i) for i in input().strip().split(' '))\n",
    "mergeSort(arr)\n",
    "print(*arr)\n"
   ]
  },
  {
   "cell_type": "code",
   "execution_count": null,
   "metadata": {},
   "outputs": [],
   "source": []
  }
 ],
 "metadata": {
  "kernelspec": {
   "display_name": "Python 3",
   "language": "python",
   "name": "python3"
  },
  "language_info": {
   "codemirror_mode": {
    "name": "ipython",
    "version": 3
   },
   "file_extension": ".py",
   "mimetype": "text/x-python",
   "name": "python",
   "nbconvert_exporter": "python",
   "pygments_lexer": "ipython3",
   "version": "3.7.1"
  }
 },
 "nbformat": 4,
 "nbformat_minor": 2
}

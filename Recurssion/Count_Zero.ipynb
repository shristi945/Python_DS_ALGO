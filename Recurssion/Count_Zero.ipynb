{
 "cells": [
  {
   "cell_type": "markdown",
   "metadata": {},
   "source": [
    "###### Count Zeros\n",
    "###### Given an integer n, count and return the number of zeros that are present in the given integer using recursion."
   ]
  },
  {
   "cell_type": "code",
   "execution_count": 1,
   "metadata": {},
   "outputs": [
    {
     "name": "stdout",
     "output_type": "stream",
     "text": [
      "10204\n",
      "2\n"
     ]
    }
   ],
   "source": [
    "\n",
    "n = int(input())\n",
    "bkp = n\n",
    "def zero(n):\n",
    "    global bkp\n",
    "    if n == 0 and n == bkp:\n",
    "        return 1\n",
    "    elif n == 0:\n",
    "        return 0\n",
    "    else:\n",
    "        ld = n%10\n",
    "        sp = n//10\n",
    "        if ld == 0:\n",
    "            return 1+zero(sp)\n",
    "        else:\n",
    "            return zero(sp)\n",
    "print(zero(n))"
   ]
  },
  {
   "cell_type": "code",
   "execution_count": null,
   "metadata": {},
   "outputs": [],
   "source": []
  }
 ],
 "metadata": {
  "kernelspec": {
   "display_name": "Python 3",
   "language": "python",
   "name": "python3"
  },
  "language_info": {
   "codemirror_mode": {
    "name": "ipython",
    "version": 3
   },
   "file_extension": ".py",
   "mimetype": "text/x-python",
   "name": "python",
   "nbconvert_exporter": "python",
   "pygments_lexer": "ipython3",
   "version": "3.7.1"
  }
 },
 "nbformat": 4,
 "nbformat_minor": 2
}

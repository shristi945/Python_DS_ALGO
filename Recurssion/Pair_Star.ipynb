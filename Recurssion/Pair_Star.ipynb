{
 "cells": [
  {
   "cell_type": "markdown",
   "metadata": {},
   "source": [
    "###### Pair star\n",
    "###### Given a string, compute recursively a new string where identical chars that are adjacent in the original string are separated from each other by a \"*\"."
   ]
  },
  {
   "cell_type": "code",
   "execution_count": 1,
   "metadata": {},
   "outputs": [
    {
     "name": "stdout",
     "output_type": "stream",
     "text": [
      "hello\n",
      "hel*lo\n"
     ]
    }
   ],
   "source": [
    "\n",
    "n = input()\n",
    "def pair_star(n, si):\n",
    "    if len(n) == 0:\n",
    "        return\n",
    "    if len(n)==1:\n",
    "        return n\n",
    "    if len(n)-1 == si:\n",
    "        return n[si]\n",
    "    if n[si] == n[si+1]:\n",
    "        return n[0:si+1]+\"*\"+pair_star(n[si+1:], 0)\n",
    "    else:\n",
    "        return n[si]+pair_star(n[si+1:], 0)\n",
    "    \n",
    "print(pair_star(n,0))"
   ]
  },
  {
   "cell_type": "code",
   "execution_count": null,
   "metadata": {},
   "outputs": [],
   "source": []
  }
 ],
 "metadata": {
  "kernelspec": {
   "display_name": "Python 3",
   "language": "python",
   "name": "python3"
  },
  "language_info": {
   "codemirror_mode": {
    "name": "ipython",
    "version": 3
   },
   "file_extension": ".py",
   "mimetype": "text/x-python",
   "name": "python",
   "nbconvert_exporter": "python",
   "pygments_lexer": "ipython3",
   "version": "3.7.1"
  }
 },
 "nbformat": 4,
 "nbformat_minor": 2
}

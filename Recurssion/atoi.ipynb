{
 "cells": [
  {
   "cell_type": "code",
   "execution_count": 22,
   "metadata": {},
   "outputs": [
    {
     "name": "stdout",
     "output_type": "stream",
     "text": [
      "1231\n",
      "1231\n"
     ]
    }
   ],
   "source": [
    "n = input()\n",
    "\n",
    "def atoi(n):\n",
    "    \n",
    "    if len(n) == 0:\n",
    "        return 0 \n",
    "    if len(n) == 1:\n",
    "        smallproblem = []\n",
    "    else: \n",
    "        smallproblem = n[1:]\n",
    "\n",
    "        \n",
    "    a = ord(n[0]) - ord('0')\n",
    "    k = len(smallproblem)\n",
    "    b = a*(10**k)\n",
    "\n",
    "    return b+atoi(smallproblem)\n",
    "\n",
    "    \n",
    "print(atoi(n))"
   ]
  },
  {
   "cell_type": "code",
   "execution_count": null,
   "metadata": {},
   "outputs": [],
   "source": []
  },
  {
   "cell_type": "code",
   "execution_count": null,
   "metadata": {},
   "outputs": [],
   "source": []
  }
 ],
 "metadata": {
  "kernelspec": {
   "display_name": "Python 3",
   "language": "python",
   "name": "python3"
  },
  "language_info": {
   "codemirror_mode": {
    "name": "ipython",
    "version": 3
   },
   "file_extension": ".py",
   "mimetype": "text/x-python",
   "name": "python",
   "nbconvert_exporter": "python",
   "pygments_lexer": "ipython3",
   "version": "3.7.1"
  }
 },
 "nbformat": 4,
 "nbformat_minor": 2
}

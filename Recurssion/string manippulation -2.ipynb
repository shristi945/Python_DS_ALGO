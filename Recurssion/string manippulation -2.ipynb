{
 "cells": [
  {
   "cell_type": "markdown",
   "metadata": {},
   "source": [
    "###### Suppose you have a string made up of only 'a' and 'b'. Write a recursive function that checks if the string was generated using the following rules:\n",
    "###### a. The string begins with an 'a'\n",
    "###### b. Each 'a' is followed by nothing or an 'a' or \"bb\"\n",
    "###### c. Each \"bb\" is followed by nothing or an 'a'\n",
    "###### If all the rules are followed by the given string, return true otherwise return false.\n",
    "###### Sample Input:\n",
    "###### abb\n",
    "###### Sample Output:\n",
    "###### true"
   ]
  },
  {
   "cell_type": "code",
   "execution_count": 2,
   "metadata": {},
   "outputs": [
    {
     "ename": "SyntaxError",
     "evalue": "invalid character in identifier (<ipython-input-2-d791421e5e4e>, line 3)",
     "output_type": "error",
     "traceback": [
      "\u001b[1;36m  File \u001b[1;32m\"<ipython-input-2-d791421e5e4e>\"\u001b[1;36m, line \u001b[1;32m3\u001b[0m\n\u001b[1;33m    if len(s) == 0:\u001b[0m\n\u001b[1;37m    ^\u001b[0m\n\u001b[1;31mSyntaxError\u001b[0m\u001b[1;31m:\u001b[0m invalid character in identifier\n"
     ]
    }
   ],
   "source": [
    "s = input()\n",
    "def check(s):\n",
    "    if len(s) == 0:\n",
    "        return True\n",
    "    if s[0] !='a':\n",
    "        return False\n",
    "    else:\n",
    "        if len(s) == 1:\n",
    "            return True\n",
    "        if len(s)>1 and s[1] == 'a':\n",
    "            return True and check(s[1:])\n",
    "        if len(s)>2 and s[1:3] == 'bb':\n",
    "            return True and check(s[3:])\n",
    "if check(s) == True:\n",
    "    print(\"true\")\n",
    "else:\n",
    "    print(\"false\")"
   ]
  },
  {
   "cell_type": "code",
   "execution_count": 1,
   "metadata": {},
   "outputs": [
    {
     "ename": "SyntaxError",
     "evalue": "invalid character in identifier (<ipython-input-1-d791421e5e4e>, line 3)",
     "output_type": "error",
     "traceback": [
      "\u001b[1;36m  File \u001b[1;32m\"<ipython-input-1-d791421e5e4e>\"\u001b[1;36m, line \u001b[1;32m3\u001b[0m\n\u001b[1;33m    if len(s) == 0:\u001b[0m\n\u001b[1;37m    ^\u001b[0m\n\u001b[1;31mSyntaxError\u001b[0m\u001b[1;31m:\u001b[0m invalid character in identifier\n"
     ]
    }
   ],
   "source": [
    "s = input()\n",
    "def check(s):\n",
    "    if len(s) == 0:\n",
    "        return True\n",
    "    if s[0] !='a':\n",
    "        return False\n",
    "    else:\n",
    "        if len(s) == 1:\n",
    "            return True\n",
    "        if len(s)>1 and s[1] == 'a':\n",
    "            return True and check(s[1:])\n",
    "        if len(s)>2 and s[1:3] == 'bb':\n",
    "            return True and check(s[3:])\n",
    "if check(s) == True:\n",
    "    print(\"true\")\n",
    "else:\n",
    "    print(\"false\")"
   ]
  },
  {
   "cell_type": "code",
   "execution_count": null,
   "metadata": {},
   "outputs": [],
   "source": []
  },
  {
   "cell_type": "code",
   "execution_count": null,
   "metadata": {},
   "outputs": [],
   "source": []
  }
 ],
 "metadata": {
  "kernelspec": {
   "display_name": "Python 3",
   "language": "python",
   "name": "python3"
  },
  "language_info": {
   "codemirror_mode": {
    "name": "ipython",
    "version": 3
   },
   "file_extension": ".py",
   "mimetype": "text/x-python",
   "name": "python",
   "nbconvert_exporter": "python",
   "pygments_lexer": "ipython3",
   "version": "3.7.1"
  }
 },
 "nbformat": 4,
 "nbformat_minor": 2
}

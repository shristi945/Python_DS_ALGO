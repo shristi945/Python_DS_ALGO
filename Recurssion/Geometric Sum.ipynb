{
 "cells": [
  {
   "cell_type": "markdown",
   "metadata": {},
   "source": [
    "###### Geometric Sum\n",
    "###### Given k, find the geometric sum i.e.\n",
    "###### 1 + 1/2 + 1/4 + 1/8 + ... + 1/(2^k) \n",
    "###### using recursion. Return the answer."
   ]
  },
  {
   "cell_type": "code",
   "execution_count": 1,
   "metadata": {},
   "outputs": [
    {
     "name": "stdout",
     "output_type": "stream",
     "text": [
      "3\n",
      "1.87500\n"
     ]
    }
   ],
   "source": [
    "## Read input as specified in the question.\n",
    "## Print output as specified in the question.\n",
    "\n",
    "\n",
    "k = int(input())\n",
    "\n",
    "def gs(k):\n",
    "    \n",
    "    if k == 0:\n",
    "        return 1\n",
    "    n = 1/(2**k)\n",
    "    return n+gs(k-1)\n",
    "output = '%.5f' % gs(k)\n",
    "print(output)"
   ]
  },
  {
   "cell_type": "code",
   "execution_count": null,
   "metadata": {},
   "outputs": [],
   "source": []
  }
 ],
 "metadata": {
  "kernelspec": {
   "display_name": "Python 3",
   "language": "python",
   "name": "python3"
  },
  "language_info": {
   "codemirror_mode": {
    "name": "ipython",
    "version": 3
   },
   "file_extension": ".py",
   "mimetype": "text/x-python",
   "name": "python",
   "nbconvert_exporter": "python",
   "pygments_lexer": "ipython3",
   "version": "3.7.1"
  }
 },
 "nbformat": 4,
 "nbformat_minor": 2
}

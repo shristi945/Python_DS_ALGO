{
 "cells": [
  {
   "cell_type": "markdown",
   "metadata": {},
   "source": [
    "### Solving simple recurssion problem: finding X**n, fibbonacci series, if list is sortted or not, sum of array, search a number, searching first index of a number and searching last index of number to search all by using recurssion."
   ]
  },
  {
   "cell_type": "code",
   "execution_count": 1,
   "metadata": {},
   "outputs": [
    {
     "name": "stdout",
     "output_type": "stream",
     "text": [
      "4 3\n",
      "64\n"
     ]
    }
   ],
   "source": [
    "\n",
    "x, n = map(int, input().split())\n",
    "\n",
    "\n",
    "def power (x,n):\n",
    "    \n",
    "    if n == 0:\n",
    "        return 1\n",
    "    sample_output = pow(x,(n-1))\n",
    "    return x * sample_output\n",
    "\n",
    "print(power(x,n))"
   ]
  },
  {
   "cell_type": "code",
   "execution_count": null,
   "metadata": {},
   "outputs": [],
   "source": [
    "def num(n):\n",
    "    if n == 0:\n",
    "        return \n",
    "    \n",
    "    num(n-1)\n",
    "    print(n)\n",
    "    return\n",
    "    \n",
    "    \n",
    "num (5)"
   ]
  },
  {
   "cell_type": "code",
   "execution_count": null,
   "metadata": {},
   "outputs": [],
   "source": [
    "def fib(n):\n",
    "    if n == 1 or n == 2:\n",
    "        return 1\n",
    "    f1 = fib(n-1)\n",
    "    f2 = fib(n-2)\n",
    "    output = f1+f2\n",
    "    return output\n",
    "    \n",
    "\n"
   ]
  },
  {
   "cell_type": "code",
   "execution_count": null,
   "metadata": {},
   "outputs": [],
   "source": [
    "fib(4)"
   ]
  },
  {
   "cell_type": "code",
   "execution_count": null,
   "metadata": {},
   "outputs": [],
   "source": [
    "def isSortted(num):\n",
    "    l = len(num)\n",
    "    if l == 1 or l == 0:\n",
    "        return True\n",
    "    if num[0] > num[1]:\n",
    "        return False\n",
    "    else:\n",
    "        return isSortted(num[1:])\n",
    "        \n",
    "n = [1,2,30,4,5]\n",
    "print(isSortted(n))\n",
    "        \n",
    "        "
   ]
  },
  {
   "cell_type": "code",
   "execution_count": null,
   "metadata": {},
   "outputs": [],
   "source": [
    "\n",
    "def sumArray(arr):\n",
    "    # Please add your code here\n",
    "    if len(arr) == 0:\n",
    "        return 0\n",
    "    \n",
    "    return arr[0] + sumArray(arr[1:])\n",
    "\n",
    "    \n",
    "    \n",
    "\n",
    "# Main\n",
    "from sys import setrecursionlimit\n",
    "setrecursionlimit(11000)\n",
    "n=int(input())\n",
    "arr=list(int(i) for i in input().strip().split(' '))\n",
    "print(sumArray(arr))\n"
   ]
  },
  {
   "cell_type": "code",
   "execution_count": null,
   "metadata": {},
   "outputs": [],
   "source": [
    "def checkNumber(arr, x):\n",
    "    # Please add your code here\n",
    "    if len(arr) == 0:\n",
    "        return False\n",
    "    \n",
    "    if arr[0] == x and len(arr)>0:\n",
    "        return True\n",
    "    return checkNumber(arr[1:], x)\n",
    "\n",
    "# Main\n",
    "from sys import setrecursionlimit\n",
    "setrecursionlimit(11000)\n",
    "n=int(input())\n",
    "arr=list(int(i) for i in input().strip().split(' '))\n",
    "x=int(input())\n",
    "if checkNumber(arr, x):\n",
    "    print('true')\n",
    "else:\n",
    "    print('false')\n",
    "\n"
   ]
  },
  {
   "cell_type": "code",
   "execution_count": null,
   "metadata": {},
   "outputs": [],
   "source": [
    "num = [7,2,3,9,7,88]\n",
    "checkNumber(num, 10)"
   ]
  },
  {
   "cell_type": "code",
   "execution_count": null,
   "metadata": {},
   "outputs": [],
   "source": [
    "\n",
    "def firstIndex(arr, x):\n",
    "    # Please add your code here\n",
    "\n",
    "    l = len(arr)\n",
    "    if len(arr) == 0:\n",
    "        return -1\n",
    "    if arr[0] == x:\n",
    "        return 0\n",
    "    else:\n",
    "        smallListOutput = firstIndex(arr[1:], x)\n",
    "        \n",
    "        if smallListOutput == -1:\n",
    "            return -1\n",
    "        else:\n",
    "            return smallListOutput + 1\n",
    "\n",
    "# Main\n",
    "from sys import setrecursionlimit\n",
    "setrecursionlimit(11000)\n",
    "n=int(input())\n",
    "arr=list(int(i) for i in input().strip().split(' '))\n",
    "x=int(input())\n",
    "print(firstIndex(arr, x))\n"
   ]
  },
  {
   "cell_type": "code",
   "execution_count": null,
   "metadata": {},
   "outputs": [],
   "source": [
    "\n",
    "def firstIndex(arr, x, si):\n",
    "    # Please add your code here\n",
    "    l = len(arr)\n",
    "    if si == l:\n",
    "        return -1\n",
    "    if arr[si] == x:\n",
    "        return si\n",
    "    smallerOutput = firstIndex(arr, x, si+1)\n",
    "    \n",
    "    return smallerOutput\n",
    "\n",
    "\n",
    "# Main\n",
    "from sys import setrecursionlimit\n",
    "setrecursionlimit(11000)\n",
    "n=int(input())\n",
    "arr=list(int(i) for i in input().strip().split(' '))\n",
    "x=int(input())\n",
    "print(firstIndex(arr, x, 0))\n"
   ]
  },
  {
   "cell_type": "code",
   "execution_count": null,
   "metadata": {},
   "outputs": [],
   "source": [
    "def lastIndex(arr,x):\n",
    "    l = len(arr)\n",
    "    if l == 0:\n",
    "        return -1\n",
    "    if lastIndex(arr[1:],x) == -1:\n",
    "        if arr[0] == x:\n",
    "            return 0\n",
    "        else:\n",
    "            return -1\n",
    "    else:\n",
    "        return lastIndex(arr[1:],x)+1\n",
    "    \n",
    "\n"
   ]
  },
  {
   "cell_type": "code",
   "execution_count": null,
   "metadata": {},
   "outputs": [],
   "source": [
    "# Main\n",
    "from sys import setrecursionlimit\n",
    "setrecursionlimit(11000)\n",
    "n=int(input())\n",
    "arr=list(int(i) for i in input().strip().split(' '))\n",
    "x=int(input())\n",
    "print(lastIndex(arr, x))"
   ]
  },
  {
   "cell_type": "code",
   "execution_count": 1,
   "metadata": {},
   "outputs": [],
   "source": [
    "def lastIndexb(arr,x,si):\n",
    "    l = len(arr)\n",
    "    if l == si:\n",
    "        return -1\n",
    "    if lastIndexb(arr,x,si+1) == -1:\n",
    "        if arr[si] == x:\n",
    "            return si\n",
    "        else:\n",
    "            return -1\n",
    "    else:\n",
    "        return lastIndexb(arr,x,si+1)"
   ]
  },
  {
   "cell_type": "code",
   "execution_count": 2,
   "metadata": {},
   "outputs": [
    {
     "name": "stdout",
     "output_type": "stream",
     "text": [
      "30\n",
      "34 57 82 41 65 35 82 27 36 12 6 40 66 99 25 29 22 25 12 24 65 15 5 43 28 33 76 32 13 95\n",
      "13\n",
      "28\n"
     ]
    }
   ],
   "source": [
    "# Main\n",
    "\n",
    "n=int(input())\n",
    "arr=list(int(i) for i in input().strip().split(' '))\n",
    "x=int(input())\n",
    "print(lastIndexb(arr, x, 0))"
   ]
  },
  {
   "cell_type": "code",
   "execution_count": null,
   "metadata": {},
   "outputs": [],
   "source": [
    "34 57 82 41 65 35 82 27 36 12 6 40 66 99 25 29 22 25 12 24 65 15 5 43 28 33 76 32 13 95 22 84 71 23 28 7 65 94 18 47 9 42 61 73"
   ]
  },
  {
   "cell_type": "markdown",
   "metadata": {},
   "source": [
    "### Recussion-2:  problems are: replacing character , removing charachter, removing duplicates, binary search"
   ]
  },
  {
   "cell_type": "code",
   "execution_count": 3,
   "metadata": {},
   "outputs": [],
   "source": [
    "def replaceChar(s,a,b):\n",
    "    if len(s) == 0:\n",
    "        return s\n",
    "    smallerOutput = replaceChar(s[1:], a,b)\n",
    "    \n",
    "    if s[0] == a:\n",
    "        return b+smallerOutput\n",
    "    else:\n",
    "        return s[0]+smallerOutput\n",
    "        "
   ]
  },
  {
   "cell_type": "code",
   "execution_count": 6,
   "metadata": {},
   "outputs": [
    {
     "name": "stdout",
     "output_type": "stream",
     "text": [
      "dsxddxx\n"
     ]
    }
   ],
   "source": [
    "print(replaceChar(\"dscddcc\", 'c', 'x'))"
   ]
  },
  {
   "cell_type": "code",
   "execution_count": 9,
   "metadata": {},
   "outputs": [
    {
     "name": "stdout",
     "output_type": "stream",
     "text": [
      "xaxb\n",
      "ab\n"
     ]
    }
   ],
   "source": [
    "def removeX(string): \n",
    "    if len(string) == 0:\n",
    "        return string\n",
    "    smallerOutput = removeX(string[1:])\n",
    "    \n",
    "    if string[0] == 'x':\n",
    "        return \"\"+smallerOutput\n",
    "    else:\n",
    "        return string[0]+smallerOutput\n",
    "\n",
    "# Main\n",
    "string = input()\n",
    "print(removeX(string))"
   ]
  },
  {
   "cell_type": "code",
   "execution_count": 1,
   "metadata": {},
   "outputs": [],
   "source": [
    "def replacePi(string):\n",
    "    if len(string) == 1:\n",
    "        return string\n",
    "    \n",
    "    if string[:2] == 'pi':\n",
    "        smallOutput = replacePi(string[2:])\n",
    "        return \"3.14\"+smallOutput\n",
    "    else:\n",
    "        smallOutput = replacePi(string[1:])\n",
    "        return string[0]+smallOutput\n",
    "    \n",
    "\n",
    "    "
   ]
  },
  {
   "cell_type": "code",
   "execution_count": 4,
   "metadata": {},
   "outputs": [
    {
     "data": {
      "text/plain": [
       "'abci'"
      ]
     },
     "execution_count": 4,
     "metadata": {},
     "output_type": "execute_result"
    }
   ],
   "source": [
    "replacePi(\"abci\")"
   ]
  },
  {
   "cell_type": "code",
   "execution_count": 31,
   "metadata": {},
   "outputs": [],
   "source": [
    "def removeDupli(string):\n",
    "    if len(string) == 1:\n",
    "        return string\n",
    "    smallOutput = removeDupli(string[1:])\n",
    "    if string[0] == string[1]:\n",
    "        return smallOutput\n",
    "    else:\n",
    "        return string[0]+ smallOutput"
   ]
  },
  {
   "cell_type": "code",
   "execution_count": 36,
   "metadata": {},
   "outputs": [
    {
     "data": {
      "text/plain": [
       "'abchcba'"
      ]
     },
     "execution_count": 36,
     "metadata": {},
     "output_type": "execute_result"
    }
   ],
   "source": [
    "removeDupli(\"aaaabchhhhhccba\")"
   ]
  },
  {
   "cell_type": "code",
   "execution_count": 4,
   "metadata": {},
   "outputs": [],
   "source": [
    "\n",
    "g_lis = list(\"aaabccba\")\n",
    "lis = []\n",
    "lis.append(g_lis[0])\n",
    "for i in g_lis:\n",
    "    if lis[-1] != i:\n",
    "        lis.append(i)\n"
   ]
  },
  {
   "cell_type": "code",
   "execution_count": 9,
   "metadata": {},
   "outputs": [
    {
     "data": {
      "text/plain": [
       "2"
      ]
     },
     "execution_count": 9,
     "metadata": {},
     "output_type": "execute_result"
    }
   ],
   "source": [
    "lis\n",
    "4//2"
   ]
  },
  {
   "cell_type": "code",
   "execution_count": 28,
   "metadata": {},
   "outputs": [],
   "source": [
    "def binary_search(arr, x, si, ei):\n",
    "    \n",
    "    if si>ei:\n",
    "        return -1\n",
    "    mid = (si+ei)//2\n",
    "    if arr[mid] > x:\n",
    "        return binary_search(arr, x, si, mid-1)\n",
    "    elif arr[mid]<x:\n",
    "        return binary_search(arr, x, mid+1, ei)\n",
    "    elif arr[mid] == x:\n",
    "        return mid\n",
    "    "
   ]
  },
  {
   "cell_type": "code",
   "execution_count": 30,
   "metadata": {},
   "outputs": [
    {
     "name": "stdout",
     "output_type": "stream",
     "text": [
      "-1\n"
     ]
    }
   ],
   "source": [
    "arr = [1,44,65,76,88]\n",
    "print(binary_search(arr, 7, 0, 4))"
   ]
  },
  {
   "cell_type": "code",
   "execution_count": null,
   "metadata": {},
   "outputs": [],
   "source": []
  }
 ],
 "metadata": {
  "kernelspec": {
   "display_name": "Python 3",
   "language": "python",
   "name": "python3"
  },
  "language_info": {
   "codemirror_mode": {
    "name": "ipython",
    "version": 3
   },
   "file_extension": ".py",
   "mimetype": "text/x-python",
   "name": "python",
   "nbconvert_exporter": "python",
   "pygments_lexer": "ipython3",
   "version": "3.7.1"
  }
 },
 "nbformat": 4,
 "nbformat_minor": 2
}

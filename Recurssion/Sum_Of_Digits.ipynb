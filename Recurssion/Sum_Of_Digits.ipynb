{
 "cells": [
  {
   "cell_type": "markdown",
   "metadata": {},
   "source": [
    "###### Sum of digits (recursive)\n",
    "###### Send Feedback\n",
    "###### Write a recursive function that returns the sum of the digits of a given integer.\n",
    "###### Sample Input :\n",
    "###### 12345\n",
    "###### Sample Output :\n",
    "###### 15"
   ]
  },
  {
   "cell_type": "code",
   "execution_count": 1,
   "metadata": {},
   "outputs": [
    {
     "name": "stdout",
     "output_type": "stream",
     "text": [
      "12345\n",
      "15\n"
     ]
    }
   ],
   "source": [
    "## Read input as specified in the question.\n",
    "## Print output as specified in the question.\n",
    "string = input()\n",
    "digi = list(string)\n",
    "\n",
    "def d_sum(digi):\n",
    "    if len(digi) == 0:\n",
    "        return 0\n",
    "    return int(digi[0])+int(d_sum(digi[1:]))\n",
    "\n",
    "print (int(d_sum(digi)))"
   ]
  },
  {
   "cell_type": "code",
   "execution_count": null,
   "metadata": {},
   "outputs": [],
   "source": []
  }
 ],
 "metadata": {
  "kernelspec": {
   "display_name": "Python 3",
   "language": "python",
   "name": "python3"
  },
  "language_info": {
   "codemirror_mode": {
    "name": "ipython",
    "version": 3
   },
   "file_extension": ".py",
   "mimetype": "text/x-python",
   "name": "python",
   "nbconvert_exporter": "python",
   "pygments_lexer": "ipython3",
   "version": "3.7.1"
  }
 },
 "nbformat": 4,
 "nbformat_minor": 2
}

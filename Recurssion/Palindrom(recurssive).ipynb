{
 "cells": [
  {
   "cell_type": "code",
   "execution_count": 1,
   "metadata": {},
   "outputs": [
    {
     "name": "stdout",
     "output_type": "stream",
     "text": [
      "aa\n",
      "true\n"
     ]
    }
   ],
   "source": [
    "string = input()\n",
    "def palin(string, si, ei):\n",
    "    \n",
    "    if si == ei:\n",
    "        return \"true\"\n",
    "    if string[si] == string[ei] and (si+1 < ei+1):\n",
    "        return palin(string, si+1, ei-1)\n",
    "    elif string[si] == string[ei] and (si+1 > ei+1):\n",
    "        return \"true\"\n",
    "    else:\n",
    "        return \"false\"\n",
    "    \n",
    "print(palin(string, 0, len(string)-1)) "
   ]
  },
  {
   "cell_type": "code",
   "execution_count": null,
   "metadata": {},
   "outputs": [],
   "source": []
  }
 ],
 "metadata": {
  "kernelspec": {
   "display_name": "Python 3",
   "language": "python",
   "name": "python3"
  },
  "language_info": {
   "codemirror_mode": {
    "name": "ipython",
    "version": 3
   },
   "file_extension": ".py",
   "mimetype": "text/x-python",
   "name": "python",
   "nbconvert_exporter": "python",
   "pygments_lexer": "ipython3",
   "version": "3.7.1"
  }
 },
 "nbformat": 4,
 "nbformat_minor": 2
}

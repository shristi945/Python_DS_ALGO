{
 "cells": [
  {
   "cell_type": "code",
   "execution_count": 1,
   "metadata": {},
   "outputs": [
    {
     "name": "stdout",
     "output_type": "stream",
     "text": [
      "abc\n",
      "\n",
      "a\n",
      "b\n",
      "ab\n",
      "c\n",
      "ac\n",
      "bc\n",
      "abc\n"
     ]
    }
   ],
   "source": [
    "# return all subsequence in string\n",
    "\n",
    "def subsequences(string):\n",
    "    #Implement Your Code Here\n",
    "    if len(string) == 0:\n",
    "        return [\"\"]\n",
    "    smallOutput = subsequences(string[1:])\n",
    "    \n",
    "    biggerOutput = []\n",
    "    \n",
    "    for ele in smallOutput:\n",
    "        biggerOutput.append(ele)\n",
    "        biggerOutput.append(string[0]+ele)\n",
    "    \n",
    "    return biggerOutput\n",
    "    \n",
    "    \n",
    "string = input()\n",
    "ans = subsequences(string)\n",
    "for ele in ans:\n",
    "    print(ele)\n"
   ]
  },
  {
   "cell_type": "code",
   "execution_count": 16,
   "metadata": {},
   "outputs": [
    {
     "data": {
      "text/plain": [
       "1"
      ]
     },
     "execution_count": 16,
     "metadata": {},
     "output_type": "execute_result"
    }
   ],
   "source": [
    "# return Minimum of array using recursion\n",
    "def returnMin(a):\n",
    "    if len(a) == 0:\n",
    "        return \n",
    "    if len(a) == 1:\n",
    "        return a[0]\n",
    "    \n",
    "    smallOutput = returnMin(a[1:])\n",
    "    return min(a[0], smallOutput)\n",
    "returnMin([1, 2, 6])"
   ]
  },
  {
   "cell_type": "code",
   "execution_count": 14,
   "metadata": {},
   "outputs": [],
   "source": [
    "# not returning value instead printing it\n",
    "\n",
    "def printMini(a,mini):\n",
    "    if len(a) == 1:\n",
    "        print(mini)\n",
    "        return\n",
    "    mini = min(a[0], mini)\n",
    "    printMini(a[1:], mini)"
   ]
  },
  {
   "cell_type": "code",
   "execution_count": 15,
   "metadata": {},
   "outputs": [
    {
     "name": "stdout",
     "output_type": "stream",
     "text": [
      "2\n"
     ]
    }
   ],
   "source": [
    "from sys import maxsize as MAX_VALUE\n",
    "printMini([10, 2, 3, 4], MAX_VALUE)"
   ]
  },
  {
   "cell_type": "code",
   "execution_count": 27,
   "metadata": {},
   "outputs": [
    {
     "name": "stdout",
     "output_type": "stream",
     "text": [
      "\n",
      "d\n",
      "c\n",
      "cd\n",
      "b\n",
      "bd\n",
      "bc\n",
      "bcd\n",
      "a\n",
      "ad\n",
      "ac\n",
      "acd\n",
      "ab\n",
      "abd\n",
      "abc\n",
      "abcd\n"
     ]
    }
   ],
   "source": [
    "# print all subsequence in a list/string\n",
    "\n",
    "def subseq(string, output):\n",
    "    if string == \"\":\n",
    "        print(output)\n",
    "        return\n",
    "    \n",
    "    # excluding first char\n",
    "    subseq(string[1:], output)\n",
    "    \n",
    "    # including first char\n",
    "    new_output = output + string[0]\n",
    "    subseq(string[1:], new_output)\n",
    "    \n",
    "subseq('abcd', \"\")"
   ]
  },
  {
   "cell_type": "code",
   "execution_count": 28,
   "metadata": {},
   "outputs": [
    {
     "name": "stdout",
     "output_type": "stream",
     "text": [
      "23\n",
      "ad\n",
      "bd\n",
      "cd\n",
      "ae\n",
      "be\n",
      "ce\n",
      "af\n",
      "bf\n",
      "cf\n"
     ]
    }
   ],
   "source": [
    "# keypad problem by printing instead of returning\n",
    "\n",
    "def keypad(n, d, output = \"\"):\n",
    "    if n == 0:\n",
    "        print(output)\n",
    "        return \n",
    "    smallN = n//10\n",
    "    lastN = n % 10\n",
    "    \n",
    "    for ele in d[lastN]:\n",
    "        keypad(smallN, d, ele+output)\n",
    "        \n",
    "        \n",
    "d = {2: 'abc', 3: 'def', 4: 'ghi', 5: 'jkl', 6: 'mno', 7: 'pqrs', 8: 'tuv', 9: 'wxyz'}\n",
    "n = int(input())\n",
    "keypad(n, d)"
   ]
  },
  {
   "cell_type": "code",
   "execution_count": 38,
   "metadata": {},
   "outputs": [],
   "source": [
    "# Return subsets sum to K\n",
    "def subsetSumK(arr, k):\n",
    "    \n",
    "    # Base Case\n",
    "    \n",
    "    if len(arr) == 0:\n",
    "        if k == 0:\n",
    "            return [[]]\n",
    "        else:\n",
    "            return []\n",
    "     \n",
    "    #includig\n",
    "    o1 = subsetSumK(arr[1:], (k-arr[0]))\n",
    "    # excluding\n",
    "    o2 = subsetSumK(arr[1:], k)\n",
    "    output = ((len(o1))+len(o2)) *[0]\n",
    "    index = 0\n",
    "    \n",
    "    for i in range(len(o2)):\n",
    "        output[index] = o2[i]\n",
    "        index += 1\n",
    "        \n",
    "    for i in range(len(o1)):\n",
    "        output[index] = (len(o1[i])+1) *[0]\n",
    "        output[index][0] = arr[0]\n",
    "        \n",
    "        for j in range(len(o1[i])):\n",
    "            output[index][j+1] = o1[i][j]\n",
    "        index += 1\n",
    "    \n",
    "    return output"
   ]
  },
  {
   "cell_type": "code",
   "execution_count": 40,
   "metadata": {},
   "outputs": [],
   "source": [
    "arr = [3,2,5,1,4,6]\n",
    "o = subsetSumK(arr, 8)"
   ]
  },
  {
   "cell_type": "code",
   "execution_count": 41,
   "metadata": {},
   "outputs": [
    {
     "data": {
      "text/plain": [
       "[[2, 6], [2, 5, 1], [3, 1, 4], [3, 5]]"
      ]
     },
     "execution_count": 41,
     "metadata": {},
     "output_type": "execute_result"
    }
   ],
   "source": [
    "o"
   ]
  },
  {
   "cell_type": "code",
   "execution_count": null,
   "metadata": {},
   "outputs": [],
   "source": []
  },
  {
   "cell_type": "code",
   "execution_count": null,
   "metadata": {},
   "outputs": [],
   "source": []
  },
  {
   "cell_type": "code",
   "execution_count": null,
   "metadata": {},
   "outputs": [],
   "source": []
  },
  {
   "cell_type": "code",
   "execution_count": null,
   "metadata": {},
   "outputs": [],
   "source": []
  },
  {
   "cell_type": "code",
   "execution_count": null,
   "metadata": {},
   "outputs": [],
   "source": []
  }
 ],
 "metadata": {
  "kernelspec": {
   "display_name": "Python 3",
   "language": "python",
   "name": "python3"
  },
  "language_info": {
   "codemirror_mode": {
    "name": "ipython",
    "version": 3
   },
   "file_extension": ".py",
   "mimetype": "text/x-python",
   "name": "python",
   "nbconvert_exporter": "python",
   "pygments_lexer": "ipython3",
   "version": "3.7.4"
  }
 },
 "nbformat": 4,
 "nbformat_minor": 2
}

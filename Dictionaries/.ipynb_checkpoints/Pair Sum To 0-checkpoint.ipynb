{
 "cells": [
  {
   "cell_type": "markdown",
   "metadata": {},
   "source": [
    "###### Given a random integer array A of size N. Find and print the pair of elements in the array which sum to 0.\n",
    "###### Array A can contain duplicate elements.\n",
    "###### While printing a pair, print the smaller element first.\n",
    "###### That is, if a valid pair is (6, -6) print \"-6 6\". There is no constraint that out of 5 pairs which have to be printed in 1st line. You can print pairs in any order, just be careful about the order of elements in a pair."
   ]
  },
  {
   "cell_type": "code",
   "execution_count": 1,
   "metadata": {},
   "outputs": [
    {
     "name": "stdout",
     "output_type": "stream",
     "text": [
      "5\n",
      "2 1 -2 2 3\n",
      "-2 2\n",
      "-2 2\n"
     ]
    }
   ],
   "source": [
    "\n",
    "def pairSum0(l):\n",
    "#Implement Your Code Here\n",
    "    \n",
    "    d = dict()\n",
    "    for ele in l:\n",
    "        if ele in d:\n",
    "            d[ele] += 1\n",
    "        else:\n",
    "            d[ele] = 1\n",
    "            \n",
    "        neg = -ele\n",
    "        if neg in d:\n",
    "            for i in range(d[neg]):\n",
    "                print(min(neg,ele), max(neg, ele))\n",
    "            \n",
    "            \n",
    "            \n",
    "            \n",
    "n=int(input())\n",
    "l=list(int(i) for i in input().strip().split(' '))\n",
    "pairSum0(l)"
   ]
  },
  {
   "cell_type": "code",
   "execution_count": null,
   "metadata": {},
   "outputs": [],
   "source": []
  }
 ],
 "metadata": {
  "kernelspec": {
   "display_name": "Python 3",
   "language": "python",
   "name": "python3"
  },
  "language_info": {
   "codemirror_mode": {
    "name": "ipython",
    "version": 3
   },
   "file_extension": ".py",
   "mimetype": "text/x-python",
   "name": "python",
   "nbconvert_exporter": "python",
   "pygments_lexer": "ipython3",
   "version": "3.7.1"
  }
 },
 "nbformat": 4,
 "nbformat_minor": 2
}

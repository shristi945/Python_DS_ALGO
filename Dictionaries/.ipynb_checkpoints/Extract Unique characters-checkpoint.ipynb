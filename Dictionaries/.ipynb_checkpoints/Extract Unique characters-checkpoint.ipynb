{
 "cells": [
  {
   "cell_type": "markdown",
   "metadata": {},
   "source": [
    "###### Given a string, you need to remove all the duplicates. That means, the output string should contain each character only once. The respective order of characters should remain same"
   ]
  },
  {
   "cell_type": "code",
   "execution_count": 1,
   "metadata": {},
   "outputs": [
    {
     "name": "stdout",
     "output_type": "stream",
     "text": [
      "aaaac\n",
      "ac\n"
     ]
    }
   ],
   "source": [
    "def uniqueChars(string):\n",
    "    # Please add your code here\n",
    "    d = dict()\n",
    "    res = []\n",
    "    for char in string:\n",
    "        if char not in d:\n",
    "            d[char] = 1\n",
    "            res.append(char)\n",
    "        else:\n",
    "            d[char] = 0\n",
    "    res = \"\".join(res)\n",
    "    return res\n",
    "    # Main\n",
    "string = input()\n",
    "print(uniqueChars(string))\n"
   ]
  },
  {
   "cell_type": "code",
   "execution_count": null,
   "metadata": {},
   "outputs": [],
   "source": []
  }
 ],
 "metadata": {
  "kernelspec": {
   "display_name": "Python 3",
   "language": "python",
   "name": "python3"
  },
  "language_info": {
   "codemirror_mode": {
    "name": "ipython",
    "version": 3
   },
   "file_extension": ".py",
   "mimetype": "text/x-python",
   "name": "python",
   "nbconvert_exporter": "python",
   "pygments_lexer": "ipython3",
   "version": "3.7.1"
  }
 },
 "nbformat": 4,
 "nbformat_minor": 2
}

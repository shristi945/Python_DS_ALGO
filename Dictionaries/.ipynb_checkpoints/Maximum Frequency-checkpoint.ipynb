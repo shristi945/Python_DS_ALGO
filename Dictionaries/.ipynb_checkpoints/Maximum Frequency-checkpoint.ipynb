{
 "cells": [
  {
   "cell_type": "markdown",
   "metadata": {},
   "source": [
    "###### You are given with an array of integers that contain numbers in random order. Write a program to find and return the number which occurs maximum times in the given input.\n",
    "###### If more than one element occurs same number of times in the input, return the element which is present in the input first"
   ]
  },
  {
   "cell_type": "code",
   "execution_count": 2,
   "metadata": {},
   "outputs": [
    {
     "name": "stdout",
     "output_type": "stream",
     "text": [
      "thi sis weird many many of og of\n",
      "2\n",
      "many\n",
      "of\n"
     ]
    }
   ],
   "source": [
    "def maxFreq(l):\n",
    "    # Please add your code here\n",
    "    d = dict()\n",
    "    for ele in l:\n",
    "        d[ele] = d.get(ele, 0) + 1\n",
    "    \n",
    "    max_value = l[0]\n",
    "    \n",
    "    \n",
    "    for num in l:\n",
    "        if d[num]>d[max_value]:\n",
    "            max_value=num\n",
    "    return max_value\n",
    "       \n",
    "        \n",
    "\n",
    "# Main\n",
    "n=int(input())\n",
    "l=list(int(i) for i in input().strip().split(' '))\n",
    "print(maxFreq(l))\n"
   ]
  },
  {
   "cell_type": "code",
   "execution_count": null,
   "metadata": {},
   "outputs": [],
   "source": []
  }
 ],
 "metadata": {
  "kernelspec": {
   "display_name": "Python 3",
   "language": "python",
   "name": "python3"
  },
  "language_info": {
   "codemirror_mode": {
    "name": "ipython",
    "version": 3
   },
   "file_extension": ".py",
   "mimetype": "text/x-python",
   "name": "python",
   "nbconvert_exporter": "python",
   "pygments_lexer": "ipython3",
   "version": "3.7.1"
  }
 },
 "nbformat": 4,
 "nbformat_minor": 2
}

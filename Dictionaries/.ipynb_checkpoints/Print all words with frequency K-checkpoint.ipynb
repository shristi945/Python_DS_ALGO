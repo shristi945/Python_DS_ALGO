{
 "cells": [
  {
   "cell_type": "code",
   "execution_count": 2,
   "metadata": {},
   "outputs": [
    {
     "name": "stdout",
     "output_type": "stream",
     "text": [
      "thi sis weird many many of og of\n",
      "2\n",
      "many\n",
      "of\n"
     ]
    }
   ],
   "source": [
    "user_string = input()\n",
    "user_k = int(input())\n",
    "\n",
    "words = user_string.split()\n",
    "d = {}\n",
    "\n",
    "for ele in words:\n",
    "    if ele in d:\n",
    "        d[ele] += 1\n",
    "    else:\n",
    "        d[ele] = 1\n",
    "for key, value in d.items():\n",
    "    if value == user_k:\n",
    "        print(key)"
   ]
  },
  {
   "cell_type": "code",
   "execution_count": null,
   "metadata": {},
   "outputs": [],
   "source": []
  }
 ],
 "metadata": {
  "kernelspec": {
   "display_name": "Python 3",
   "language": "python",
   "name": "python3"
  },
  "language_info": {
   "codemirror_mode": {
    "name": "ipython",
    "version": 3
   },
   "file_extension": ".py",
   "mimetype": "text/x-python",
   "name": "python",
   "nbconvert_exporter": "python",
   "pygments_lexer": "ipython3",
   "version": "3.7.1"
  }
 },
 "nbformat": 4,
 "nbformat_minor": 2
}
